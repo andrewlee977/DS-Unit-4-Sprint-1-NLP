{
 "cells": [
  {
   "cell_type": "markdown",
   "metadata": {
    "id": "RRotfn8eSXwR"
   },
   "source": [
    "<img align=\"left\" src=\"https://lever-client-logos.s3.amazonaws.com/864372b1-534c-480e-acd5-9711f850815c-1524247202159.png\" width=200>\n",
    "<br></br>\n",
    "<br></br>\n",
    "\n",
    "# Natural Language Processing (NLP)\n",
    "## *Data Science Unit 4 Sprint 1 Assignment 1*\n",
    "\n",
    "Your goal in this assignment: find the attributes of the best & worst coffee shops in the dataset. The text is fairly raw: dates in the review, extra words in the `star_rating` column, etc. You'll probably want to clean that stuff up for a better analysis. \n",
    "\n",
    "Analyze the corpus of text using text visualizations of token frequency. Try cleaning the data as much as possible. Try the following techniques: \n",
    "- Lemmatization\n",
    "- Custom stopword removal\n",
    "\n",
    "Keep in mind the attributes of good tokens. Once you have a solid baseline, layer in the star rating in your visualization(s). Key part of this assignment - produce a write-up of the attributes of the best and worst coffee shops. Based on your analysis, what makes the best the best and the worst the worst. Use graphs and numbesr from your analysis to support your conclusions. There should be plenty of markdown cells! :coffee:"
   ]
  },
  {
   "cell_type": "code",
   "execution_count": 1,
   "metadata": {
    "colab": {
     "base_uri": "https://localhost:8080/",
     "height": 321
    },
    "id": "imdbb26hSXwS",
    "outputId": "2e29b074-51b2-4c79-b66f-52b826f7d7c4"
   },
   "outputs": [
    {
     "data": {
      "image/jpeg": "[encoded data removed]",
      "text/html": [
       "\n",
       "        <iframe\n",
       "            width=\"400\"\n",
       "            height=\"300\"\n",
       "            src=\"https://www.youtube.com/embed/Jml7NVYm8cs\"\n",
       "            frameborder=\"0\"\n",
       "            allowfullscreen\n",
       "        ></iframe>\n",
       "        "
      ],
      "text/plain": [
       "<IPython.lib.display.YouTubeVideo at 0x7f444b129e50>"
      ]
     },
     "execution_count": 1,
     "metadata": {
      "tags": []
     },
     "output_type": "execute_result"
    }
   ],
   "source": [
    "from IPython.display import YouTubeVideo\n",
    "\n",
    "YouTubeVideo('Jml7NVYm8cs')"
   ]
  },
  {
   "cell_type": "code",
   "execution_count": 2,
   "metadata": {
    "colab": {
     "base_uri": "https://localhost:8080/",
     "height": 35
    },
    "id": "8OduhFGNSXwT",
    "outputId": "f99b387c-3a24-4399-d8ee-f5149549e2a8"
   },
   "outputs": [
    {
     "data": {
      "application/vnd.google.colaboratory.intrinsic+json": {
       "type": "string"
      },
      "text/plain": [
       "'/content'"
      ]
     },
     "execution_count": 2,
     "metadata": {
      "tags": []
     },
     "output_type": "execute_result"
    }
   ],
   "source": [
    "%pwd"
   ]
  },
  {
   "cell_type": "code",
   "execution_count": 3,
   "metadata": {
    "colab": {
     "base_uri": "https://localhost:8080/",
     "height": 195
    },
    "id": "yoRmSYiXSXwT",
    "outputId": "4478c6a4-446a-40c5-cae4-f7f292f91f66"
   },
   "outputs": [
    {
     "data": {
      "text/html": [
       "<div>\n",
       "<style scoped>\n",
       "    .dataframe tbody tr th:only-of-type {\n",
       "        vertical-align: middle;\n",
       "    }\n",
       "\n",
       "    .dataframe tbody tr th {\n",
       "        vertical-align: top;\n",
       "    }\n",
       "\n",
       "    .dataframe thead th {\n",
       "        text-align: right;\n",
       "    }\n",
       "</style>\n",
       "<table border=\"1\" class=\"dataframe\">\n",
       "  <thead>\n",
       "    <tr style=\"text-align: right;\">\n",
       "      <th></th>\n",
       "      <th>coffee_shop_name</th>\n",
       "      <th>full_review_text</th>\n",
       "      <th>star_rating</th>\n",
       "    </tr>\n",
       "  </thead>\n",
       "  <tbody>\n",
       "    <tr>\n",
       "      <th>0</th>\n",
       "      <td>The Factory - Cafe With a Soul</td>\n",
       "      <td>11/25/2016 1 check-in Love love loved the atm...</td>\n",
       "      <td>5.0 star rating</td>\n",
       "    </tr>\n",
       "    <tr>\n",
       "      <th>1</th>\n",
       "      <td>The Factory - Cafe With a Soul</td>\n",
       "      <td>12/2/2016 Listed in Date Night: Austin, Ambia...</td>\n",
       "      <td>4.0 star rating</td>\n",
       "    </tr>\n",
       "    <tr>\n",
       "      <th>2</th>\n",
       "      <td>The Factory - Cafe With a Soul</td>\n",
       "      <td>11/30/2016 1 check-in Listed in Brunch Spots ...</td>\n",
       "      <td>4.0 star rating</td>\n",
       "    </tr>\n",
       "    <tr>\n",
       "      <th>3</th>\n",
       "      <td>The Factory - Cafe With a Soul</td>\n",
       "      <td>11/25/2016 Very cool decor! Good drinks Nice ...</td>\n",
       "      <td>2.0 star rating</td>\n",
       "    </tr>\n",
       "    <tr>\n",
       "      <th>4</th>\n",
       "      <td>The Factory - Cafe With a Soul</td>\n",
       "      <td>12/3/2016 1 check-in They are located within ...</td>\n",
       "      <td>4.0 star rating</td>\n",
       "    </tr>\n",
       "  </tbody>\n",
       "</table>\n",
       "</div>"
      ],
      "text/plain": [
       "                  coffee_shop_name  ...        star_rating\n",
       "0  The Factory - Cafe With a Soul   ...   5.0 star rating \n",
       "1  The Factory - Cafe With a Soul   ...   4.0 star rating \n",
       "2  The Factory - Cafe With a Soul   ...   4.0 star rating \n",
       "3  The Factory - Cafe With a Soul   ...   2.0 star rating \n",
       "4  The Factory - Cafe With a Soul   ...   4.0 star rating \n",
       "\n",
       "[5 rows x 3 columns]"
      ]
     },
     "execution_count": 3,
     "metadata": {
      "tags": []
     },
     "output_type": "execute_result"
    }
   ],
   "source": [
    "import pandas as pd\n",
    "\n",
    "url = \"https://raw.githubusercontent.com/LambdaSchool/DS-Unit-4-Sprint-1-NLP/main/module1-text-data/data/yelp_coffeeshop_review_data.csv\"\n",
    "\n",
    "shops = pd.read_csv(url)\n",
    "shops.head()"
   ]
  },
  {
   "cell_type": "markdown",
   "metadata": {
    "id": "N5WQu-ZlSXwU"
   },
   "source": [
    "## How do we want to analyze these coffee shop tokens? \n",
    "\n",
    "- Overall Word / Token Count\n",
    "- View Counts by Rating \n",
    "- *Hint:* a 'bad' coffee shops has a rating betweeen 1 & 3 based on the distribution of ratings. A 'good' coffee shop is a 4 or 5. "
   ]
  },
  {
   "cell_type": "code",
   "execution_count": 4,
   "metadata": {
    "id": "KFtvxb0MSXwU"
   },
   "outputs": [],
   "source": [
    "import re\n",
    "\n",
    "def tokenize(text):\n",
    "    non_alpha = '[^a-zA-z ]'\n",
    "    replace_with = \"\"\n",
    "    clean_text = re.sub(non_alpha, replace_with, text)\n",
    "    \n",
    "    clean_tokens = clean_text.lower().split()\n",
    "    \n",
    "    return clean_tokens"
   ]
  },
  {
   "cell_type": "code",
   "execution_count": 5,
   "metadata": {
    "id": "RoLKwtNESXwV"
   },
   "outputs": [],
   "source": [
    "shops['tokens'] = shops['full_review_text'].apply(tokenize)"
   ]
  },
  {
   "cell_type": "code",
   "execution_count": 6,
   "metadata": {
    "colab": {
     "base_uri": "https://localhost:8080/",
     "height": 402
    },
    "id": "XVL46lfWSXwV",
    "outputId": "1a0dc56b-a37a-419a-f523-ad9af9f36b72"
   },
   "outputs": [
    {
     "data": {
      "text/html": [
       "<div>\n",
       "<style scoped>\n",
       "    .dataframe tbody tr th:only-of-type {\n",
       "        vertical-align: middle;\n",
       "    }\n",
       "\n",
       "    .dataframe tbody tr th {\n",
       "        vertical-align: top;\n",
       "    }\n",
       "\n",
       "    .dataframe thead th {\n",
       "        text-align: right;\n",
       "    }\n",
       "</style>\n",
       "<table border=\"1\" class=\"dataframe\">\n",
       "  <thead>\n",
       "    <tr style=\"text-align: right;\">\n",
       "      <th></th>\n",
       "      <th>coffee_shop_name</th>\n",
       "      <th>full_review_text</th>\n",
       "      <th>star_rating</th>\n",
       "      <th>tokens</th>\n",
       "    </tr>\n",
       "  </thead>\n",
       "  <tbody>\n",
       "    <tr>\n",
       "      <th>0</th>\n",
       "      <td>The Factory - Cafe With a Soul</td>\n",
       "      <td>11/25/2016 1 check-in Love love loved the atm...</td>\n",
       "      <td>5.0 star rating</td>\n",
       "      <td>[checkin, love, love, loved, the, atmosphere, ...</td>\n",
       "    </tr>\n",
       "    <tr>\n",
       "      <th>1</th>\n",
       "      <td>The Factory - Cafe With a Soul</td>\n",
       "      <td>12/2/2016 Listed in Date Night: Austin, Ambia...</td>\n",
       "      <td>4.0 star rating</td>\n",
       "      <td>[listed, in, date, night, austin, ambiance, in...</td>\n",
       "    </tr>\n",
       "    <tr>\n",
       "      <th>2</th>\n",
       "      <td>The Factory - Cafe With a Soul</td>\n",
       "      <td>11/30/2016 1 check-in Listed in Brunch Spots ...</td>\n",
       "      <td>4.0 star rating</td>\n",
       "      <td>[checkin, listed, in, brunch, spots, i, loved,...</td>\n",
       "    </tr>\n",
       "    <tr>\n",
       "      <th>3</th>\n",
       "      <td>The Factory - Cafe With a Soul</td>\n",
       "      <td>11/25/2016 Very cool decor! Good drinks Nice ...</td>\n",
       "      <td>2.0 star rating</td>\n",
       "      <td>[very, cool, decor, good, drinks, nice, seatin...</td>\n",
       "    </tr>\n",
       "    <tr>\n",
       "      <th>4</th>\n",
       "      <td>The Factory - Cafe With a Soul</td>\n",
       "      <td>12/3/2016 1 check-in They are located within ...</td>\n",
       "      <td>4.0 star rating</td>\n",
       "      <td>[checkin, they, are, located, within, the, nor...</td>\n",
       "    </tr>\n",
       "    <tr>\n",
       "      <th>...</th>\n",
       "      <td>...</td>\n",
       "      <td>...</td>\n",
       "      <td>...</td>\n",
       "      <td>...</td>\n",
       "    </tr>\n",
       "    <tr>\n",
       "      <th>7611</th>\n",
       "      <td>The Steeping Room</td>\n",
       "      <td>2/19/2015 I actually step into this restauran...</td>\n",
       "      <td>4.0 star rating</td>\n",
       "      <td>[i, actually, step, into, this, restaurant, by...</td>\n",
       "    </tr>\n",
       "    <tr>\n",
       "      <th>7612</th>\n",
       "      <td>The Steeping Room</td>\n",
       "      <td>1/21/2016 Ok, The Steeping Room IS awesome. H...</td>\n",
       "      <td>5.0 star rating</td>\n",
       "      <td>[ok, the, steeping, room, is, awesome, how, do...</td>\n",
       "    </tr>\n",
       "    <tr>\n",
       "      <th>7613</th>\n",
       "      <td>The Steeping Room</td>\n",
       "      <td>4/30/2015 Loved coming here for tea, and the ...</td>\n",
       "      <td>4.0 star rating</td>\n",
       "      <td>[loved, coming, here, for, tea, and, the, atmo...</td>\n",
       "    </tr>\n",
       "    <tr>\n",
       "      <th>7614</th>\n",
       "      <td>The Steeping Room</td>\n",
       "      <td>8/2/2015 The food is just average. The booths...</td>\n",
       "      <td>3.0 star rating</td>\n",
       "      <td>[the, food, is, just, average, the, booths, di...</td>\n",
       "    </tr>\n",
       "    <tr>\n",
       "      <th>7615</th>\n",
       "      <td>The Steeping Room</td>\n",
       "      <td>5/23/2015 I finally stopped in for lunch with...</td>\n",
       "      <td>4.0 star rating</td>\n",
       "      <td>[i, finally, stopped, in, for, lunch, with, my...</td>\n",
       "    </tr>\n",
       "  </tbody>\n",
       "</table>\n",
       "<p>7616 rows × 4 columns</p>\n",
       "</div>"
      ],
      "text/plain": [
       "                     coffee_shop_name  ...                                             tokens\n",
       "0     The Factory - Cafe With a Soul   ...  [checkin, love, love, loved, the, atmosphere, ...\n",
       "1     The Factory - Cafe With a Soul   ...  [listed, in, date, night, austin, ambiance, in...\n",
       "2     The Factory - Cafe With a Soul   ...  [checkin, listed, in, brunch, spots, i, loved,...\n",
       "3     The Factory - Cafe With a Soul   ...  [very, cool, decor, good, drinks, nice, seatin...\n",
       "4     The Factory - Cafe With a Soul   ...  [checkin, they, are, located, within, the, nor...\n",
       "...                               ...  ...                                                ...\n",
       "7611               The Steeping Room   ...  [i, actually, step, into, this, restaurant, by...\n",
       "7612               The Steeping Room   ...  [ok, the, steeping, room, is, awesome, how, do...\n",
       "7613               The Steeping Room   ...  [loved, coming, here, for, tea, and, the, atmo...\n",
       "7614               The Steeping Room   ...  [the, food, is, just, average, the, booths, di...\n",
       "7615               The Steeping Room   ...  [i, finally, stopped, in, for, lunch, with, my...\n",
       "\n",
       "[7616 rows x 4 columns]"
      ]
     },
     "execution_count": 6,
     "metadata": {
      "tags": []
     },
     "output_type": "execute_result"
    }
   ],
   "source": [
    "shops"
   ]
  },
  {
   "cell_type": "code",
   "execution_count": 7,
   "metadata": {
    "id": "C_UmooZNSXwW"
   },
   "outputs": [],
   "source": [
    "def clean_rating(rating):\n",
    "    non_num = '[a-zA-Z ]'\n",
    "    replace_with = \"\"\n",
    "    clean_text = re.sub(non_num, replace_with, rating)\n",
    "    return clean_text"
   ]
  },
  {
   "cell_type": "code",
   "execution_count": 8,
   "metadata": {
    "id": "qMvW31PmSXwW"
   },
   "outputs": [],
   "source": [
    "shops['star_rating'] = shops['star_rating'].apply(clean_rating).astype(float)"
   ]
  },
  {
   "cell_type": "code",
   "execution_count": 9,
   "metadata": {
    "colab": {
     "base_uri": "https://localhost:8080/",
     "height": 402
    },
    "id": "okA5ZCwRSXwW",
    "outputId": "f5201c2f-eac4-40a9-f34b-d8fb5b4d980e"
   },
   "outputs": [
    {
     "data": {
      "text/html": [
       "<div>\n",
       "<style scoped>\n",
       "    .dataframe tbody tr th:only-of-type {\n",
       "        vertical-align: middle;\n",
       "    }\n",
       "\n",
       "    .dataframe tbody tr th {\n",
       "        vertical-align: top;\n",
       "    }\n",
       "\n",
       "    .dataframe thead th {\n",
       "        text-align: right;\n",
       "    }\n",
       "</style>\n",
       "<table border=\"1\" class=\"dataframe\">\n",
       "  <thead>\n",
       "    <tr style=\"text-align: right;\">\n",
       "      <th></th>\n",
       "      <th>coffee_shop_name</th>\n",
       "      <th>full_review_text</th>\n",
       "      <th>star_rating</th>\n",
       "      <th>tokens</th>\n",
       "    </tr>\n",
       "  </thead>\n",
       "  <tbody>\n",
       "    <tr>\n",
       "      <th>0</th>\n",
       "      <td>The Factory - Cafe With a Soul</td>\n",
       "      <td>11/25/2016 1 check-in Love love loved the atm...</td>\n",
       "      <td>5.0</td>\n",
       "      <td>[checkin, love, love, loved, the, atmosphere, ...</td>\n",
       "    </tr>\n",
       "    <tr>\n",
       "      <th>1</th>\n",
       "      <td>The Factory - Cafe With a Soul</td>\n",
       "      <td>12/2/2016 Listed in Date Night: Austin, Ambia...</td>\n",
       "      <td>4.0</td>\n",
       "      <td>[listed, in, date, night, austin, ambiance, in...</td>\n",
       "    </tr>\n",
       "    <tr>\n",
       "      <th>2</th>\n",
       "      <td>The Factory - Cafe With a Soul</td>\n",
       "      <td>11/30/2016 1 check-in Listed in Brunch Spots ...</td>\n",
       "      <td>4.0</td>\n",
       "      <td>[checkin, listed, in, brunch, spots, i, loved,...</td>\n",
       "    </tr>\n",
       "    <tr>\n",
       "      <th>3</th>\n",
       "      <td>The Factory - Cafe With a Soul</td>\n",
       "      <td>11/25/2016 Very cool decor! Good drinks Nice ...</td>\n",
       "      <td>2.0</td>\n",
       "      <td>[very, cool, decor, good, drinks, nice, seatin...</td>\n",
       "    </tr>\n",
       "    <tr>\n",
       "      <th>4</th>\n",
       "      <td>The Factory - Cafe With a Soul</td>\n",
       "      <td>12/3/2016 1 check-in They are located within ...</td>\n",
       "      <td>4.0</td>\n",
       "      <td>[checkin, they, are, located, within, the, nor...</td>\n",
       "    </tr>\n",
       "    <tr>\n",
       "      <th>...</th>\n",
       "      <td>...</td>\n",
       "      <td>...</td>\n",
       "      <td>...</td>\n",
       "      <td>...</td>\n",
       "    </tr>\n",
       "    <tr>\n",
       "      <th>7611</th>\n",
       "      <td>The Steeping Room</td>\n",
       "      <td>2/19/2015 I actually step into this restauran...</td>\n",
       "      <td>4.0</td>\n",
       "      <td>[i, actually, step, into, this, restaurant, by...</td>\n",
       "    </tr>\n",
       "    <tr>\n",
       "      <th>7612</th>\n",
       "      <td>The Steeping Room</td>\n",
       "      <td>1/21/2016 Ok, The Steeping Room IS awesome. H...</td>\n",
       "      <td>5.0</td>\n",
       "      <td>[ok, the, steeping, room, is, awesome, how, do...</td>\n",
       "    </tr>\n",
       "    <tr>\n",
       "      <th>7613</th>\n",
       "      <td>The Steeping Room</td>\n",
       "      <td>4/30/2015 Loved coming here for tea, and the ...</td>\n",
       "      <td>4.0</td>\n",
       "      <td>[loved, coming, here, for, tea, and, the, atmo...</td>\n",
       "    </tr>\n",
       "    <tr>\n",
       "      <th>7614</th>\n",
       "      <td>The Steeping Room</td>\n",
       "      <td>8/2/2015 The food is just average. The booths...</td>\n",
       "      <td>3.0</td>\n",
       "      <td>[the, food, is, just, average, the, booths, di...</td>\n",
       "    </tr>\n",
       "    <tr>\n",
       "      <th>7615</th>\n",
       "      <td>The Steeping Room</td>\n",
       "      <td>5/23/2015 I finally stopped in for lunch with...</td>\n",
       "      <td>4.0</td>\n",
       "      <td>[i, finally, stopped, in, for, lunch, with, my...</td>\n",
       "    </tr>\n",
       "  </tbody>\n",
       "</table>\n",
       "<p>7616 rows × 4 columns</p>\n",
       "</div>"
      ],
      "text/plain": [
       "                     coffee_shop_name  ...                                             tokens\n",
       "0     The Factory - Cafe With a Soul   ...  [checkin, love, love, loved, the, atmosphere, ...\n",
       "1     The Factory - Cafe With a Soul   ...  [listed, in, date, night, austin, ambiance, in...\n",
       "2     The Factory - Cafe With a Soul   ...  [checkin, listed, in, brunch, spots, i, loved,...\n",
       "3     The Factory - Cafe With a Soul   ...  [very, cool, decor, good, drinks, nice, seatin...\n",
       "4     The Factory - Cafe With a Soul   ...  [checkin, they, are, located, within, the, nor...\n",
       "...                               ...  ...                                                ...\n",
       "7611               The Steeping Room   ...  [i, actually, step, into, this, restaurant, by...\n",
       "7612               The Steeping Room   ...  [ok, the, steeping, room, is, awesome, how, do...\n",
       "7613               The Steeping Room   ...  [loved, coming, here, for, tea, and, the, atmo...\n",
       "7614               The Steeping Room   ...  [the, food, is, just, average, the, booths, di...\n",
       "7615               The Steeping Room   ...  [i, finally, stopped, in, for, lunch, with, my...\n",
       "\n",
       "[7616 rows x 4 columns]"
      ]
     },
     "execution_count": 9,
     "metadata": {
      "tags": []
     },
     "output_type": "execute_result"
    }
   ],
   "source": [
    "shops"
   ]
  },
  {
   "cell_type": "code",
   "execution_count": 10,
   "metadata": {
    "colab": {
     "base_uri": "https://localhost:8080/"
    },
    "id": "qsKbSkQxSXwX",
    "outputId": "ce09474f-c23b-48d3-e2d8-5a9b0646ce29"
   },
   "outputs": [
    {
     "data": {
      "text/plain": [
       "[('the', 34807),\n",
       " ('and', 26650),\n",
       " ('a', 22756),\n",
       " ('i', 20249),\n",
       " ('to', 17164),\n",
       " ('of', 12600),\n",
       " ('is', 11999),\n",
       " ('coffee', 10354),\n",
       " ('was', 9707),\n",
       " ('in', 9546),\n",
       " ('it', 9379),\n",
       " ('for', 8679),\n",
       " ('this', 6583),\n",
       " ('but', 6501),\n",
       " ('with', 6332),\n",
       " ('my', 6202),\n",
       " ('they', 6165),\n",
       " ('that', 6151),\n",
       " ('you', 5847),\n",
       " ('place', 5426)]"
      ]
     },
     "execution_count": 10,
     "metadata": {
      "tags": []
     },
     "output_type": "execute_result"
    }
   ],
   "source": [
    "from collections import Counter\n",
    "\n",
    "word_counter = Counter()\n",
    "\n",
    "shops[\"tokens\"].apply(lambda token: word_counter.update(token));\n",
    "\n",
    "word_counter.most_common(20)"
   ]
  },
  {
   "cell_type": "code",
   "execution_count": 11,
   "metadata": {
    "id": "HtCwyBDYSXwX"
   },
   "outputs": [],
   "source": [
    "def count(tokens):\n",
    "    \n",
    "    word_counts = Counter()\n",
    "    \n",
    "    appears_in = Counter()\n",
    "\n",
    "    total_docs = len(tokens)\n",
    "\n",
    "    for token in tokens: \n",
    "        word_counts.update(token)\n",
    "        appears_in.update(set(token))\n",
    "\n",
    "    temp = zip(word_counts.keys(), word_counts.values())\n",
    "    wc = pd.DataFrame(temp, columns = ['word', 'count'])\n",
    "\n",
    "    wc['rank'] = wc['count'].rank(method='first', ascending=False)\n",
    "    total = wc['count'].sum()\n",
    "\n",
    "    wc['pct_total'] = wc['count'].apply(lambda token_count: token_count / total * 100)\n",
    " \n",
    "    wc = wc.sort_values(by='rank')\n",
    "    wc['cul_pct_total'] = wc['pct_total'].cumsum()\n",
    "\n",
    "    t2 = zip(appears_in.keys(), appears_in.values())\n",
    "    ac = pd.DataFrame(t2, columns=['word', 'appears_in'])\n",
    "    \n",
    "    wc = ac.merge(wc, on='word')\n",
    "\n",
    "    wc['appears_in_pct'] = wc['appears_in'].apply(lambda x: x / total_docs * 100)\n",
    "\n",
    "    return wc.sort_values(by='rank')"
   ]
  },
  {
   "cell_type": "code",
   "execution_count": 12,
   "metadata": {
    "colab": {
     "base_uri": "https://localhost:8080/",
     "height": 195
    },
    "id": "ohyhe-FTSXwX",
    "outputId": "27b16505-2967-45ec-943f-cca529de6a80"
   },
   "outputs": [
    {
     "data": {
      "text/html": [
       "<div>\n",
       "<style scoped>\n",
       "    .dataframe tbody tr th:only-of-type {\n",
       "        vertical-align: middle;\n",
       "    }\n",
       "\n",
       "    .dataframe tbody tr th {\n",
       "        vertical-align: top;\n",
       "    }\n",
       "\n",
       "    .dataframe thead th {\n",
       "        text-align: right;\n",
       "    }\n",
       "</style>\n",
       "<table border=\"1\" class=\"dataframe\">\n",
       "  <thead>\n",
       "    <tr style=\"text-align: right;\">\n",
       "      <th></th>\n",
       "      <th>word</th>\n",
       "      <th>appears_in</th>\n",
       "      <th>count</th>\n",
       "      <th>rank</th>\n",
       "      <th>pct_total</th>\n",
       "      <th>cul_pct_total</th>\n",
       "      <th>appears_in_pct</th>\n",
       "    </tr>\n",
       "  </thead>\n",
       "  <tbody>\n",
       "    <tr>\n",
       "      <th>40</th>\n",
       "      <td>the</td>\n",
       "      <td>6847</td>\n",
       "      <td>34807</td>\n",
       "      <td>1.0</td>\n",
       "      <td>4.540782</td>\n",
       "      <td>4.540782</td>\n",
       "      <td>89.902836</td>\n",
       "    </tr>\n",
       "    <tr>\n",
       "      <th>45</th>\n",
       "      <td>and</td>\n",
       "      <td>6864</td>\n",
       "      <td>26650</td>\n",
       "      <td>2.0</td>\n",
       "      <td>3.476652</td>\n",
       "      <td>8.017434</td>\n",
       "      <td>90.126050</td>\n",
       "    </tr>\n",
       "    <tr>\n",
       "      <th>25</th>\n",
       "      <td>a</td>\n",
       "      <td>6246</td>\n",
       "      <td>22756</td>\n",
       "      <td>3.0</td>\n",
       "      <td>2.968657</td>\n",
       "      <td>10.986091</td>\n",
       "      <td>82.011555</td>\n",
       "    </tr>\n",
       "    <tr>\n",
       "      <th>11</th>\n",
       "      <td>i</td>\n",
       "      <td>5532</td>\n",
       "      <td>20249</td>\n",
       "      <td>4.0</td>\n",
       "      <td>2.641603</td>\n",
       "      <td>13.627694</td>\n",
       "      <td>72.636555</td>\n",
       "    </tr>\n",
       "    <tr>\n",
       "      <th>1</th>\n",
       "      <td>to</td>\n",
       "      <td>5653</td>\n",
       "      <td>17164</td>\n",
       "      <td>5.0</td>\n",
       "      <td>2.239147</td>\n",
       "      <td>15.866841</td>\n",
       "      <td>74.225315</td>\n",
       "    </tr>\n",
       "  </tbody>\n",
       "</table>\n",
       "</div>"
      ],
      "text/plain": [
       "   word  appears_in  count  rank  pct_total  cul_pct_total  appears_in_pct\n",
       "40  the        6847  34807   1.0   4.540782       4.540782       89.902836\n",
       "45  and        6864  26650   2.0   3.476652       8.017434       90.126050\n",
       "25    a        6246  22756   3.0   2.968657      10.986091       82.011555\n",
       "11    i        5532  20249   4.0   2.641603      13.627694       72.636555\n",
       "1    to        5653  17164   5.0   2.239147      15.866841       74.225315"
      ]
     },
     "execution_count": 12,
     "metadata": {
      "tags": []
     },
     "output_type": "execute_result"
    }
   ],
   "source": [
    "wc = count(shops['tokens'])\n",
    "wc.head()"
   ]
  },
  {
   "cell_type": "code",
   "execution_count": 13,
   "metadata": {
    "colab": {
     "base_uri": "https://localhost:8080/",
     "height": 195
    },
    "id": "vGwxZZPYSXwY",
    "outputId": "8ef9de40-d7b3-4ac8-d4e2-0eac9b24e8d2"
   },
   "outputs": [
    {
     "data": {
      "text/html": [
       "<div>\n",
       "<style scoped>\n",
       "    .dataframe tbody tr th:only-of-type {\n",
       "        vertical-align: middle;\n",
       "    }\n",
       "\n",
       "    .dataframe tbody tr th {\n",
       "        vertical-align: top;\n",
       "    }\n",
       "\n",
       "    .dataframe thead th {\n",
       "        text-align: right;\n",
       "    }\n",
       "</style>\n",
       "<table border=\"1\" class=\"dataframe\">\n",
       "  <thead>\n",
       "    <tr style=\"text-align: right;\">\n",
       "      <th></th>\n",
       "      <th>word</th>\n",
       "      <th>appears_in</th>\n",
       "      <th>count</th>\n",
       "      <th>rank</th>\n",
       "      <th>pct_total</th>\n",
       "      <th>cul_pct_total</th>\n",
       "      <th>appears_in_pct</th>\n",
       "    </tr>\n",
       "  </thead>\n",
       "  <tbody>\n",
       "    <tr>\n",
       "      <th>19874</th>\n",
       "      <td>roomier</td>\n",
       "      <td>1</td>\n",
       "      <td>1</td>\n",
       "      <td>19876.0</td>\n",
       "      <td>0.00013</td>\n",
       "      <td>99.999478</td>\n",
       "      <td>0.01313</td>\n",
       "    </tr>\n",
       "    <tr>\n",
       "      <th>19875</th>\n",
       "      <td>windowed</td>\n",
       "      <td>1</td>\n",
       "      <td>1</td>\n",
       "      <td>19877.0</td>\n",
       "      <td>0.00013</td>\n",
       "      <td>99.999609</td>\n",
       "      <td>0.01313</td>\n",
       "    </tr>\n",
       "    <tr>\n",
       "      <th>19876</th>\n",
       "      <td>actuality</td>\n",
       "      <td>1</td>\n",
       "      <td>1</td>\n",
       "      <td>19878.0</td>\n",
       "      <td>0.00013</td>\n",
       "      <td>99.999739</td>\n",
       "      <td>0.01313</td>\n",
       "    </tr>\n",
       "    <tr>\n",
       "      <th>19877</th>\n",
       "      <td>crass</td>\n",
       "      <td>1</td>\n",
       "      <td>1</td>\n",
       "      <td>19879.0</td>\n",
       "      <td>0.00013</td>\n",
       "      <td>99.999870</td>\n",
       "      <td>0.01313</td>\n",
       "    </tr>\n",
       "    <tr>\n",
       "      <th>19878</th>\n",
       "      <td>digestion</td>\n",
       "      <td>1</td>\n",
       "      <td>1</td>\n",
       "      <td>19880.0</td>\n",
       "      <td>0.00013</td>\n",
       "      <td>100.000000</td>\n",
       "      <td>0.01313</td>\n",
       "    </tr>\n",
       "  </tbody>\n",
       "</table>\n",
       "</div>"
      ],
      "text/plain": [
       "            word  appears_in  count  ...  pct_total  cul_pct_total  appears_in_pct\n",
       "19874    roomier           1      1  ...    0.00013      99.999478         0.01313\n",
       "19875   windowed           1      1  ...    0.00013      99.999609         0.01313\n",
       "19876  actuality           1      1  ...    0.00013      99.999739         0.01313\n",
       "19877      crass           1      1  ...    0.00013      99.999870         0.01313\n",
       "19878  digestion           1      1  ...    0.00013     100.000000         0.01313\n",
       "\n",
       "[5 rows x 7 columns]"
      ]
     },
     "execution_count": 13,
     "metadata": {
      "tags": []
     },
     "output_type": "execute_result"
    }
   ],
   "source": [
    "wc.tail()"
   ]
  },
  {
   "cell_type": "code",
   "execution_count": 16,
   "metadata": {
    "colab": {
     "base_uri": "https://localhost:8080/"
    },
    "id": "voPGnwJHTByQ",
    "outputId": "b7aa46d5-c3ca-45f9-a9bc-f017f31490a4"
   },
   "outputs": [
    {
     "name": "stdout",
     "output_type": "stream",
     "text": [
      "Collecting en_core_web_lg==2.2.5\n",
      "\u001b[?25l  Downloading https://github.com/explosion/spacy-models/releases/download/en_core_web_lg-2.2.5/en_core_web_lg-2.2.5.tar.gz (827.9MB)\n",
      "\u001b[K     |████████████████████████████████| 827.9MB 1.2MB/s \n",
      "\u001b[?25hRequirement already satisfied: spacy>=2.2.2 in /usr/local/lib/python3.7/dist-packages (from en_core_web_lg==2.2.5) (2.2.4)\n",
      "Requirement already satisfied: preshed<3.1.0,>=3.0.2 in /usr/local/lib/python3.7/dist-packages (from spacy>=2.2.2->en_core_web_lg==2.2.5) (3.0.5)\n",
      "Requirement already satisfied: thinc==7.4.0 in /usr/local/lib/python3.7/dist-packages (from spacy>=2.2.2->en_core_web_lg==2.2.5) (7.4.0)\n",
      "Requirement already satisfied: catalogue<1.1.0,>=0.0.7 in /usr/local/lib/python3.7/dist-packages (from spacy>=2.2.2->en_core_web_lg==2.2.5) (1.0.0)\n",
      "Requirement already satisfied: blis<0.5.0,>=0.4.0 in /usr/local/lib/python3.7/dist-packages (from spacy>=2.2.2->en_core_web_lg==2.2.5) (0.4.1)\n",
      "Requirement already satisfied: wasabi<1.1.0,>=0.4.0 in /usr/local/lib/python3.7/dist-packages (from spacy>=2.2.2->en_core_web_lg==2.2.5) (0.8.2)\n",
      "Requirement already satisfied: murmurhash<1.1.0,>=0.28.0 in /usr/local/lib/python3.7/dist-packages (from spacy>=2.2.2->en_core_web_lg==2.2.5) (1.0.5)\n",
      "Requirement already satisfied: tqdm<5.0.0,>=4.38.0 in /usr/local/lib/python3.7/dist-packages (from spacy>=2.2.2->en_core_web_lg==2.2.5) (4.41.1)\n",
      "Requirement already satisfied: plac<1.2.0,>=0.9.6 in /usr/local/lib/python3.7/dist-packages (from spacy>=2.2.2->en_core_web_lg==2.2.5) (1.1.3)\n",
      "Requirement already satisfied: srsly<1.1.0,>=1.0.2 in /usr/local/lib/python3.7/dist-packages (from spacy>=2.2.2->en_core_web_lg==2.2.5) (1.0.5)\n",
      "Requirement already satisfied: setuptools in /usr/local/lib/python3.7/dist-packages (from spacy>=2.2.2->en_core_web_lg==2.2.5) (57.0.0)\n",
      "Requirement already satisfied: requests<3.0.0,>=2.13.0 in /usr/local/lib/python3.7/dist-packages (from spacy>=2.2.2->en_core_web_lg==2.2.5) (2.23.0)\n",
      "Requirement already satisfied: numpy>=1.15.0 in /usr/local/lib/python3.7/dist-packages (from spacy>=2.2.2->en_core_web_lg==2.2.5) (1.19.5)\n",
      "Requirement already satisfied: cymem<2.1.0,>=2.0.2 in /usr/local/lib/python3.7/dist-packages (from spacy>=2.2.2->en_core_web_lg==2.2.5) (2.0.5)\n",
      "Requirement already satisfied: importlib-metadata>=0.20; python_version < \"3.8\" in /usr/local/lib/python3.7/dist-packages (from catalogue<1.1.0,>=0.0.7->spacy>=2.2.2->en_core_web_lg==2.2.5) (4.0.1)\n",
      "Requirement already satisfied: idna<3,>=2.5 in /usr/local/lib/python3.7/dist-packages (from requests<3.0.0,>=2.13.0->spacy>=2.2.2->en_core_web_lg==2.2.5) (2.10)\n",
      "Requirement already satisfied: urllib3!=1.25.0,!=1.25.1,<1.26,>=1.21.1 in /usr/local/lib/python3.7/dist-packages (from requests<3.0.0,>=2.13.0->spacy>=2.2.2->en_core_web_lg==2.2.5) (1.24.3)\n",
      "Requirement already satisfied: chardet<4,>=3.0.2 in /usr/local/lib/python3.7/dist-packages (from requests<3.0.0,>=2.13.0->spacy>=2.2.2->en_core_web_lg==2.2.5) (3.0.4)\n",
      "Requirement already satisfied: certifi>=2017.4.17 in /usr/local/lib/python3.7/dist-packages (from requests<3.0.0,>=2.13.0->spacy>=2.2.2->en_core_web_lg==2.2.5) (2020.12.5)\n",
      "Requirement already satisfied: typing-extensions>=3.6.4; python_version < \"3.8\" in /usr/local/lib/python3.7/dist-packages (from importlib-metadata>=0.20; python_version < \"3.8\"->catalogue<1.1.0,>=0.0.7->spacy>=2.2.2->en_core_web_lg==2.2.5) (3.7.4.3)\n",
      "Requirement already satisfied: zipp>=0.5 in /usr/local/lib/python3.7/dist-packages (from importlib-metadata>=0.20; python_version < \"3.8\"->catalogue<1.1.0,>=0.0.7->spacy>=2.2.2->en_core_web_lg==2.2.5) (3.4.1)\n",
      "Building wheels for collected packages: en-core-web-lg\n",
      "  Building wheel for en-core-web-lg (setup.py) ... \u001b[?25l\u001b[?25hdone\n",
      "  Created wheel for en-core-web-lg: filename=en_core_web_lg-2.2.5-cp37-none-any.whl size=829180945 sha256=26a0afedd895a1e22caa224687be33669660893afb91635d3137bef38e3c9185\n",
      "  Stored in directory: /tmp/pip-ephem-wheel-cache-qr2mb2kf/wheels/2a/c1/a6/fc7a877b1efca9bc6a089d6f506f16d3868408f9ff89f8dbfc\n",
      "Successfully built en-core-web-lg\n",
      "Installing collected packages: en-core-web-lg\n",
      "Successfully installed en-core-web-lg-2.2.5\n",
      "\u001b[38;5;2m✔ Download and installation successful\u001b[0m\n",
      "You can now load the model via spacy.load('en_core_web_lg')\n"
     ]
    }
   ],
   "source": [
    "!python -m spacy download en_core_web_lg"
   ]
  },
  {
   "cell_type": "code",
   "execution_count": 18,
   "metadata": {
    "id": "_pKk00Q0SXwZ"
   },
   "outputs": [],
   "source": [
    "import en_core_web_lg\n",
    "nlp = en_core_web_lg.load()"
   ]
  },
  {
   "cell_type": "code",
   "execution_count": null,
   "metadata": {
    "id": "I9xalSQ5SXwZ"
   },
   "outputs": [],
   "source": [
    "# import spacy\n",
    "# from spacy.tokenizer import Tokenizer\n",
    "# from nltk.stem import PorterStemmer\n",
    "\n",
    "# nlp = spacy.load('en_core_web_lg')"
   ]
  },
  {
   "cell_type": "code",
   "execution_count": 19,
   "metadata": {
    "id": "HAGX-NwQSXwZ"
   },
   "outputs": [],
   "source": [
    "STOP_WORDS = nlp.Defaults.stop_words.union([' ','', 'coffee', 'place', \"i'm\", \"it's\", 'good', 'like', \"check-in\", '-', '1', '$' ])"
   ]
  },
  {
   "cell_type": "code",
   "execution_count": 20,
   "metadata": {
    "id": "TlcJJPO9SXwZ"
   },
   "outputs": [],
   "source": [
    "tokens = []\n",
    "for doc in nlp.pipe(shops['full_review_text']):\n",
    "    doc_tokens = []\n",
    "    for token in doc:\n",
    "        if (token.text.lower() not in STOP_WORDS) and (token.is_punct == False) and (token.is_digit == False):\n",
    "            doc_tokens.append(token.text.lower())\n",
    "    tokens.append(doc_tokens)\n",
    "\n",
    "shops['tokens'] = tokens\n"
   ]
  },
  {
   "cell_type": "code",
   "execution_count": 21,
   "metadata": {
    "colab": {
     "base_uri": "https://localhost:8080/",
     "height": 195
    },
    "id": "zwYZpYy_SXwa",
    "outputId": "04c63545-a32c-4707-c375-6a8f8699218e"
   },
   "outputs": [
    {
     "data": {
      "text/html": [
       "<div>\n",
       "<style scoped>\n",
       "    .dataframe tbody tr th:only-of-type {\n",
       "        vertical-align: middle;\n",
       "    }\n",
       "\n",
       "    .dataframe tbody tr th {\n",
       "        vertical-align: top;\n",
       "    }\n",
       "\n",
       "    .dataframe thead th {\n",
       "        text-align: right;\n",
       "    }\n",
       "</style>\n",
       "<table border=\"1\" class=\"dataframe\">\n",
       "  <thead>\n",
       "    <tr style=\"text-align: right;\">\n",
       "      <th></th>\n",
       "      <th>coffee_shop_name</th>\n",
       "      <th>full_review_text</th>\n",
       "      <th>star_rating</th>\n",
       "      <th>tokens</th>\n",
       "    </tr>\n",
       "  </thead>\n",
       "  <tbody>\n",
       "    <tr>\n",
       "      <th>0</th>\n",
       "      <td>The Factory - Cafe With a Soul</td>\n",
       "      <td>11/25/2016 1 check-in Love love loved the atm...</td>\n",
       "      <td>5.0</td>\n",
       "      <td>[11/25/2016, check, love, love, loved, atmosph...</td>\n",
       "    </tr>\n",
       "    <tr>\n",
       "      <th>1</th>\n",
       "      <td>The Factory - Cafe With a Soul</td>\n",
       "      <td>12/2/2016 Listed in Date Night: Austin, Ambia...</td>\n",
       "      <td>4.0</td>\n",
       "      <td>[12/2/2016, listed, date, night, austin, ambia...</td>\n",
       "    </tr>\n",
       "    <tr>\n",
       "      <th>2</th>\n",
       "      <td>The Factory - Cafe With a Soul</td>\n",
       "      <td>11/30/2016 1 check-in Listed in Brunch Spots ...</td>\n",
       "      <td>4.0</td>\n",
       "      <td>[11/30/2016, check, listed, brunch, spots, lov...</td>\n",
       "    </tr>\n",
       "    <tr>\n",
       "      <th>3</th>\n",
       "      <td>The Factory - Cafe With a Soul</td>\n",
       "      <td>11/25/2016 Very cool decor! Good drinks Nice ...</td>\n",
       "      <td>2.0</td>\n",
       "      <td>[11/25/2016, cool, decor, drinks, nice, seatin...</td>\n",
       "    </tr>\n",
       "    <tr>\n",
       "      <th>4</th>\n",
       "      <td>The Factory - Cafe With a Soul</td>\n",
       "      <td>12/3/2016 1 check-in They are located within ...</td>\n",
       "      <td>4.0</td>\n",
       "      <td>[12/3/2016, check, located, northcross, mall, ...</td>\n",
       "    </tr>\n",
       "  </tbody>\n",
       "</table>\n",
       "</div>"
      ],
      "text/plain": [
       "                  coffee_shop_name  ...                                             tokens\n",
       "0  The Factory - Cafe With a Soul   ...  [11/25/2016, check, love, love, loved, atmosph...\n",
       "1  The Factory - Cafe With a Soul   ...  [12/2/2016, listed, date, night, austin, ambia...\n",
       "2  The Factory - Cafe With a Soul   ...  [11/30/2016, check, listed, brunch, spots, lov...\n",
       "3  The Factory - Cafe With a Soul   ...  [11/25/2016, cool, decor, drinks, nice, seatin...\n",
       "4  The Factory - Cafe With a Soul   ...  [12/3/2016, check, located, northcross, mall, ...\n",
       "\n",
       "[5 rows x 4 columns]"
      ]
     },
     "execution_count": 21,
     "metadata": {
      "tags": []
     },
     "output_type": "execute_result"
    }
   ],
   "source": [
    "shops.head()"
   ]
  },
  {
   "cell_type": "code",
   "execution_count": 22,
   "metadata": {
    "id": "W-1zNDWGSXwa"
   },
   "outputs": [],
   "source": [
    "shop_good = shops[shops['star_rating'] > 3]\n",
    "shop_bad = shops[shops['star_rating'] <= 3]"
   ]
  },
  {
   "cell_type": "code",
   "execution_count": 23,
   "metadata": {
    "id": "8qCCz9LwSXwa"
   },
   "outputs": [],
   "source": [
    "good_wc = count(shop_good['tokens'])\n",
    "bad_wc = count(shop_bad['tokens'])"
   ]
  },
  {
   "cell_type": "code",
   "execution_count": 24,
   "metadata": {
    "colab": {
     "base_uri": "https://localhost:8080/",
     "height": 195
    },
    "id": "KHIywsecSXwb",
    "outputId": "734d00e7-dbcb-4153-a268-cf74074c9caf"
   },
   "outputs": [
    {
     "data": {
      "text/html": [
       "<div>\n",
       "<style scoped>\n",
       "    .dataframe tbody tr th:only-of-type {\n",
       "        vertical-align: middle;\n",
       "    }\n",
       "\n",
       "    .dataframe tbody tr th {\n",
       "        vertical-align: top;\n",
       "    }\n",
       "\n",
       "    .dataframe thead th {\n",
       "        text-align: right;\n",
       "    }\n",
       "</style>\n",
       "<table border=\"1\" class=\"dataframe\">\n",
       "  <thead>\n",
       "    <tr style=\"text-align: right;\">\n",
       "      <th></th>\n",
       "      <th>word</th>\n",
       "      <th>appears_in</th>\n",
       "      <th>count</th>\n",
       "      <th>rank</th>\n",
       "      <th>pct_total</th>\n",
       "      <th>cul_pct_total</th>\n",
       "      <th>appears_in_pct</th>\n",
       "    </tr>\n",
       "  </thead>\n",
       "  <tbody>\n",
       "    <tr>\n",
       "      <th>143</th>\n",
       "      <td>great</td>\n",
       "      <td>2499</td>\n",
       "      <td>3467</td>\n",
       "      <td>1.0</td>\n",
       "      <td>1.305553</td>\n",
       "      <td>1.305553</td>\n",
       "      <td>40.700326</td>\n",
       "    </tr>\n",
       "    <tr>\n",
       "      <th>2</th>\n",
       "      <td>check</td>\n",
       "      <td>2654</td>\n",
       "      <td>2852</td>\n",
       "      <td>2.0</td>\n",
       "      <td>1.073965</td>\n",
       "      <td>2.379518</td>\n",
       "      <td>43.224756</td>\n",
       "    </tr>\n",
       "    <tr>\n",
       "      <th>52</th>\n",
       "      <td>austin</td>\n",
       "      <td>1586</td>\n",
       "      <td>2043</td>\n",
       "      <td>3.0</td>\n",
       "      <td>0.769323</td>\n",
       "      <td>3.148841</td>\n",
       "      <td>25.830619</td>\n",
       "    </tr>\n",
       "    <tr>\n",
       "      <th>10</th>\n",
       "      <td>love</td>\n",
       "      <td>1323</td>\n",
       "      <td>1734</td>\n",
       "      <td>4.0</td>\n",
       "      <td>0.652965</td>\n",
       "      <td>3.801806</td>\n",
       "      <td>21.547231</td>\n",
       "    </tr>\n",
       "    <tr>\n",
       "      <th>170</th>\n",
       "      <td>friendly</td>\n",
       "      <td>1426</td>\n",
       "      <td>1499</td>\n",
       "      <td>5.0</td>\n",
       "      <td>0.564472</td>\n",
       "      <td>4.366278</td>\n",
       "      <td>23.224756</td>\n",
       "    </tr>\n",
       "  </tbody>\n",
       "</table>\n",
       "</div>"
      ],
      "text/plain": [
       "         word  appears_in  count  ...  pct_total  cul_pct_total  appears_in_pct\n",
       "143     great        2499   3467  ...   1.305553       1.305553       40.700326\n",
       "2       check        2654   2852  ...   1.073965       2.379518       43.224756\n",
       "52     austin        1586   2043  ...   0.769323       3.148841       25.830619\n",
       "10       love        1323   1734  ...   0.652965       3.801806       21.547231\n",
       "170  friendly        1426   1499  ...   0.564472       4.366278       23.224756\n",
       "\n",
       "[5 rows x 7 columns]"
      ]
     },
     "execution_count": 24,
     "metadata": {
      "tags": []
     },
     "output_type": "execute_result"
    }
   ],
   "source": [
    "good_wc.head()"
   ]
  },
  {
   "cell_type": "code",
   "execution_count": 26,
   "metadata": {
    "colab": {
     "base_uri": "https://localhost:8080/",
     "height": 195
    },
    "id": "3pQ29nfvSXwb",
    "outputId": "21de39ca-7f79-4645-e599-a049b68f7cce"
   },
   "outputs": [
    {
     "data": {
      "text/html": [
       "<div>\n",
       "<style scoped>\n",
       "    .dataframe tbody tr th:only-of-type {\n",
       "        vertical-align: middle;\n",
       "    }\n",
       "\n",
       "    .dataframe tbody tr th {\n",
       "        vertical-align: top;\n",
       "    }\n",
       "\n",
       "    .dataframe thead th {\n",
       "        text-align: right;\n",
       "    }\n",
       "</style>\n",
       "<table border=\"1\" class=\"dataframe\">\n",
       "  <thead>\n",
       "    <tr style=\"text-align: right;\">\n",
       "      <th></th>\n",
       "      <th>word</th>\n",
       "      <th>appears_in</th>\n",
       "      <th>count</th>\n",
       "      <th>rank</th>\n",
       "      <th>pct_total</th>\n",
       "      <th>cul_pct_total</th>\n",
       "      <th>appears_in_pct</th>\n",
       "    </tr>\n",
       "  </thead>\n",
       "  <tbody>\n",
       "    <tr>\n",
       "      <th>106</th>\n",
       "      <td>check</td>\n",
       "      <td>475</td>\n",
       "      <td>505</td>\n",
       "      <td>1.0</td>\n",
       "      <td>0.685359</td>\n",
       "      <td>0.685359</td>\n",
       "      <td>32.181572</td>\n",
       "    </tr>\n",
       "    <tr>\n",
       "      <th>59</th>\n",
       "      <td>food</td>\n",
       "      <td>318</td>\n",
       "      <td>497</td>\n",
       "      <td>2.0</td>\n",
       "      <td>0.674502</td>\n",
       "      <td>1.359861</td>\n",
       "      <td>21.544715</td>\n",
       "    </tr>\n",
       "    <tr>\n",
       "      <th>224</th>\n",
       "      <td>time</td>\n",
       "      <td>358</td>\n",
       "      <td>484</td>\n",
       "      <td>3.0</td>\n",
       "      <td>0.656859</td>\n",
       "      <td>2.016720</td>\n",
       "      <td>24.254743</td>\n",
       "    </tr>\n",
       "    <tr>\n",
       "      <th>158</th>\n",
       "      <td>great</td>\n",
       "      <td>344</td>\n",
       "      <td>466</td>\n",
       "      <td>4.0</td>\n",
       "      <td>0.632430</td>\n",
       "      <td>2.649150</td>\n",
       "      <td>23.306233</td>\n",
       "    </tr>\n",
       "    <tr>\n",
       "      <th>17</th>\n",
       "      <td>service</td>\n",
       "      <td>346</td>\n",
       "      <td>448</td>\n",
       "      <td>5.0</td>\n",
       "      <td>0.608002</td>\n",
       "      <td>3.257152</td>\n",
       "      <td>23.441734</td>\n",
       "    </tr>\n",
       "  </tbody>\n",
       "</table>\n",
       "</div>"
      ],
      "text/plain": [
       "        word  appears_in  count  rank  pct_total  cul_pct_total  appears_in_pct\n",
       "106    check         475    505   1.0   0.685359       0.685359       32.181572\n",
       "59      food         318    497   2.0   0.674502       1.359861       21.544715\n",
       "224     time         358    484   3.0   0.656859       2.016720       24.254743\n",
       "158    great         344    466   4.0   0.632430       2.649150       23.306233\n",
       "17   service         346    448   5.0   0.608002       3.257152       23.441734"
      ]
     },
     "execution_count": 26,
     "metadata": {
      "tags": []
     },
     "output_type": "execute_result"
    }
   ],
   "source": [
    "bad_wc.head()"
   ]
  },
  {
   "cell_type": "markdown",
   "metadata": {
    "id": "BPPJWGRRSXwb"
   },
   "source": [
    "## Can visualize the words with the greatest difference in counts between 'good' & 'bad'?\n",
    "\n",
    "Couple Notes: \n",
    "- Rel. freq. instead of absolute counts b/c of different numbers of reviews\n",
    "- Only look at the top 5-10 words with the greatest differences\n"
   ]
  },
  {
   "cell_type": "code",
   "execution_count": 28,
   "metadata": {
    "colab": {
     "base_uri": "https://localhost:8080/"
    },
    "id": "gaix9yCTrTF1",
    "outputId": "34dc3c0a-356d-4894-ca24-0e3d5b05aa02"
   },
   "outputs": [
    {
     "name": "stdout",
     "output_type": "stream",
     "text": [
      "/usr/bin/python3: No module named squarify\n"
     ]
    }
   ],
   "source": [
    "!python -m squarify install"
   ]
  },
  {
   "cell_type": "code",
   "execution_count": 27,
   "metadata": {
    "colab": {
     "base_uri": "https://localhost:8080/",
     "height": 364
    },
    "id": "Al2X3xjmSXwb",
    "outputId": "3ce1688c-0e27-4cf7-91ad-61ae6a9a1534"
   },
   "outputs": [
    {
     "ename": "ModuleNotFoundError",
     "evalue": "ignored",
     "output_type": "error",
     "traceback": [
      "\u001b[0;31m---------------------------------------------------------------------------\u001b[0m",
      "\u001b[0;31mModuleNotFoundError\u001b[0m                       Traceback (most recent call last)",
      "\u001b[0;32m<ipython-input-27-942ac91f28b7>\u001b[0m in \u001b[0;36m<module>\u001b[0;34m()\u001b[0m\n\u001b[0;32m----> 1\u001b[0;31m \u001b[0;32mimport\u001b[0m \u001b[0msquarify\u001b[0m\u001b[0;34m\u001b[0m\u001b[0;34m\u001b[0m\u001b[0m\n\u001b[0m\u001b[1;32m      2\u001b[0m \u001b[0;32mimport\u001b[0m \u001b[0mmatplotlib\u001b[0m\u001b[0;34m.\u001b[0m\u001b[0mpyplot\u001b[0m \u001b[0;32mas\u001b[0m \u001b[0mplt\u001b[0m\u001b[0;34m\u001b[0m\u001b[0;34m\u001b[0m\u001b[0m\n\u001b[1;32m      3\u001b[0m \u001b[0;34m\u001b[0m\u001b[0m\n\u001b[1;32m      4\u001b[0m \u001b[0mgood_wc_top10\u001b[0m \u001b[0;34m=\u001b[0m \u001b[0mgood_wc\u001b[0m\u001b[0;34m[\u001b[0m\u001b[0mgood_wc\u001b[0m\u001b[0;34m[\u001b[0m\u001b[0;34m'rank'\u001b[0m\u001b[0;34m]\u001b[0m \u001b[0;34m<=\u001b[0m \u001b[0;36m10\u001b[0m\u001b[0;34m]\u001b[0m\u001b[0;34m\u001b[0m\u001b[0;34m\u001b[0m\u001b[0m\n\u001b[1;32m      5\u001b[0m \u001b[0;34m\u001b[0m\u001b[0m\n",
      "\u001b[0;31mModuleNotFoundError\u001b[0m: No module named 'squarify'",
      "",
      "\u001b[0;31m---------------------------------------------------------------------------\u001b[0;32m\nNOTE: If your import is failing due to a missing package, you can\nmanually install dependencies using either !pip or !apt.\n\nTo view examples of installing some common dependencies, click the\n\"Open Examples\" button below.\n\u001b[0;31m---------------------------------------------------------------------------\u001b[0m\n"
     ]
    }
   ],
   "source": [
    "import squarify\n",
    "import matplotlib.pyplot as plt\n",
    "\n",
    "good_wc_top10 = good_wc[good_wc['rank'] <= 10]\n",
    "\n",
    "squarify.plot(sizes=good_wc_top10['pct_total'], label=good_wc_top10['word'], alpha=.8 )\n",
    "plt.axis('off')\n",
    "plt.show()\n",
    "\n",
    "\n",
    "bad_wc_top10 = bad_wc[bad_wc['rank'] <= 10]\n",
    "\n",
    "squarify.plot(sizes=bad_wc_top10['pct_total'], label=bad_wc_top10['word'], alpha=.8 )\n",
    "plt.axis('off')\n",
    "plt.show()"
   ]
  },
  {
   "cell_type": "markdown",
   "metadata": {
    "id": "1dCb1q8XphcP",
    "toc-hr-collapsed": true
   },
   "source": [
    "## Stretch Goals\n",
    "\n",
    "* Analyze another corpus of documents - such as Indeed.com job listings ;).\n",
    "* Play with the Spacy API to\n",
    " - Extract Named Entities\n",
    " - Extracting 'noun chunks'\n",
    " - Attempt Document Classification with just Spacy\n",
    " - *Note:* This [course](https://course.spacy.io/) will be of interesting in helping you with these stretch goals. \n",
    "* Try to build a plotly dash app with your text data \n",
    "\n"
   ]
  }
 ],
 "metadata": {
  "colab": {
   "collapsed_sections": [],
   "name": "LS_DS_411_Text_Data_Assignment.ipynb",
   "provenance": []
  },
  "kernelspec": {
   "display_name": "Python 3",
   "language": "python",
   "name": "python3"
  },
  "language_info": {
   "codemirror_mode": {
    "name": "ipython",
    "version": 3
   },
   "file_extension": ".py",
   "mimetype": "text/x-python",
   "name": "python",
   "nbconvert_exporter": "python",
   "pygments_lexer": "ipython3",
   "version": "3.9.4"
  },
  "toc-autonumbering": false
 },
 "nbformat": 4,
 "nbformat_minor": 0
}
