{
 "cells": [
  {
   "cell_type": "markdown",
   "metadata": {},
   "source": [
    "<img align=\"left\" src=\"https://lever-client-logos.s3.amazonaws.com/864372b1-534c-480e-acd5-9711f850815c-1524247202159.png\" width=200>\n",
    "<br></br>\n",
    "<br></br>\n",
    "\n",
    "# Topic Modeling\n",
    "## *Data Science Unit 4 Sprint 1 Assignment 4*\n",
    "\n",
    "**Analyze a corpus of Amazon reviews from Unit 4 Sprint 1 Module 1's using topic modeling: \n",
    "\n",
    "- Load in the Amazon Review dataset\n",
    "- Clean the dataset \n",
    "- Vectorize the dataset \n",
    "- Fit a Gensim LDA topic model on Amazon Reviews\n",
    "- Select appropriate number of topics\n",
    "- Create some dope visualization of the topics\n",
    "- Write a few bullets on your findings in markdown at the end\n",
    "- **Note**: You don't *have* to use generators for this assignment"
   ]
  },
  {
   "cell_type": "code",
   "execution_count": 2,
   "metadata": {},
   "outputs": [
    {
     "name": "stderr",
     "output_type": "stream",
     "text": [
      "/opt/conda/lib/python3.7/site-packages/ipykernel/ipkernel.py:283: DeprecationWarning: `should_run_async` will not call `transform_cell` automatically in the future. Please pass the result to `transformed_cell` argument and any exception that happen during thetransform in `preprocessing_exc_tuple` in IPython 7.17 and above.\n",
      "  and should_run_async(code)\n",
      "/opt/conda/lib/python3.7/site-packages/scipy/sparse/sparsetools.py:21: DeprecationWarning: `scipy.sparse.sparsetools` is deprecated!\n",
      "scipy.sparse.sparsetools is a private module for scipy.sparse, and should not be used.\n",
      "  _deprecated()\n",
      "/opt/conda/lib/python3.7/site-packages/gensim/similarities/__init__.py:15: UserWarning: The gensim.similarities.levenshtein submodule is disabled, because the optional Levenshtein package <https://pypi.org/project/python-Levenshtein/> is unavailable. Install Levenhstein (e.g. `pip install python-Levenshtein`) to suppress this warning.\n",
      "  warnings.warn(msg)\n"
     ]
    }
   ],
   "source": [
    "import re\n",
    "import pandas as pd\n",
    "import numpy as np\n",
    "import matplotlib.pyplot as plt\n",
    "from sklearn.feature_extraction.text import CountVectorizer\n",
    "\n",
    "import spacy\n",
    "\n",
    "import pyLDAvis\n",
    "import pyLDAvis.gensim_models\n",
    "\n",
    "import gensim\n",
    "import gensim.corpora as corpora\n",
    "from gensim.utils import simple_preprocess\n",
    "from gensim.models import CoherenceModel\n",
    "\n",
    "from pandarallel import pandarallel\n",
    "\n",
    "%matplotlib inline "
   ]
  },
  {
   "cell_type": "markdown",
   "metadata": {},
   "source": [
    "----\n",
    "### Load the Amazon Review corpus \n",
    "This dataset is located in the Sprint 1 Module 1 directory. \n",
    "\n",
    "If the provided relative path doesn't work for you, then you'll have to provide the file path so pandas can read in the file."
   ]
  },
  {
   "cell_type": "code",
   "execution_count": 6,
   "metadata": {},
   "outputs": [
    {
     "name": "stderr",
     "output_type": "stream",
     "text": [
      "/opt/conda/lib/python3.7/site-packages/ipykernel/ipkernel.py:283: DeprecationWarning: `should_run_async` will not call `transform_cell` automatically in the future. Please pass the result to `transformed_cell` argument and any exception that happen during thetransform in `preprocessing_exc_tuple` in IPython 7.17 and above.\n",
      "  and should_run_async(code)\n",
      "Skipping line 26550: unexpected end of data\n"
     ]
    }
   ],
   "source": [
    "data_path = \"Datafiniti_Amazon_Consumer_Reviews_of_Amazon_Products_May19.csv\"\n",
    "df = pd.read_csv(data_path, engine='python', error_bad_lines=False)"
   ]
  },
  {
   "cell_type": "code",
   "execution_count": 7,
   "metadata": {},
   "outputs": [
    {
     "name": "stderr",
     "output_type": "stream",
     "text": [
      "/opt/conda/lib/python3.7/site-packages/ipykernel/ipkernel.py:283: DeprecationWarning: `should_run_async` will not call `transform_cell` automatically in the future. Please pass the result to `transformed_cell` argument and any exception that happen during thetransform in `preprocessing_exc_tuple` in IPython 7.17 and above.\n",
      "  and should_run_async(code)\n"
     ]
    },
    {
     "data": {
      "text/html": [
       "<div>\n",
       "<style scoped>\n",
       "    .dataframe tbody tr th:only-of-type {\n",
       "        vertical-align: middle;\n",
       "    }\n",
       "\n",
       "    .dataframe tbody tr th {\n",
       "        vertical-align: top;\n",
       "    }\n",
       "\n",
       "    .dataframe thead th {\n",
       "        text-align: right;\n",
       "    }\n",
       "</style>\n",
       "<table border=\"1\" class=\"dataframe\">\n",
       "  <thead>\n",
       "    <tr style=\"text-align: right;\">\n",
       "      <th></th>\n",
       "      <th>id</th>\n",
       "      <th>dateAdded</th>\n",
       "      <th>dateUpdated</th>\n",
       "      <th>name</th>\n",
       "      <th>asins</th>\n",
       "      <th>brand</th>\n",
       "      <th>categories</th>\n",
       "      <th>primaryCategories</th>\n",
       "      <th>imageURLs</th>\n",
       "      <th>keys</th>\n",
       "      <th>...</th>\n",
       "      <th>reviews.didPurchase</th>\n",
       "      <th>reviews.doRecommend</th>\n",
       "      <th>reviews.id</th>\n",
       "      <th>reviews.numHelpful</th>\n",
       "      <th>reviews.rating</th>\n",
       "      <th>reviews.sourceURLs</th>\n",
       "      <th>reviews.text</th>\n",
       "      <th>reviews.title</th>\n",
       "      <th>reviews.username</th>\n",
       "      <th>sourceURLs</th>\n",
       "    </tr>\n",
       "  </thead>\n",
       "  <tbody>\n",
       "    <tr>\n",
       "      <th>0</th>\n",
       "      <td>AVpgNzjwLJeJML43Kpxn</td>\n",
       "      <td>2015-10-30T08:59:32Z</td>\n",
       "      <td>2019-04-25T09:08:16Z</td>\n",
       "      <td>AmazonBasics AAA Performance Alkaline Batterie...</td>\n",
       "      <td>B00QWO9P0O,B00LH3DMUO</td>\n",
       "      <td>Amazonbasics</td>\n",
       "      <td>AA,AAA,Health,Electronics,Health &amp; Household,C...</td>\n",
       "      <td>Health &amp; Beauty</td>\n",
       "      <td>https://images-na.ssl-images-amazon.com/images...</td>\n",
       "      <td>amazonbasics/hl002619,amazonbasicsaaaperforman...</td>\n",
       "      <td>...</td>\n",
       "      <td>NaN</td>\n",
       "      <td>NaN</td>\n",
       "      <td>NaN</td>\n",
       "      <td>NaN</td>\n",
       "      <td>3</td>\n",
       "      <td>https://www.amazon.com/product-reviews/B00QWO9...</td>\n",
       "      <td>I order 3 of them and one of the item is bad q...</td>\n",
       "      <td>... 3 of them and one of the item is bad quali...</td>\n",
       "      <td>Byger yang</td>\n",
       "      <td>https://www.barcodable.com/upc/841710106442,ht...</td>\n",
       "    </tr>\n",
       "    <tr>\n",
       "      <th>1</th>\n",
       "      <td>AVpgNzjwLJeJML43Kpxn</td>\n",
       "      <td>2015-10-30T08:59:32Z</td>\n",
       "      <td>2019-04-25T09:08:16Z</td>\n",
       "      <td>AmazonBasics AAA Performance Alkaline Batterie...</td>\n",
       "      <td>B00QWO9P0O,B00LH3DMUO</td>\n",
       "      <td>Amazonbasics</td>\n",
       "      <td>AA,AAA,Health,Electronics,Health &amp; Household,C...</td>\n",
       "      <td>Health &amp; Beauty</td>\n",
       "      <td>https://images-na.ssl-images-amazon.com/images...</td>\n",
       "      <td>amazonbasics/hl002619,amazonbasicsaaaperforman...</td>\n",
       "      <td>...</td>\n",
       "      <td>NaN</td>\n",
       "      <td>NaN</td>\n",
       "      <td>NaN</td>\n",
       "      <td>NaN</td>\n",
       "      <td>4</td>\n",
       "      <td>https://www.amazon.com/product-reviews/B00QWO9...</td>\n",
       "      <td>Bulk is always the less expensive way to go fo...</td>\n",
       "      <td>... always the less expensive way to go for pr...</td>\n",
       "      <td>ByMG</td>\n",
       "      <td>https://www.barcodable.com/upc/841710106442,ht...</td>\n",
       "    </tr>\n",
       "  </tbody>\n",
       "</table>\n",
       "<p>2 rows × 24 columns</p>\n",
       "</div>"
      ],
      "text/plain": [
       "                     id             dateAdded           dateUpdated  \\\n",
       "0  AVpgNzjwLJeJML43Kpxn  2015-10-30T08:59:32Z  2019-04-25T09:08:16Z   \n",
       "1  AVpgNzjwLJeJML43Kpxn  2015-10-30T08:59:32Z  2019-04-25T09:08:16Z   \n",
       "\n",
       "                                                name                  asins  \\\n",
       "0  AmazonBasics AAA Performance Alkaline Batterie...  B00QWO9P0O,B00LH3DMUO   \n",
       "1  AmazonBasics AAA Performance Alkaline Batterie...  B00QWO9P0O,B00LH3DMUO   \n",
       "\n",
       "          brand                                         categories  \\\n",
       "0  Amazonbasics  AA,AAA,Health,Electronics,Health & Household,C...   \n",
       "1  Amazonbasics  AA,AAA,Health,Electronics,Health & Household,C...   \n",
       "\n",
       "  primaryCategories                                          imageURLs  \\\n",
       "0   Health & Beauty  https://images-na.ssl-images-amazon.com/images...   \n",
       "1   Health & Beauty  https://images-na.ssl-images-amazon.com/images...   \n",
       "\n",
       "                                                keys  ... reviews.didPurchase  \\\n",
       "0  amazonbasics/hl002619,amazonbasicsaaaperforman...  ...                 NaN   \n",
       "1  amazonbasics/hl002619,amazonbasicsaaaperforman...  ...                 NaN   \n",
       "\n",
       "  reviews.doRecommend reviews.id reviews.numHelpful reviews.rating  \\\n",
       "0                 NaN        NaN                NaN              3   \n",
       "1                 NaN        NaN                NaN              4   \n",
       "\n",
       "                                  reviews.sourceURLs  \\\n",
       "0  https://www.amazon.com/product-reviews/B00QWO9...   \n",
       "1  https://www.amazon.com/product-reviews/B00QWO9...   \n",
       "\n",
       "                                        reviews.text  \\\n",
       "0  I order 3 of them and one of the item is bad q...   \n",
       "1  Bulk is always the less expensive way to go fo...   \n",
       "\n",
       "                                       reviews.title  reviews.username  \\\n",
       "0  ... 3 of them and one of the item is bad quali...        Byger yang   \n",
       "1  ... always the less expensive way to go for pr...              ByMG   \n",
       "\n",
       "                                          sourceURLs  \n",
       "0  https://www.barcodable.com/upc/841710106442,ht...  \n",
       "1  https://www.barcodable.com/upc/841710106442,ht...  \n",
       "\n",
       "[2 rows x 24 columns]"
      ]
     },
     "execution_count": 7,
     "metadata": {},
     "output_type": "execute_result"
    }
   ],
   "source": [
    "df.head(2)"
   ]
  },
  {
   "cell_type": "markdown",
   "metadata": {},
   "source": [
    "----\n",
    "\n",
    "### Clean data\n",
    "\n",
    "- Create a function called `clean_data` that uses regex expressions to clean your data in preparation for the vectorizer. \n",
    "\n",
    "- Save the clean text data to a column in your dataframe named `clean_text`\n",
    "\n",
    "- Feel free to re-use old code that you have written in previous modules  "
   ]
  },
  {
   "cell_type": "code",
   "execution_count": 8,
   "metadata": {
    "deletable": false,
    "nbgrader": {
     "cell_type": "code",
     "checksum": "a2513c0ebd04cf8645fe0a1feb1e1a36",
     "grade": false,
     "grade_id": "cell-fa0950cfe5ef7725",
     "locked": false,
     "schema_version": 3,
     "solution": true,
     "task": false
    }
   },
   "outputs": [
    {
     "name": "stderr",
     "output_type": "stream",
     "text": [
      "/opt/conda/lib/python3.7/site-packages/ipykernel/ipkernel.py:283: DeprecationWarning: `should_run_async` will not call `transform_cell` automatically in the future. Please pass the result to `transformed_cell` argument and any exception that happen during thetransform in `preprocessing_exc_tuple` in IPython 7.17 and above.\n",
      "  and should_run_async(code)\n"
     ]
    }
   ],
   "source": [
    "def clean_data(text):\n",
    "    \"\"\"\n",
    "    Accepts a single text document and performs several regex substitutions in order to clean the document. \n",
    "    \n",
    "    Parameters\n",
    "    ----------\n",
    "    text: string or object \n",
    "    \n",
    "    Returns\n",
    "    -------\n",
    "    text: string or object\n",
    "    \"\"\"\n",
    "    \n",
    "    # order of operations - apply the expression from top to bottom\n",
    "    email_regex = r\"From: \\S+@\\S+\"\n",
    "    non_alpha = '[^a-zA-Z]'\n",
    "    multi_white_spaces = \"[ ]{2,}\"\n",
    "    \n",
    "    text = re.sub(email_regex, \"\", text)\n",
    "    text = re.sub(non_alpha, ' ', text)\n",
    "    text = re.sub(multi_white_spaces, \" \", text)\n",
    "    \n",
    "    # apply case normalization \n",
    "    return text.lower().lstrip().rstrip()"
   ]
  },
  {
   "cell_type": "code",
   "execution_count": 9,
   "metadata": {
    "deletable": false,
    "nbgrader": {
     "cell_type": "code",
     "checksum": "a6ceefe5476e71efcb3d36c3e203616f",
     "grade": false,
     "grade_id": "cell-5b8e2bc0f9a745f3",
     "locked": false,
     "schema_version": 3,
     "solution": true,
     "task": false
    }
   },
   "outputs": [
    {
     "name": "stderr",
     "output_type": "stream",
     "text": [
      "/opt/conda/lib/python3.7/site-packages/ipykernel/ipkernel.py:283: DeprecationWarning: `should_run_async` will not call `transform_cell` automatically in the future. Please pass the result to `transformed_cell` argument and any exception that happen during thetransform in `preprocessing_exc_tuple` in IPython 7.17 and above.\n",
      "  and should_run_async(code)\n"
     ]
    }
   ],
   "source": [
    "# save to cleaned review articles to a feature named `clean_text`\n",
    "df['clean_text'] = df['reviews.text'].apply(clean_data)"
   ]
  },
  {
   "cell_type": "code",
   "execution_count": 11,
   "metadata": {},
   "outputs": [
    {
     "name": "stderr",
     "output_type": "stream",
     "text": [
      "/opt/conda/lib/python3.7/site-packages/ipykernel/ipkernel.py:283: DeprecationWarning: `should_run_async` will not call `transform_cell` automatically in the future. Please pass the result to `transformed_cell` argument and any exception that happen during thetransform in `preprocessing_exc_tuple` in IPython 7.17 and above.\n",
      "  and should_run_async(code)\n"
     ]
    },
    {
     "data": {
      "text/html": [
       "<div>\n",
       "<style scoped>\n",
       "    .dataframe tbody tr th:only-of-type {\n",
       "        vertical-align: middle;\n",
       "    }\n",
       "\n",
       "    .dataframe tbody tr th {\n",
       "        vertical-align: top;\n",
       "    }\n",
       "\n",
       "    .dataframe thead th {\n",
       "        text-align: right;\n",
       "    }\n",
       "</style>\n",
       "<table border=\"1\" class=\"dataframe\">\n",
       "  <thead>\n",
       "    <tr style=\"text-align: right;\">\n",
       "      <th></th>\n",
       "      <th>id</th>\n",
       "      <th>dateAdded</th>\n",
       "      <th>dateUpdated</th>\n",
       "      <th>name</th>\n",
       "      <th>asins</th>\n",
       "      <th>brand</th>\n",
       "      <th>categories</th>\n",
       "      <th>primaryCategories</th>\n",
       "      <th>imageURLs</th>\n",
       "      <th>keys</th>\n",
       "      <th>...</th>\n",
       "      <th>reviews.doRecommend</th>\n",
       "      <th>reviews.id</th>\n",
       "      <th>reviews.numHelpful</th>\n",
       "      <th>reviews.rating</th>\n",
       "      <th>reviews.sourceURLs</th>\n",
       "      <th>reviews.text</th>\n",
       "      <th>reviews.title</th>\n",
       "      <th>reviews.username</th>\n",
       "      <th>sourceURLs</th>\n",
       "      <th>clean_text</th>\n",
       "    </tr>\n",
       "  </thead>\n",
       "  <tbody>\n",
       "    <tr>\n",
       "      <th>0</th>\n",
       "      <td>AVpgNzjwLJeJML43Kpxn</td>\n",
       "      <td>2015-10-30T08:59:32Z</td>\n",
       "      <td>2019-04-25T09:08:16Z</td>\n",
       "      <td>AmazonBasics AAA Performance Alkaline Batterie...</td>\n",
       "      <td>B00QWO9P0O,B00LH3DMUO</td>\n",
       "      <td>Amazonbasics</td>\n",
       "      <td>AA,AAA,Health,Electronics,Health &amp; Household,C...</td>\n",
       "      <td>Health &amp; Beauty</td>\n",
       "      <td>https://images-na.ssl-images-amazon.com/images...</td>\n",
       "      <td>amazonbasics/hl002619,amazonbasicsaaaperforman...</td>\n",
       "      <td>...</td>\n",
       "      <td>NaN</td>\n",
       "      <td>NaN</td>\n",
       "      <td>NaN</td>\n",
       "      <td>3</td>\n",
       "      <td>https://www.amazon.com/product-reviews/B00QWO9...</td>\n",
       "      <td>I order 3 of them and one of the item is bad q...</td>\n",
       "      <td>... 3 of them and one of the item is bad quali...</td>\n",
       "      <td>Byger yang</td>\n",
       "      <td>https://www.barcodable.com/upc/841710106442,ht...</td>\n",
       "      <td>i order of them and one of the item is bad qua...</td>\n",
       "    </tr>\n",
       "    <tr>\n",
       "      <th>1</th>\n",
       "      <td>AVpgNzjwLJeJML43Kpxn</td>\n",
       "      <td>2015-10-30T08:59:32Z</td>\n",
       "      <td>2019-04-25T09:08:16Z</td>\n",
       "      <td>AmazonBasics AAA Performance Alkaline Batterie...</td>\n",
       "      <td>B00QWO9P0O,B00LH3DMUO</td>\n",
       "      <td>Amazonbasics</td>\n",
       "      <td>AA,AAA,Health,Electronics,Health &amp; Household,C...</td>\n",
       "      <td>Health &amp; Beauty</td>\n",
       "      <td>https://images-na.ssl-images-amazon.com/images...</td>\n",
       "      <td>amazonbasics/hl002619,amazonbasicsaaaperforman...</td>\n",
       "      <td>...</td>\n",
       "      <td>NaN</td>\n",
       "      <td>NaN</td>\n",
       "      <td>NaN</td>\n",
       "      <td>4</td>\n",
       "      <td>https://www.amazon.com/product-reviews/B00QWO9...</td>\n",
       "      <td>Bulk is always the less expensive way to go fo...</td>\n",
       "      <td>... always the less expensive way to go for pr...</td>\n",
       "      <td>ByMG</td>\n",
       "      <td>https://www.barcodable.com/upc/841710106442,ht...</td>\n",
       "      <td>bulk is always the less expensive way to go fo...</td>\n",
       "    </tr>\n",
       "  </tbody>\n",
       "</table>\n",
       "<p>2 rows × 25 columns</p>\n",
       "</div>"
      ],
      "text/plain": [
       "                     id             dateAdded           dateUpdated  \\\n",
       "0  AVpgNzjwLJeJML43Kpxn  2015-10-30T08:59:32Z  2019-04-25T09:08:16Z   \n",
       "1  AVpgNzjwLJeJML43Kpxn  2015-10-30T08:59:32Z  2019-04-25T09:08:16Z   \n",
       "\n",
       "                                                name                  asins  \\\n",
       "0  AmazonBasics AAA Performance Alkaline Batterie...  B00QWO9P0O,B00LH3DMUO   \n",
       "1  AmazonBasics AAA Performance Alkaline Batterie...  B00QWO9P0O,B00LH3DMUO   \n",
       "\n",
       "          brand                                         categories  \\\n",
       "0  Amazonbasics  AA,AAA,Health,Electronics,Health & Household,C...   \n",
       "1  Amazonbasics  AA,AAA,Health,Electronics,Health & Household,C...   \n",
       "\n",
       "  primaryCategories                                          imageURLs  \\\n",
       "0   Health & Beauty  https://images-na.ssl-images-amazon.com/images...   \n",
       "1   Health & Beauty  https://images-na.ssl-images-amazon.com/images...   \n",
       "\n",
       "                                                keys  ... reviews.doRecommend  \\\n",
       "0  amazonbasics/hl002619,amazonbasicsaaaperforman...  ...                 NaN   \n",
       "1  amazonbasics/hl002619,amazonbasicsaaaperforman...  ...                 NaN   \n",
       "\n",
       "  reviews.id reviews.numHelpful reviews.rating  \\\n",
       "0        NaN                NaN              3   \n",
       "1        NaN                NaN              4   \n",
       "\n",
       "                                  reviews.sourceURLs  \\\n",
       "0  https://www.amazon.com/product-reviews/B00QWO9...   \n",
       "1  https://www.amazon.com/product-reviews/B00QWO9...   \n",
       "\n",
       "                                        reviews.text  \\\n",
       "0  I order 3 of them and one of the item is bad q...   \n",
       "1  Bulk is always the less expensive way to go fo...   \n",
       "\n",
       "                                       reviews.title  reviews.username  \\\n",
       "0  ... 3 of them and one of the item is bad quali...        Byger yang   \n",
       "1  ... always the less expensive way to go for pr...              ByMG   \n",
       "\n",
       "                                          sourceURLs  \\\n",
       "0  https://www.barcodable.com/upc/841710106442,ht...   \n",
       "1  https://www.barcodable.com/upc/841710106442,ht...   \n",
       "\n",
       "                                          clean_text  \n",
       "0  i order of them and one of the item is bad qua...  \n",
       "1  bulk is always the less expensive way to go fo...  \n",
       "\n",
       "[2 rows x 25 columns]"
      ]
     },
     "execution_count": 11,
     "metadata": {},
     "output_type": "execute_result"
    }
   ],
   "source": [
    "df.head(2)"
   ]
  },
  {
   "cell_type": "code",
   "execution_count": 12,
   "metadata": {},
   "outputs": [
    {
     "name": "stderr",
     "output_type": "stream",
     "text": [
      "/opt/conda/lib/python3.7/site-packages/ipykernel/ipkernel.py:283: DeprecationWarning: `should_run_async` will not call `transform_cell` automatically in the future. Please pass the result to `transformed_cell` argument and any exception that happen during thetransform in `preprocessing_exc_tuple` in IPython 7.17 and above.\n",
      "  and should_run_async(code)\n"
     ]
    }
   ],
   "source": [
    "alphabetical_chars = [\"ABCDEFGHIJKLMNOP\"]\n",
    "# check if any of these alphabetical chars exist in your clean chars\n",
    "assert df.clean_text.isin(alphabetical_chars).sum() == 0, \"Did you case normalize your text inside of your clean_data function?\""
   ]
  },
  {
   "cell_type": "markdown",
   "metadata": {},
   "source": [
    "------\n",
    "\n",
    "## Determine number of topics\n",
    "\n",
    "We are going to run an experiment to determine how many topics exists within the `primaryCategories` of `Electronics`. This is the largest primary category containing nearly 14K documents, so we should have plenty of data. \n",
    "\n",
    "Just as we did in the guided project, we'll be running a gridseach over the number of topics and scoring each model using the Coherence metric to determine which number of topics we should use. \n"
   ]
  },
  {
   "cell_type": "code",
   "execution_count": 13,
   "metadata": {},
   "outputs": [
    {
     "name": "stderr",
     "output_type": "stream",
     "text": [
      "/opt/conda/lib/python3.7/site-packages/ipykernel/ipkernel.py:283: DeprecationWarning: `should_run_async` will not call `transform_cell` automatically in the future. Please pass the result to `transformed_cell` argument and any exception that happen during thetransform in `preprocessing_exc_tuple` in IPython 7.17 and above.\n",
      "  and should_run_async(code)\n"
     ]
    }
   ],
   "source": [
    "# create a mask for docs that are in the Electronics primaryCategories - save result to `electronics_mask`\n",
    "electronics_mask = df.primaryCategories.isin([\"Electronics\"])\n",
    "\n",
    "# use mask to isolate all the documents in the Electronics primaryCategories - save result to `df_electronics`\n",
    "df_electronics = df[electronics_mask]"
   ]
  },
  {
   "cell_type": "code",
   "execution_count": 14,
   "metadata": {},
   "outputs": [
    {
     "name": "stderr",
     "output_type": "stream",
     "text": [
      "/opt/conda/lib/python3.7/site-packages/ipykernel/ipkernel.py:283: DeprecationWarning: `should_run_async` will not call `transform_cell` automatically in the future. Please pass the result to `transformed_cell` argument and any exception that happen during thetransform in `preprocessing_exc_tuple` in IPython 7.17 and above.\n",
      "  and should_run_async(code)\n"
     ]
    },
    {
     "data": {
      "text/html": [
       "<div>\n",
       "<style scoped>\n",
       "    .dataframe tbody tr th:only-of-type {\n",
       "        vertical-align: middle;\n",
       "    }\n",
       "\n",
       "    .dataframe tbody tr th {\n",
       "        vertical-align: top;\n",
       "    }\n",
       "\n",
       "    .dataframe thead th {\n",
       "        text-align: right;\n",
       "    }\n",
       "</style>\n",
       "<table border=\"1\" class=\"dataframe\">\n",
       "  <thead>\n",
       "    <tr style=\"text-align: right;\">\n",
       "      <th></th>\n",
       "      <th>id</th>\n",
       "      <th>dateAdded</th>\n",
       "      <th>dateUpdated</th>\n",
       "      <th>name</th>\n",
       "      <th>asins</th>\n",
       "      <th>brand</th>\n",
       "      <th>categories</th>\n",
       "      <th>primaryCategories</th>\n",
       "      <th>imageURLs</th>\n",
       "      <th>keys</th>\n",
       "      <th>...</th>\n",
       "      <th>reviews.doRecommend</th>\n",
       "      <th>reviews.id</th>\n",
       "      <th>reviews.numHelpful</th>\n",
       "      <th>reviews.rating</th>\n",
       "      <th>reviews.sourceURLs</th>\n",
       "      <th>reviews.text</th>\n",
       "      <th>reviews.title</th>\n",
       "      <th>reviews.username</th>\n",
       "      <th>sourceURLs</th>\n",
       "      <th>clean_text</th>\n",
       "    </tr>\n",
       "  </thead>\n",
       "  <tbody>\n",
       "    <tr>\n",
       "      <th>8343</th>\n",
       "      <td>AVpe7nGV1cnluZ0-aG2o</td>\n",
       "      <td>2014-10-28T11:14:38Z</td>\n",
       "      <td>2019-04-25T09:05:28Z</td>\n",
       "      <td>AmazonBasics Nylon CD/DVD Binder (400 Capacity)</td>\n",
       "      <td>B00DIHVMEA,B00EZ1ZTV0</td>\n",
       "      <td>Amazonbasics</td>\n",
       "      <td>Audio &amp; Video Accessories,TV, Video &amp; Home Aud...</td>\n",
       "      <td>Electronics</td>\n",
       "      <td>http://ecx.images-amazon.com/images/I/41jQha7Z...</td>\n",
       "      <td>amazonbasicsnyloncddvdbinder400capacity/b00ez1...</td>\n",
       "      <td>...</td>\n",
       "      <td>NaN</td>\n",
       "      <td>NaN</td>\n",
       "      <td>NaN</td>\n",
       "      <td>5</td>\n",
       "      <td>https://www.ebay.com/itm/Amazonbasics-Nylon-Cd...</td>\n",
       "      <td>Great case to keep everything in its place! My...</td>\n",
       "      <td>Excellent product</td>\n",
       "      <td>qs341_5</td>\n",
       "      <td>https://www.ebay.com/itm/AmazonBasics-Nylon-CD...</td>\n",
       "      <td>great case to keep everything in its place my ...</td>\n",
       "    </tr>\n",
       "    <tr>\n",
       "      <th>8344</th>\n",
       "      <td>AVpe7nGV1cnluZ0-aG2o</td>\n",
       "      <td>2014-10-28T11:14:38Z</td>\n",
       "      <td>2019-04-25T09:05:28Z</td>\n",
       "      <td>AmazonBasics Nylon CD/DVD Binder (400 Capacity)</td>\n",
       "      <td>B00DIHVMEA,B00EZ1ZTV0</td>\n",
       "      <td>Amazonbasics</td>\n",
       "      <td>Audio &amp; Video Accessories,TV, Video &amp; Home Aud...</td>\n",
       "      <td>Electronics</td>\n",
       "      <td>http://ecx.images-amazon.com/images/I/41jQha7Z...</td>\n",
       "      <td>amazonbasicsnyloncddvdbinder400capacity/b00ez1...</td>\n",
       "      <td>...</td>\n",
       "      <td>NaN</td>\n",
       "      <td>NaN</td>\n",
       "      <td>NaN</td>\n",
       "      <td>5</td>\n",
       "      <td>http://www.amazon.co.uk/gp/product-reviews/B00...</td>\n",
       "      <td>After discarding and getting rid of broken cd ...</td>\n",
       "      <td>It was a much needed storage</td>\n",
       "      <td>Diablita</td>\n",
       "      <td>https://www.ebay.com/itm/AmazonBasics-Nylon-CD...</td>\n",
       "      <td>after discarding and getting rid of broken cd ...</td>\n",
       "    </tr>\n",
       "    <tr>\n",
       "      <th>8345</th>\n",
       "      <td>AVpe7nGV1cnluZ0-aG2o</td>\n",
       "      <td>2014-10-28T11:14:38Z</td>\n",
       "      <td>2019-04-25T09:05:28Z</td>\n",
       "      <td>AmazonBasics Nylon CD/DVD Binder (400 Capacity)</td>\n",
       "      <td>B00DIHVMEA,B00EZ1ZTV0</td>\n",
       "      <td>Amazonbasics</td>\n",
       "      <td>Audio &amp; Video Accessories,TV, Video &amp; Home Aud...</td>\n",
       "      <td>Electronics</td>\n",
       "      <td>http://ecx.images-amazon.com/images/I/41jQha7Z...</td>\n",
       "      <td>amazonbasicsnyloncddvdbinder400capacity/b00ez1...</td>\n",
       "      <td>...</td>\n",
       "      <td>NaN</td>\n",
       "      <td>NaN</td>\n",
       "      <td>NaN</td>\n",
       "      <td>5</td>\n",
       "      <td>https://www.ebay.com/itm/Amazonbasics-Nylon-Cd...</td>\n",
       "      <td>A few dollars more, but I am boycotting amazon</td>\n",
       "      <td>it was worth it</td>\n",
       "      <td>coldbloodblazing</td>\n",
       "      <td>https://www.ebay.com/itm/AmazonBasics-Nylon-CD...</td>\n",
       "      <td>a few dollars more but i am boycotting amazon</td>\n",
       "    </tr>\n",
       "  </tbody>\n",
       "</table>\n",
       "<p>3 rows × 25 columns</p>\n",
       "</div>"
      ],
      "text/plain": [
       "                        id             dateAdded           dateUpdated  \\\n",
       "8343  AVpe7nGV1cnluZ0-aG2o  2014-10-28T11:14:38Z  2019-04-25T09:05:28Z   \n",
       "8344  AVpe7nGV1cnluZ0-aG2o  2014-10-28T11:14:38Z  2019-04-25T09:05:28Z   \n",
       "8345  AVpe7nGV1cnluZ0-aG2o  2014-10-28T11:14:38Z  2019-04-25T09:05:28Z   \n",
       "\n",
       "                                                 name                  asins  \\\n",
       "8343  AmazonBasics Nylon CD/DVD Binder (400 Capacity)  B00DIHVMEA,B00EZ1ZTV0   \n",
       "8344  AmazonBasics Nylon CD/DVD Binder (400 Capacity)  B00DIHVMEA,B00EZ1ZTV0   \n",
       "8345  AmazonBasics Nylon CD/DVD Binder (400 Capacity)  B00DIHVMEA,B00EZ1ZTV0   \n",
       "\n",
       "             brand                                         categories  \\\n",
       "8343  Amazonbasics  Audio & Video Accessories,TV, Video & Home Aud...   \n",
       "8344  Amazonbasics  Audio & Video Accessories,TV, Video & Home Aud...   \n",
       "8345  Amazonbasics  Audio & Video Accessories,TV, Video & Home Aud...   \n",
       "\n",
       "     primaryCategories                                          imageURLs  \\\n",
       "8343       Electronics  http://ecx.images-amazon.com/images/I/41jQha7Z...   \n",
       "8344       Electronics  http://ecx.images-amazon.com/images/I/41jQha7Z...   \n",
       "8345       Electronics  http://ecx.images-amazon.com/images/I/41jQha7Z...   \n",
       "\n",
       "                                                   keys  ...  \\\n",
       "8343  amazonbasicsnyloncddvdbinder400capacity/b00ez1...  ...   \n",
       "8344  amazonbasicsnyloncddvdbinder400capacity/b00ez1...  ...   \n",
       "8345  amazonbasicsnyloncddvdbinder400capacity/b00ez1...  ...   \n",
       "\n",
       "     reviews.doRecommend reviews.id reviews.numHelpful reviews.rating  \\\n",
       "8343                 NaN        NaN                NaN              5   \n",
       "8344                 NaN        NaN                NaN              5   \n",
       "8345                 NaN        NaN                NaN              5   \n",
       "\n",
       "                                     reviews.sourceURLs  \\\n",
       "8343  https://www.ebay.com/itm/Amazonbasics-Nylon-Cd...   \n",
       "8344  http://www.amazon.co.uk/gp/product-reviews/B00...   \n",
       "8345  https://www.ebay.com/itm/Amazonbasics-Nylon-Cd...   \n",
       "\n",
       "                                           reviews.text  \\\n",
       "8343  Great case to keep everything in its place! My...   \n",
       "8344  After discarding and getting rid of broken cd ...   \n",
       "8345     A few dollars more, but I am boycotting amazon   \n",
       "\n",
       "                     reviews.title  reviews.username  \\\n",
       "8343             Excellent product           qs341_5   \n",
       "8344  It was a much needed storage          Diablita   \n",
       "8345               it was worth it  coldbloodblazing   \n",
       "\n",
       "                                             sourceURLs  \\\n",
       "8343  https://www.ebay.com/itm/AmazonBasics-Nylon-CD...   \n",
       "8344  https://www.ebay.com/itm/AmazonBasics-Nylon-CD...   \n",
       "8345  https://www.ebay.com/itm/AmazonBasics-Nylon-CD...   \n",
       "\n",
       "                                             clean_text  \n",
       "8343  great case to keep everything in its place my ...  \n",
       "8344  after discarding and getting rid of broken cd ...  \n",
       "8345      a few dollars more but i am boycotting amazon  \n",
       "\n",
       "[3 rows x 25 columns]"
      ]
     },
     "execution_count": 14,
     "metadata": {},
     "output_type": "execute_result"
    }
   ],
   "source": [
    "df_electronics.head(3)"
   ]
  },
  {
   "cell_type": "markdown",
   "metadata": {},
   "source": [
    "------\n",
    "### Tokenize your documents \n",
    "\n",
    "Remember that you'll need to use the [**corpora**](https://radimrehurek.com/gensim/corpora/dictionary.html) class from the Gensim library. So definitely check out the docs to learn more about this tool. There is an example on how to do this in the guided project.\n",
    "\n",
    "But before we can use the [**corpora**](https://radimrehurek.com/gensim/corpora/dictionary.html) class, we must first tokenize our articles. \n",
    "\n"
   ]
  },
  {
   "cell_type": "code",
   "execution_count": 18,
   "metadata": {
    "deletable": false,
    "nbgrader": {
     "cell_type": "code",
     "checksum": "2f9f136b6fa56339c87e209fe6f2f12d",
     "grade": false,
     "grade_id": "cell-d7d585b64d6f0119",
     "locked": false,
     "schema_version": 3,
     "solution": true,
     "task": false
    }
   },
   "outputs": [
    {
     "name": "stdout",
     "output_type": "stream",
     "text": [
      "INFO: Pandarallel will run on 14 workers.\n",
      "INFO: Pandarallel will use Memory file system to transfer data between the main process and workers.\n"
     ]
    },
    {
     "name": "stderr",
     "output_type": "stream",
     "text": [
      "/opt/conda/lib/python3.7/site-packages/ipykernel/ipkernel.py:283: DeprecationWarning: `should_run_async` will not call `transform_cell` automatically in the future. Please pass the result to `transformed_cell` argument and any exception that happen during thetransform in `preprocessing_exc_tuple` in IPython 7.17 and above.\n",
      "  and should_run_async(code)\n"
     ]
    }
   ],
   "source": [
    "# identify how many processors your machine has - save the result to `n_processors`\n",
    "\n",
    "# subtract 1 from n_processors - save the result to `nb_workers`\n",
    "\n",
    "# initialize just like we did in the guided project\n",
    "# COLAB only has 2 processors, set nb_workers=2 and hope that it doesn't crash your notebook (otherwise don't use this tool)\n",
    "\n",
    "import multiprocessing\n",
    "\n",
    "n_processors = multiprocessing.cpu_count()\n",
    "nb_workers = n_processors - 2\n",
    "\n",
    "pandarallel.initialize(progress_bar=True, nb_workers=nb_workers)"
   ]
  },
  {
   "cell_type": "code",
   "execution_count": 19,
   "metadata": {},
   "outputs": [
    {
     "name": "stderr",
     "output_type": "stream",
     "text": [
      "/opt/conda/lib/python3.7/site-packages/ipykernel/ipkernel.py:283: DeprecationWarning: `should_run_async` will not call `transform_cell` automatically in the future. Please pass the result to `transformed_cell` argument and any exception that happen during thetransform in `preprocessing_exc_tuple` in IPython 7.17 and above.\n",
      "  and should_run_async(code)\n"
     ]
    }
   ],
   "source": [
    "# load in the spaCy language model\n",
    "nlp = spacy.load(\"en_core_web_lg\")"
   ]
  },
  {
   "cell_type": "code",
   "execution_count": 20,
   "metadata": {},
   "outputs": [
    {
     "name": "stderr",
     "output_type": "stream",
     "text": [
      "/opt/conda/lib/python3.7/site-packages/ipykernel/ipkernel.py:283: DeprecationWarning: `should_run_async` will not call `transform_cell` automatically in the future. Please pass the result to `transformed_cell` argument and any exception that happen during thetransform in `preprocessing_exc_tuple` in IPython 7.17 and above.\n",
      "  and should_run_async(code)\n"
     ]
    },
    {
     "data": {
      "application/vnd.jupyter.widget-view+json": {
       "model_id": "ca5efa20b72a45f38bd98714221d788c",
       "version_major": 2,
       "version_minor": 0
      },
      "text/plain": [
       "VBox(children=(HBox(children=(IntProgress(value=0, description='0.00%', max=873), Label(value='0 / 873'))), HB…"
      ]
     },
     "metadata": {},
     "output_type": "display_data"
    },
    {
     "name": "stdout",
     "output_type": "stream",
     "text": [
      "CPU times: user 2.29 s, sys: 898 ms, total: 3.19 s\n",
      "Wall time: 15.5 s\n"
     ]
    },
    {
     "name": "stderr",
     "output_type": "stream",
     "text": [
      "/opt/conda/lib/python3.7/site-packages/ipykernel_launcher.py:2: SettingWithCopyWarning: \n",
      "A value is trying to be set on a copy of a slice from a DataFrame.\n",
      "Try using .loc[row_indexer,col_indexer] = value instead\n",
      "\n",
      "See the caveats in the documentation: https://pandas.pydata.org/pandas-docs/stable/user_guide/indexing.html#returning-a-view-versus-a-copy\n",
      "  \n"
     ]
    }
   ],
   "source": [
    "%%time\n",
    "# create our tokens in the form of lemmas \n",
    "df_electronics['lemmas'] = df_electronics['clean_text'].parallel_apply(lambda x: [token.lemma_ for token in nlp(x) if (token.is_stop != True) and (token.is_punct != True)])"
   ]
  },
  {
   "cell_type": "code",
   "execution_count": 21,
   "metadata": {},
   "outputs": [
    {
     "name": "stderr",
     "output_type": "stream",
     "text": [
      "/opt/conda/lib/python3.7/site-packages/ipykernel/ipkernel.py:283: DeprecationWarning: `should_run_async` will not call `transform_cell` automatically in the future. Please pass the result to `transformed_cell` argument and any exception that happen during thetransform in `preprocessing_exc_tuple` in IPython 7.17 and above.\n",
      "  and should_run_async(code)\n"
     ]
    },
    {
     "data": {
      "text/plain": [
       "8343     [great, case, place, husband, love, hold, lot,...\n",
       "8344     [discard, getting, rid, broken, cd, case, brea...\n",
       "8345                             [dollar, boycott, amazon]\n",
       "8346     [initial, impression, good, material, nice, sh...\n",
       "8347     [pro, standard, echo, con, old, generation, ec...\n",
       "                               ...                        \n",
       "26543    [good, tablet, great, price, easy, use, pick, ...\n",
       "26544                      [get, grandma, love, complaint]\n",
       "26545    [great, tablet, son, live, endless, library, d...\n",
       "26546    [use, home, instead, computer, give, star, ins...\n",
       "26547    [kindle, fire, hd, upgrade, old, kindle, camer...\n",
       "Name: lemmas, Length: 12211, dtype: object"
      ]
     },
     "execution_count": 21,
     "metadata": {},
     "output_type": "execute_result"
    }
   ],
   "source": [
    "df_electronics['lemmas']"
   ]
  },
  {
   "cell_type": "markdown",
   "metadata": {},
   "source": [
    "### Use the corpora class to prep your data for LDA\n",
    "\n",
    "You'll need to create the same `id2word` and `corpus` objects that we created in the guided projects. So be sure to reference the guided project notebook if you need to. "
   ]
  },
  {
   "cell_type": "code",
   "execution_count": 23,
   "metadata": {
    "deletable": false,
    "nbgrader": {
     "cell_type": "code",
     "checksum": "53bf811aebb39e7ed6fc592851f82f8b",
     "grade": false,
     "grade_id": "cell-9d92f28649aa999e",
     "locked": false,
     "schema_version": 3,
     "solution": true,
     "task": false
    }
   },
   "outputs": [
    {
     "name": "stderr",
     "output_type": "stream",
     "text": [
      "/opt/conda/lib/python3.7/site-packages/ipykernel/ipkernel.py:283: DeprecationWarning: `should_run_async` will not call `transform_cell` automatically in the future. Please pass the result to `transformed_cell` argument and any exception that happen during thetransform in `preprocessing_exc_tuple` in IPython 7.17 and above.\n",
      "  and should_run_async(code)\n"
     ]
    }
   ],
   "source": [
    "# Create lemma dictionary using Dictionary - save result to `id2word`\n",
    "\n",
    "# Create Term Document Frequency list - save result to `corpus`\n",
    "\n",
    "# YOUR CODE HERE\n",
    "id2word = corpora.Dictionary(df_electronics['lemmas'])\n",
    "\n",
    "corpus = [id2word.doc2bow(text) for text in df_electronics['lemmas']]"
   ]
  },
  {
   "cell_type": "markdown",
   "metadata": {},
   "source": [
    "## Gridsearch the number of topics \n",
    "\n",
    "Just as we did in the guided project, we're going to run a for loop over a range of possible number of topics and then plot the coherence values to determine which number of topics leads to the most sensible grouping of documents. "
   ]
  },
  {
   "cell_type": "code",
   "execution_count": 24,
   "metadata": {},
   "outputs": [
    {
     "name": "stderr",
     "output_type": "stream",
     "text": [
      "/opt/conda/lib/python3.7/site-packages/ipykernel/ipkernel.py:283: DeprecationWarning: `should_run_async` will not call `transform_cell` automatically in the future. Please pass the result to `transformed_cell` argument and any exception that happen during thetransform in `preprocessing_exc_tuple` in IPython 7.17 and above.\n",
      "  and should_run_async(code)\n"
     ]
    }
   ],
   "source": [
    "def compute_coherence_values(dictionary, corpus, texts, limit, start=2, step=3):\n",
    "    \"\"\"\n",
    "    Compute c_v coherence for various number of topics\n",
    "\n",
    "    Parameters:\n",
    "    ----------\n",
    "    dictionary : Gensim dictionary\n",
    "    corpus : Gensim corpus\n",
    "    texts : List of input texts\n",
    "    limit : Max num of topics\n",
    "\n",
    "    Returns:\n",
    "    -------\n",
    "    model_list : List of LDA topic models\n",
    "    coherence_values : Coherence values corresponding to the LDA model with respective number of topics\n",
    "    \"\"\"\n",
    "    coherence_values = []\n",
    "    model_list = []\n",
    "    for num_topics in range(start, limit, step):\n",
    "        model = gensim.models.ldamulticore.LdaMulticore(corpus=corpus,\n",
    "                                                        id2word=id2word,\n",
    "                                                        num_topics=num_topics, \n",
    "                                                        chunksize=100,\n",
    "                                                        passes=10,\n",
    "                                                        random_state=1234,\n",
    "                                                        per_word_topics=True,\n",
    "                                                        workers=10)\n",
    "        model_list.append(model)\n",
    "        coherencemodel = CoherenceModel(model=model, texts=texts, dictionary=dictionary, coherence='c_v')\n",
    "        coherence_values.append(coherencemodel.get_coherence())\n",
    "\n",
    "    return model_list, coherence_values"
   ]
  },
  {
   "cell_type": "code",
   "execution_count": 25,
   "metadata": {},
   "outputs": [
    {
     "name": "stderr",
     "output_type": "stream",
     "text": [
      "/opt/conda/lib/python3.7/site-packages/ipykernel/ipkernel.py:283: DeprecationWarning: `should_run_async` will not call `transform_cell` automatically in the future. Please pass the result to `transformed_cell` argument and any exception that happen during thetransform in `preprocessing_exc_tuple` in IPython 7.17 and above.\n",
      "  and should_run_async(code)\n"
     ]
    },
    {
     "name": "stdout",
     "output_type": "stream",
     "text": [
      "CPU times: user 1min 4s, sys: 14 s, total: 1min 18s\n",
      "Wall time: 1min 20s\n"
     ]
    }
   ],
   "source": [
    "%%time\n",
    "model_list, coherence_values = compute_coherence_values(dictionary=id2word, corpus=corpus, texts=df_electronics['lemmas'], start=2, limit=22, step=2)"
   ]
  },
  {
   "cell_type": "code",
   "execution_count": 26,
   "metadata": {},
   "outputs": [
    {
     "name": "stderr",
     "output_type": "stream",
     "text": [
      "/opt/conda/lib/python3.7/site-packages/ipykernel/ipkernel.py:283: DeprecationWarning: `should_run_async` will not call `transform_cell` automatically in the future. Please pass the result to `transformed_cell` argument and any exception that happen during thetransform in `preprocessing_exc_tuple` in IPython 7.17 and above.\n",
      "  and should_run_async(code)\n"
     ]
    },
    {
     "data": {
      "image/png": "[encoded data removed]",
      "text/plain": [
       "<Figure size 1440x360 with 1 Axes>"
      ]
     },
     "metadata": {
      "needs_background": "light"
     },
     "output_type": "display_data"
    }
   ],
   "source": [
    "start=2; limit=22;  step=2;\n",
    "x = range(start, limit, step)\n",
    "\n",
    "plt.figure(figsize=(20,5))\n",
    "plt.grid()\n",
    "plt.title(\"Coherence Score vs. Number of Topics\")\n",
    "plt.xticks(x)\n",
    "plt.plot(x, coherence_values, \"-o\")\n",
    "\n",
    "plt.xlabel(\"Num Topics\")\n",
    "plt.ylabel(\"Coherence score\")\n",
    "\n",
    "plt.show();"
   ]
  },
  {
   "cell_type": "code",
   "execution_count": 28,
   "metadata": {
    "deletable": false,
    "nbgrader": {
     "cell_type": "code",
     "checksum": "45f72ff929ab8b765d0f0b5f35137f0d",
     "grade": false,
     "grade_id": "cell-e97661faebf1ac3c",
     "locked": false,
     "schema_version": 3,
     "solution": true,
     "task": false
    }
   },
   "outputs": [
    {
     "name": "stderr",
     "output_type": "stream",
     "text": [
      "/opt/conda/lib/python3.7/site-packages/ipykernel/ipkernel.py:283: DeprecationWarning: `should_run_async` will not call `transform_cell` automatically in the future. Please pass the result to `transformed_cell` argument and any exception that happen during thetransform in `preprocessing_exc_tuple` in IPython 7.17 and above.\n",
      "  and should_run_async(code)\n"
     ]
    },
    {
     "data": {
      "text/plain": [
       "<gensim.models.ldamulticore.LdaMulticore at 0x7f8876801f90>"
      ]
     },
     "execution_count": 28,
     "metadata": {},
     "output_type": "execute_result"
    }
   ],
   "source": [
    "# use np.argmax() to get index of largest coherence value from coherence_values - save result to `max_cohereance_val_index`\n",
    "\n",
    "# use `max_cohereance_val_index` to index model_list for the corresponding model - save result to `lda_trained_model`\n",
    "\n",
    "# YOUR CODE HERE\n",
    "max_coherence_val_index = np.argmax(coherence_values)\n",
    "\n",
    "lda_trained_model = model_list[max_coherence_val_index]\n",
    "lda_trained_model"
   ]
  },
  {
   "cell_type": "markdown",
   "metadata": {},
   "source": [
    "## Use pyLDAvis to visual your topics \n",
    "\n",
    "Take a look at the topic bubbles and bar chart for the terms on the right hand side.  \n",
    "\n",
    "- Describe the topic bubbles. \n",
    "- Do they overlap or not? \n",
    "- What does it mean when they overlap? \n",
    "- What does it mean when they don't overlap?\n",
    "- Are the terms in each topic distinct from the topics in the other topic bubbles?\n"
   ]
  },
  {
   "cell_type": "code",
   "execution_count": 30,
   "metadata": {
    "deletable": false,
    "nbgrader": {
     "cell_type": "code",
     "checksum": "7ad72f47a2b4930f8503c7733e5257cc",
     "grade": false,
     "grade_id": "cell-5213c8c2af79e714",
     "locked": false,
     "schema_version": 3,
     "solution": true,
     "task": false
    }
   },
   "outputs": [
    {
     "name": "stderr",
     "output_type": "stream",
     "text": [
      "/opt/conda/lib/python3.7/site-packages/ipykernel/ipkernel.py:283: DeprecationWarning: `should_run_async` will not call `transform_cell` automatically in the future. Please pass the result to `transformed_cell` argument and any exception that happen during thetransform in `preprocessing_exc_tuple` in IPython 7.17 and above.\n",
      "  and should_run_async(code)\n"
     ]
    },
    {
     "data": {
      "text/html": [
       "\n",
       "<link rel=\"stylesheet\" type=\"text/css\" href=\"https://cdn.jsdelivr.net/gh/bmabey/pyLDAvis@3.3.1/pyLDAvis/js/ldavis.v1.0.0.css\">\n",
       "\n",
       "\n",
       "<div id=\"ldavis_el231621402240437648168621254401\"></div>\n",
       "<script type=\"text/javascript\">\n",
       "\n",
       "var ldavis_el231621402240437648168621254401_data = {\"mdsDat\": {\"x\": [-0.0234898989711552, -0.10776421145891281, -0.22616424492630544, -0.21227788972302744, -0.05419420170388517, 0.12689915983018377, -0.18086345423879452, 0.030942210659328742, -0.0028443213818378026, 0.06569370590845801, 0.08627676474164704, 0.11134509637747705, 0.19029949364687598, 0.19614179123994738], \"y\": [0.04306886744623641, 0.16458189627968348, -0.02139176254471039, 0.016150202790556643, -0.12461315366723637, -0.029864162698945578, -0.08772191514890344, -0.03162293088421127, -0.13852778740230867, 0.17753397929673878, 0.04771388221256519, 0.17207785356085123, -0.15537358149651717, -0.03201138774379775], \"topics\": [1, 2, 3, 4, 5, 6, 7, 8, 9, 10, 11, 12, 13, 14], \"cluster\": [1, 1, 1, 1, 1, 1, 1, 1, 1, 1, 1, 1, 1, 1], \"Freq\": [13.094664879016252, 9.210615814995956, 9.042624267501193, 8.939860463313764, 8.773960705191167, 7.754386712575759, 7.395531074816581, 6.33615287986726, 6.244000281002766, 5.957921681608195, 5.188304286645256, 5.178466339081714, 3.625830988134883, 3.25767962624926]}, \"tinfo\": {\"Term\": [\"kid\", \"year\", \"t\", \"old\", \"kindle\", \"love\", \"game\", \"app\", \"great\", \"tablet\", \"amazon\", \"buy\", \"watch\", \"easy\", \"play\", \"fire\", \"read\", \"movie\", \"price\", \"product\", \"book\", \"sound\", \"gift\", \"store\", \"use\", \"google\", \"don\", \"recommend\", \"download\", \"battery\", \"os\", \"processor\", \"sd\", \"social\", \"hulu\", \"ram\", \"internal\", \"nexus\", \"chrome\", \"spec\", \"browse\", \"beat\", \"inappropriate\", \"galaxy\", \"desire\", \"disable\", \"k\", \"attention\", \"modify\", \"candy\", \"crush\", \"thinking\", \"powerful\", \"exit\", \"silk\", \"substitute\", \"satisfy\", \"customizable\", \"tvs\", \"basic\", \"cost\", \"gb\", \"card\", \"functional\", \"reasonable\", \"decent\", \"brand\", \"slot\", \"storage\", \"price\", \"slow\", \"ipad\", \"micro\", \"memory\", \"fast\", \"overall\", \"speed\", \"good\", \"quality\", \"apple\", \"tablet\", \"money\", \"samsung\", \"low\", \"value\", \"cheap\", \"run\", \"pretty\", \"hd\", \"great\", \"amazon\", \"fire\", \"well\", \"work\", \"look\", \"nice\", \"s\", \"screen\", \"need\", \"product\", \"buy\", \"like\", \"use\", \"age\", \"watch\", \"playing\", \"movie\", \"road\", \"appropriate\", \"puzzle\", \"mess\", \"grandma\", \"net\", \"yo\", \"fraction\", \"mouse\", \"individual\", \"advanced\", \"assistance\", \"elderly\", \"surf\", \"site\", \"offline\", \"xmas\", \"accidently\", \"episode\", \"novice\", \"instagram\", \"salesman\", \"code\", \"group\", \"game\", \"itune\", \"membership\", \"download\", \"disappointing\", \"show\", \"trip\", \"unlimited\", \"video\", \"netflix\", \"restart\", \"safe\", \"play\", \"parent\", \"load\", \"ton\", \"book\", \"youtube\", \"application\", \"app\", \"etc\", \"allow\", \"read\", \"plus\", \"access\", \"music\", \"kid\", \"great\", \"tablet\", \"internet\", \"love\", \"use\", \"lot\", \"free\", \"able\", \"s\", \"amazon\", \"buy\", \"time\", \"son\", \"like\", \"granddaughter\", \"parental\", \"yr\", \"niece\", \"year\", \"concern\", \"seven\", \"control\", \"abuse\", \"grandmother\", \"input\", \"cousin\", \"red\", \"overseas\", \"protect\", \"encourage\", \"entire\", \"grandparent\", \"fuss\", \"interest\", \"bored\", \"weren\", \"complete\", \"crossword\", \"neat\", \"login\", \"law\", \"worthless\", \"track\", \"old\", \"grandson\", \"grandchild\", \"durable\", \"friendly\", \"drop\", \"absolutely\", \"love\", \"sister\", \"block\", \"mother\", \"buy\", \"daughter\", \"christmas\", \"son\", \"user\", \"child\", \"purchase\", \"tablet\", \"case\", \"set\", \"setting\", \"fact\", \"time\", \"easy\", \"use\", \"get\", \"s\", \"gift\", \"game\", \"app\", \"great\", \"birthday\", \"grand\", \"profile\", \"dad\", \"homework\", \"entertaining\", \"select\", \"young\", \"hassle\", \"later\", \"promise\", \"beginner\", \"mom\", \"development\", \"consumption\", \"loose\", \"ruin\", \"amount\", \"tutorial\", \"intermediate\", \"dish\", \"adult\", \"tendency\", \"rich\", \"kid\", \"november\", \"mm\", \"town\", \"ahead\", \"overnight\", \"girl\", \"edition\", \"bring\", \"child\", \"everyday\", \"daughter\", \"learn\", \"son\", \"navigate\", \"pad\", \"set\", \"limit\", \"easy\", \"tech\", \"love\", \"use\", \"lot\", \"tablet\", \"great\", \"enjoy\", \"s\", \"help\", \"get\", \"time\", \"fun\", \"buy\", \"gift\", \"like\", \"perfect\", \"good\", \"app\", \"play\", \"little\", \"price\", \"pink\", \"st\", \"password\", \"goal\", \"programming\", \"gen\", \"bedtime\", \"exceptional\", \"ish\", \"vibrant\", \"inch\", \"magenta\", \"voyager\", \"consistently\", \"improvement\", \"study\", \"previous\", \"raffle\", \"certificate\", \"impressive\", \"dual\", \"weight\", \"clearly\", \"terrific\", \"purple\", \"upgrade\", \"generation\", \"backlight\", \"model\", \"trade\", \"color\", \"th\", \"totally\", \"kindle\", \"difference\", \"new\", \"original\", \"wear\", \"fire\", \"version\", \"large\", \"light\", \"screen\", \"reader\", \"hd\", \"big\", \"page\", \"size\", \"nice\", \"replace\", \"clear\", \"well\", \"feature\", \"easy\", \"love\", \"read\", \"old\", \"like\", \"hold\", \"book\", \"great\", \"good\", \"fast\", \"use\", \"bumper\", \"care\", \"log\", \"refurbish\", \"anymore\", \"defective\", \"haven\", \"twice\", \"teenage\", \"locate\", \"borrow\", \"solve\", \"begin\", \"wouldn\", \"thrilled\", \"section\", \"useless\", \"edit\", \"pleasantly\", \"didn\", \"refund\", \"saver\", \"horrible\", \"couldn\", \"jump\", \"barely\", \"accident\", \"definite\", \"awhile\", \"destroy\", \"don\", \"win\", \"click\", \"exchange\", \"t\", \"reset\", \"minute\", \"try\", \"menu\", \"grandkid\", \"difficult\", \"aren\", \"sleeve\", \"know\", \"doesn\", \"worry\", \"problem\", \"change\", \"warranty\", \"take\", \"let\", \"charge\", \"time\", \"ll\", \"ve\", \"like\", \"thing\", \"month\", \"go\", \"come\", \"buy\", \"work\", \"s\", \"find\", \"issue\", \"turn\", \"new\", \"want\", \"good\", \"store\", \"kindle\", \"get\", \"learning\", \"husband\", \"steal\", \"fight\", \"dead\", \"claim\", \"teenager\", \"bb\", \"vision\", \"friend\", \"fair\", \"boyfriend\", \"guard\", \"appointment\", \"highly\", \"family\", \"mirror\", \"nbc\", \"activity\", \"burn\", \"refuse\", \"compatible\", \"goo\", \"tote\", \"reliable\", \"advice\", \"awake\", \"competitive\", \"scale\", \"advertise\", \"clarity\", \"recommend\", \"challenge\", \"lead\", \"purse\", \"product\", \"gift\", \"table\", \"pleased\", \"carry\", \"great\", \"perfect\", \"satisfied\", \"easy\", \"read\", \"wife\", \"work\", \"use\", \"definitely\", \"love\", \"second\", \"buy\", \"book\", \"size\", \"excellent\", \"purchase\", \"value\", \"price\", \"tablet\", \"kindle\", \"good\", \"want\", \"christmas\", \"get\", \"fire\", \"educational\", \"alot\", \"gaming\", \"ereader\", \"happen\", \"downfall\", \"pop\", \"rate\", \"thoroughly\", \"versatile\", \"o\", \"message\", \"repair\", \"lil\", \"resolve\", \"versatility\", \"customize\", \"cancel\", \"senior\", \"pressure\", \"dim\", \"count\", \"honest\", \"eat\", \"loading\", \"lately\", \"greatly\", \"suck\", \"copy\", \"layout\", \"white\", \"thin\", \"oasis\", \"email\", \"pic\", \"sunlight\", \"mail\", \"check\", \"facebook\", \"night\", \"skype\", \"audio\", \"light\", \"main\", \"paper\", \"e\", \"read\", \"book\", \"reading\", \"blue\", \"kindle\", \"use\", \"internet\", \"reader\", \"easy\", \"voyage\", \"like\", \"little\", \"far\", \"screen\", \"look\", \"fire\", \"tablet\", \"s\", \"time\", \"t\", \"ve\", \"great\", \"need\", \"ipad\", \"device\", \"toddler\", \"previously\", \"excited\", \"savvy\", \"guarantee\", \"numerous\", \"die\", \"loves\", \"xma\", \"n\", \"television\", \"party\", \"up\", \"wise\", \"struggle\", \"associate\", \"angle\", \"train\", \"incredible\", \"primary\", \"spectacular\", \"suggest\", \"draw\", \"rock\", \"b\", \"curfew\", \"opening\", \"father\", \"frequent\", \"tween\", \"charger\", \"vs\", \"hasn\", \"wrong\", \"friday\", \"crack\", \"nephew\", \"black\", \"happy\", \"disappointed\", \"sale\", \"glad\", \"wife\", \"day\", \"m\", \"boy\", \"charge\", \"purchase\", \"buy\", \"christmas\", \"present\", \"warranty\", \"port\", \"gift\", \"get\", \"fire\", \"replace\", \"good\", \"go\", \"t\", \"tablet\", \"expect\", \"love\", \"s\", \"deal\", \"amazon\", \"product\", \"kindle\", \"install\", \"serve\", \"preloade\", \"efficient\", \"root\", \"bang\", \"playstore\", \"sense\", \"relate\", \"google\", \"worried\", \"breeze\", \"tho\", \"delighted\", \"match\", \"quiet\", \"logic\", \"kinda\", \"distract\", \"grader\", \"generic\", \"pre\", \"view\", \"sluggish\", \"outer\", \"comfortably\", \"void\", \"fluid\", \"feeling\", \"fir\", \"instal\", \"purpose\", \"ipod\", \"store\", \"weak\", \"android\", \"freetime\", \"fine\", \"app\", \"sort\", \"handle\", \"lack\", \"limited\", \"available\", \"photo\", \"play\", \"s\", \"include\", \"ok\", \"think\", \"amazon\", \"tab\", \"doesn\", \"screen\", \"m\", \"tablet\", \"wish\", \"little\", \"t\", \"need\", \"good\", \"perfect\", \"size\", \"download\", \"device\", \"price\", \"case\", \"tap\", \"echo\", \"subscription\", \"proof\", \"portability\", \"dot\", \"command\", \"teach\", \"activate\", \"boot\", \"maneuver\", \"fee\", \"loud\", \"trick\", \"average\", \"quirk\", \"sound\", \"alexa\", \"grab\", \"speaker\", \"wake\", \"remote\", \"impress\", \"tool\", \"par\", \"bass\", \"station\", \"companion\", \"weekend\", \"weather\", \"voice\", \"talk\", \"portable\", \"bluetooth\", \"thought\", \"music\", \"question\", \"listen\", \"answer\", \"room\", \"ask\", \"connect\", \"quality\", \"button\", \"fun\", \"great\", \"amazon\", \"good\", \"feature\", \"picture\", \"s\", \"like\", \"device\", \"work\", \"use\", \"love\", \"time\", \"easy\", \"special\", \"nabi\", \"frustrating\", \"shopping\", \"advertising\", \"account\", \"junk\", \"college\", \"filter\", \"delete\", \"fancy\", \"icon\", \"headphone\", \"subscribe\", \"fault\", \"smart\", \"forth\", \"textbook\", \"capable\", \"killer\", \"fingertip\", \"public\", \"weigh\", \"class\", \"tie\", \"left\", \"combine\", \"digital\", \"effort\", \"surfing\", \"manage\", \"gadget\", \"crazy\", \"ad\", \"prime\", \"inexpensive\", \"member\", \"switch\", \"phone\", \"offer\", \"school\", \"amazon\", \"link\", \"device\", \"library\", \"find\", \"home\", \"create\", \"constantly\", \"need\", \"free\", \"want\", \"online\", \"probably\", \"add\", \"web\", \"tablet\", \"access\", \"work\", \"use\", \"app\", \"s\", \"book\", \"pay\", \"thing\", \"screen\", \"entertain\", \"busy\", \"geek\", \"tube\", \"squad\", \"exceed\", \"arrive\", \"inside\", \"suppose\", \"lap\", \"literally\", \"backup\", \"wall\", \"confusing\", \"article\", \"rubber\", \"quit\", \"bell\", \"whistle\", \"binder\", \"slim\", \"manual\", \"accessible\", \"punch\", \"keyboard\", \"department\", \"transition\", \"rugged\", \"rest\", \"write\", \"pair\", \"reasonably\", \"expectation\", \"laptop\", \"key\", \"meet\", \"keep\", \"pass\", \"audible\", \"impossible\", \"drive\", \"hour\", \"cord\", \"long\", \"battery\", \"type\", \"last\", \"short\", \"life\", \"case\", \"design\", \"perfectly\", \"unit\", \"need\", \"travel\", \"protection\", \"work\", \"screen\", \"nice\", \"plug\", \"use\", \"time\", \"device\", \"cable\", \"recipient\", \"company\", \"chance\", \"properly\", \"snap\", \"policy\", \"prize\", \"connector\", \"wonder\", \"assume\", \"familiar\", \"ensure\", \"particular\", \"typical\", \"carousel\", \"pricey\", \"superb\", \"cute\", \"hrs\", \"event\", \"launcher\", \"def\", \"sorry\", \"business\", \"bezel\", \"wonderfully\", \"doubt\", \"native\", \"shoulder\", \"pc\", \"direction\", \"basis\", \"u\", \"usb\", \"penny\", \"handy\", \"ideal\", \"glitch\", \"customer\", \"power\", \"replacement\", \"computer\", \"provide\", \"box\", \"port\", \"grow\", \"surprise\", \"interface\", \"device\", \"charge\", \"work\", \"button\", \"daily\", \"s\", \"worth\", \"reader\", \"use\", \"easily\", \"bit\", \"issue\", \"service\", \"good\", \"great\", \"product\", \"amazon\", \"phone\", \"buy\"], \"Freq\": [1990.0, 1424.0, 2108.0, 1695.0, 2221.0, 3971.0, 1364.0, 1803.0, 4070.0, 5576.0, 1905.0, 2945.0, 601.0, 2192.0, 1225.0, 1808.0, 1422.0, 523.0, 1578.0, 1164.0, 1299.0, 392.0, 827.0, 520.0, 2865.0, 407.0, 520.0, 702.0, 613.0, 604.0, 71.08243344123157, 43.654798088204714, 126.17249495140103, 34.568272880048795, 27.65667575740663, 25.29452787579974, 24.18146992745943, 23.81074231744754, 22.117770436010836, 25.59746157775209, 117.66104673090844, 158.6896914588699, 15.014209107010625, 50.826971600537235, 15.164811415129945, 13.849783564891014, 13.768439864350189, 13.7420924581117, 10.141144553938158, 9.918174456590005, 9.917732270679275, 9.372802579838588, 28.31233501336988, 9.03439155537731, 24.559267224319115, 8.653914704433765, 8.504298556820888, 8.334736453710072, 8.255419273352055, 153.08913524264975, 117.83231610787189, 181.20063192703455, 184.09494162917184, 34.393188410295, 35.73909128035763, 116.75295418005334, 62.899992689218244, 35.909443237225275, 187.73782382769576, 992.924901263874, 186.58361945586546, 400.54106638640087, 51.66806340191706, 179.45553498537058, 330.5115932675794, 172.0563171844287, 88.35900843608593, 1298.021324591124, 290.51802049209084, 101.32424304076494, 2059.048483538567, 184.87259660698172, 88.8709764390608, 129.61797584147172, 137.0764584518303, 142.1259069328038, 117.56007235540692, 147.20625687222045, 227.75320317652788, 785.6874957262936, 421.1904319309395, 375.69345957807997, 222.05049871010146, 276.41367267957827, 182.717129989264, 197.46924512982636, 289.8597834707287, 229.94513393822643, 200.58028805897752, 191.9911208726742, 228.32569446720646, 180.70635664821282, 193.40882310164693, 236.07051991219748, 596.8409788672224, 53.6615437870785, 514.2261687058186, 45.318649924609225, 88.66372677108804, 27.594674716931625, 21.988531489413752, 19.123505373538535, 17.440048222247395, 29.74579491139244, 15.625937087609913, 14.547817171314128, 13.614240093206512, 12.956781297110632, 12.055976969739778, 11.221697253713801, 97.32377412624587, 38.32982503158081, 8.672689309394245, 8.537680007303901, 8.42744413759963, 8.376797285194234, 8.166705226216791, 7.986992538290572, 7.733319861919478, 7.355357416365852, 19.41228420636545, 1201.8254144477332, 7.0863062991948, 21.390327902028126, 459.3132388185429, 14.287098716167915, 142.1138051418482, 97.71607267436033, 45.65769902912178, 328.02085723949574, 151.34908930963144, 25.40209345014055, 55.45727778259208, 643.8132588904605, 89.7490528616507, 128.11337826613445, 60.19623278832231, 426.2838404177246, 71.16817705955172, 35.925960594943156, 422.57600991412295, 92.80393516933306, 87.81505330310709, 306.3303731177595, 85.20373659184601, 118.54860735463353, 130.1530063919962, 328.6497786556659, 433.23684830007437, 489.2152877635933, 118.74831973317987, 364.9326857025137, 267.1982024151877, 128.5596961562112, 110.24434974418189, 103.58925905345838, 116.1487337437963, 105.88151798236659, 107.58947240684931, 102.31139142511661, 99.2411185888581, 98.25761248628496, 302.23000812869066, 296.6644814927701, 246.3329846145021, 138.32658806351307, 1400.1105645515638, 22.05388822794064, 13.373857709666037, 350.85007116947617, 11.579695039677059, 11.260432493617387, 9.894307205494712, 9.019740436685312, 8.885106735903108, 8.469151186844785, 76.60969776005086, 7.9164331244535795, 12.549868496332746, 7.612926256017584, 7.34416458436444, 14.522089174232221, 6.770740351012368, 6.63062943097456, 17.041421980614793, 6.55490002824179, 6.290412869782704, 6.071981822304227, 52.9257781272045, 5.903891897003989, 5.211054242311153, 1420.2126310918527, 310.7041864899422, 57.7968262248302, 164.7611964183589, 200.98131705975555, 146.81464204687882, 97.97522732934493, 1341.0088273538815, 46.49124683862864, 17.237402362799497, 74.25211271550549, 714.9641854540231, 232.00203761211213, 182.88594298962124, 199.96658551158566, 110.23861169825317, 187.38417137843612, 307.5588312572611, 764.3363364252339, 157.5649920656605, 158.0124881818022, 47.226096134316755, 52.46374181967892, 177.57101008908302, 250.91430607090396, 288.7450066858899, 167.4103301924005, 171.45559985173608, 121.42612414618097, 138.00156256992665, 142.78113015154528, 163.6001866012694, 142.33963993826518, 113.96637436119592, 94.06616417968785, 46.96073081639375, 30.378109184222488, 19.247377298462276, 13.044002866530143, 156.81806762915377, 10.821457447130149, 19.02635430212339, 8.957847193494107, 74.58393223613784, 161.52076322407248, 8.000457216722998, 7.059296368467231, 25.71572626621318, 6.16746097020127, 5.324053038726296, 5.059882626555912, 4.992696335866377, 4.450856883681652, 120.79441839607098, 4.298511552138883, 4.118786757988903, 1562.8020619741503, 3.5348212894553552, 3.49467895860503, 3.4077591486855674, 10.776373275575368, 3.051535079935939, 32.98876564963912, 68.79729601310329, 52.33128043240965, 373.14083760129324, 41.23527658030829, 349.78107269044125, 184.9239345670153, 328.8648617553974, 112.14429334864215, 42.34708266495351, 232.00976211421778, 91.6939867819986, 642.2477495067158, 44.63133171380402, 907.7385850525053, 692.6002504071298, 202.47610369522528, 949.0094091325474, 742.0763630252891, 177.21317034021402, 448.03189272636666, 90.96624314776207, 245.0408033378319, 259.8256463610452, 83.19545934844398, 311.48539419997735, 164.8246771589083, 214.0004825354861, 147.15532799196995, 247.4003169161786, 169.12136521853137, 126.89206184943583, 108.25710006761139, 111.37659442578439, 55.046744777412385, 34.66001944634623, 22.998026721541063, 21.75909054951036, 17.63691601637546, 16.338402676793873, 13.950506364283031, 13.769690697091006, 12.840375635225323, 12.346900742963882, 125.16027196630158, 11.307370312648086, 11.123276492901784, 10.580979182701466, 58.337995769942566, 9.121190657824616, 119.55242558650082, 8.500392178635387, 8.425760841721493, 7.956777761477974, 7.737944913582856, 114.65897376863936, 7.6687308101253135, 10.636512025863581, 7.043500491891143, 213.98786419608163, 79.11991696197796, 21.801002363226466, 169.01001680537846, 5.9769684832070995, 255.44651517314188, 63.26486153726568, 29.822600033397926, 1445.838110630335, 59.96769729251925, 426.2991282958379, 86.53736732558052, 26.91754924732706, 860.6217993639842, 158.24460987601555, 126.44583921624972, 241.51303642428803, 474.74236115071693, 186.0019897436787, 221.04568678679104, 159.73619497489764, 90.37369687635761, 226.77762288835456, 229.58690308086187, 123.77346020147523, 102.50121383630378, 222.57543698625642, 174.3151075060999, 344.38758232322283, 466.46369467224423, 260.897676312672, 245.43317188754162, 226.81167811921296, 104.14414134481412, 161.4915911942245, 218.7135057814861, 195.02104216710953, 116.17993026408992, 136.87926787559286, 68.74901409083725, 25.071644690737514, 21.88568050867454, 21.844090854135253, 21.36920256828968, 20.835364814264874, 110.31572887638507, 17.777393248082085, 17.667289632080152, 18.728904548625415, 16.486061403641084, 15.569877198603868, 17.5441645902085, 80.72653399531812, 14.282345161856247, 13.353335235919095, 13.30940808122068, 13.236554166348046, 12.506328040782162, 215.86194289357962, 12.352590044716612, 11.813717193229136, 11.749695052233031, 113.18195184445048, 12.288733078715008, 10.372974781014511, 10.286293918616517, 10.109544932203463, 18.442132576657983, 9.598791753594801, 461.9399816151237, 131.54715671158476, 35.291780935727616, 36.947686088644886, 1563.6722125458584, 29.692912252494803, 52.07319401721158, 186.30568281046814, 40.32411974114271, 105.66177075647462, 55.372839302124184, 26.022525038458255, 18.82572997383727, 167.9341026582381, 133.52777868165143, 74.72653274961314, 180.44509239140058, 78.81088607522058, 127.65086803374344, 158.6536164269825, 63.20470169062191, 200.82476209761677, 284.41301628105543, 54.33125674628627, 112.2269366421281, 283.3580005360914, 153.7984047099821, 79.62878881007073, 112.75364290705387, 132.03626257207537, 318.45500962332835, 195.8282044232377, 215.53596417078504, 108.71410445388781, 95.77543830179107, 88.24984636281056, 110.69755710063748, 100.87223449605507, 110.04211767222584, 89.85395075868496, 92.80726087266564, 90.32575316856693, 129.1239054244908, 115.47423126785647, 21.117966658524193, 19.22358466418797, 14.75054753422948, 11.831153449554014, 11.80971055976682, 10.841524628449285, 10.57212858745238, 141.24028118772404, 9.547972838974003, 9.259904513809495, 9.13934322664625, 8.601985349286027, 165.6370203140644, 156.37475507404386, 7.1900329120069975, 6.507871134960289, 38.48156634861464, 5.305555963414542, 10.156538491106453, 17.572721806840295, 4.550156052667426, 4.167074096954276, 38.925735268057394, 3.93670843067604, 3.333017282475227, 3.2850046506265933, 3.27526833483972, 21.059064971714164, 38.76943458692761, 478.8304604719214, 20.944539140177106, 8.607837889693457, 35.810595021975814, 634.8911807256649, 385.7966206326967, 45.42460398788402, 83.16518003872943, 92.73772324443496, 1176.7052550702385, 244.75132557498003, 47.61048116801367, 521.6663915429372, 359.84675361005674, 111.14854466538516, 352.1297322471111, 529.8858877311374, 80.81404007834372, 582.6258670980321, 71.67313497970713, 454.1771801382026, 257.70651320178723, 158.3665808582636, 105.79370686248164, 228.1862605638864, 81.25810746117526, 233.07189171356688, 346.4383782236331, 219.00450788382727, 240.02858304067541, 143.6812093761438, 101.28015363827255, 87.70605258410049, 84.60772859266069, 207.61591297519948, 60.09662708856942, 50.194535727112786, 49.288678567825535, 44.98400080702643, 28.662529605275882, 27.232569119399546, 23.225600756484297, 21.12757170303269, 31.93614835665367, 15.887863784719578, 15.243087305318078, 15.171906161907472, 13.055290260041698, 12.837305124414193, 12.499741910806852, 12.438610893429816, 11.81034752844294, 11.708085960899759, 14.855396273673659, 11.172552151099126, 10.920774490118173, 10.583928959899941, 10.57554319409673, 10.203953984158202, 10.03331612316987, 9.861791712112641, 9.559594554284063, 9.690770702862208, 9.242207710679066, 45.42047511973475, 23.27730722211881, 37.07347189529285, 165.61515698789364, 28.457850396440016, 17.487940819675046, 42.96140270842682, 99.51841532191638, 78.06772618215656, 54.81998853910343, 17.13751303537097, 43.56332542995249, 210.18336197472786, 32.58707055976511, 29.807737373063166, 97.87597705690115, 374.43973578227667, 291.7972219092386, 76.78956404848122, 41.41265730624845, 304.59571967962677, 346.77658989103116, 85.63679643301039, 84.10682337673535, 177.23141401589936, 49.469683179872035, 148.35595887892453, 98.84495453422508, 81.39596051151617, 117.04183349586368, 82.32867770723426, 111.51998517582615, 148.66391029679627, 110.28009437239778, 81.968751172192, 84.90711839246534, 58.6389187369003, 82.72369269146806, 66.33183990444985, 56.45509901365019, 55.9464469882619, 125.67737998742804, 39.548416614118466, 36.888805608335254, 36.11373771697995, 33.907603415622994, 29.25931654314863, 31.46489866356743, 23.563272643967284, 21.422835267379618, 20.099780743766097, 17.076380833332824, 16.158739319471987, 14.02614719854212, 13.617046679099726, 13.030848621646605, 31.413926563815515, 12.415025678655537, 12.161442255901322, 12.394146179345801, 10.748442752348643, 9.841945712216708, 30.10897424588902, 8.032023926350728, 8.048770263090304, 21.886107510366227, 7.766053622756772, 7.727397175024952, 42.80703804008181, 7.4039477353497, 7.328303989571247, 99.0817237769424, 20.016806102655796, 30.712089463180163, 74.13268625226921, 113.90308716764699, 35.04181836182409, 104.56482502255488, 121.71343692175846, 261.4085275898334, 31.765564966452104, 133.0846830414236, 71.49926223837477, 147.40888187786015, 167.24386664804118, 209.91760972247772, 41.903528828313846, 192.0116980555314, 353.3187472229899, 594.3895885507478, 185.27264991990984, 62.20148327658386, 95.24386958960649, 50.60395391273907, 154.11464787474384, 160.21117927928208, 176.44999870234383, 79.0887850019603, 199.75647191083266, 81.45761601288848, 145.4710747345809, 199.26601421179512, 64.13126236457968, 162.92116229777025, 124.8042886333672, 60.5770829397531, 101.05816845764738, 66.81144274065257, 66.28050185831385, 91.44955998366744, 40.79648059606328, 27.157064576940787, 22.891195279424956, 22.03887116736479, 19.967853563321174, 20.17367552997609, 18.217313684401137, 16.50338006884178, 383.2888715953165, 15.136512467948277, 15.048856399964004, 14.977800720871894, 14.960193482305622, 14.342814193065534, 14.136022667465179, 12.622288539018562, 13.251949710185388, 12.173326209723115, 11.536268242085427, 11.09867597625438, 63.33048362359816, 96.37789306138636, 9.568039524306043, 9.42988880238468, 9.306414989512106, 9.160164360445426, 8.98950153629342, 8.715965019542626, 8.26906089788446, 95.38583457436305, 82.28557753377682, 17.584868940778048, 398.46765129982305, 15.764351205117158, 183.64152785224778, 55.05173014357612, 115.86091783199116, 818.4054468494188, 25.289352416830173, 54.377234690206414, 45.61992327451836, 44.79961385448544, 104.6237922065227, 54.914413651342926, 253.61336995944205, 377.5083948445471, 63.2229419738185, 55.68153446302397, 106.55023606136308, 275.4470867844878, 47.43434096872474, 75.44320036996392, 163.3018267806689, 99.40978808865083, 306.9121471530751, 56.77138608159635, 98.18006014976102, 151.17696047431684, 92.47433807778253, 117.93677481027485, 81.99080274412127, 78.20085216102295, 76.94494853645969, 75.9055621001195, 67.34718108384264, 61.59856745633236, 239.32735753470115, 219.19147974735876, 83.0318834173151, 59.10210758748057, 41.50661861962983, 55.55392427023536, 40.48571732525664, 38.56312457149387, 43.21548008120119, 28.514529516248057, 24.747190754565892, 23.9143916854007, 50.864305735483775, 22.09743686308864, 20.35573089214929, 18.572963523040443, 372.5475871166953, 292.69273588997004, 15.098656782266113, 298.00346909112915, 14.788674547475411, 13.75735548676731, 12.695104721249042, 117.82408455177256, 12.3126475159559, 11.639997117986956, 10.803372439706123, 10.239900651942225, 9.95973763650692, 38.22574188280452, 64.68049934185882, 42.29595952346874, 143.4081660592949, 92.32091488655368, 16.039348084858144, 217.13944480651992, 58.021153029311755, 97.64885285335227, 28.052299142558528, 53.26634829410883, 69.95744315429006, 72.63515164731716, 132.33563813443473, 76.58561892334176, 71.47385929771983, 296.4578727265807, 147.7697627057562, 140.83239559317403, 76.77726811253267, 65.6050899839614, 100.47936782308176, 90.93963115712118, 75.34103472489365, 83.0331404630267, 78.93957110319327, 72.47351232941458, 65.50848183087238, 65.47110567171407, 56.75100708511734, 36.03180107040651, 32.11249169281623, 54.67124986398606, 24.14810351468178, 222.96224302801483, 23.768844246208907, 25.41443400187798, 22.496355459060936, 20.398020874000455, 19.166195686466107, 17.50572459239066, 15.972111340666352, 15.107275871531186, 12.867830482329666, 47.68683436194584, 11.011743970108808, 10.86737418108667, 10.738607161195308, 11.22227941207625, 9.729581737943217, 12.61518648819625, 15.315923046993893, 43.961039888986015, 15.453642081178474, 17.071334424400494, 14.478029355983889, 24.450276341924752, 8.1921114457228, 43.3006359305588, 14.030078381478535, 21.035878553962487, 24.435600977217952, 103.45056454627233, 195.4395897946003, 69.3974702090958, 90.76036808267034, 47.26311823202148, 157.46252291891923, 71.13587150468317, 85.27286905617323, 583.4836679209113, 38.62960828476408, 280.1807748624078, 67.5642917362541, 149.12146216740203, 91.11604806752482, 29.45218975779359, 29.952944233566217, 180.45614698413664, 103.53157389776014, 137.77999403524055, 60.784206326399705, 42.120722388628074, 68.61646812679135, 57.96929237717199, 219.52343160611812, 70.46993030405822, 110.41438267835503, 129.3912644872206, 99.12435569349866, 102.87661517297448, 85.99126349822099, 55.18815393246753, 57.06568471158326, 57.92193306399451, 115.338060233594, 63.489182647086004, 47.61023687166, 35.75494075234127, 34.70202951658182, 33.67776852828853, 31.04732793176448, 28.70332245956575, 41.41712746092516, 19.236043793171085, 16.101736295953945, 16.082513631451523, 15.431900596621452, 13.86437715323134, 13.296515719818931, 37.81255502434714, 14.150216373492947, 11.955968766780234, 11.955968766780234, 11.084302410861035, 21.271678429293765, 10.038476869736316, 9.970645564046581, 9.681205296992092, 142.34780577443476, 9.220809378126196, 8.82169274852469, 26.78023023563313, 16.86752865505945, 25.426503114580814, 54.880456786864485, 26.433358433317785, 48.24434321751144, 152.00464928342657, 43.19123195582757, 65.03175132668761, 170.29346330353792, 29.65659326497652, 31.147100134510552, 23.43326112283342, 37.74813296340521, 95.97104931880347, 42.171468798698236, 178.91506771939686, 209.43574530296104, 42.174742610704286, 58.16356313934225, 34.63012571174413, 105.29589080845551, 128.9970949958484, 50.89642669823649, 48.217663699454995, 46.88959705658605, 87.47027726306764, 54.115468239383006, 36.31749468641471, 60.79685587620074, 53.7683270357219, 47.16128245723117, 38.693412504983684, 48.58224571197838, 44.2808959773544, 42.08139211612392, 95.41758155326865, 28.45431843137597, 21.50068222371356, 20.535115337775363, 18.604507756085937, 16.832439962254355, 16.167651280039596, 16.119894258670424, 15.57083058427543, 15.05518656413021, 14.805265957452653, 14.571345478885307, 13.72210871948189, 13.156608179121498, 12.916086644658646, 12.264873669267647, 12.60185375785445, 12.046830979592048, 11.173815685639568, 10.89948577392632, 13.227309723593388, 9.869225777713668, 9.855603371510814, 9.801922106374121, 29.016892038821357, 9.381676367126111, 9.096014291998785, 9.08325944186669, 8.647599618829203, 8.751331436812512, 13.575617371430132, 26.188840783749484, 19.08842908533435, 36.729845680311776, 42.96754094220885, 20.153844505676037, 48.62895008038816, 16.460081476446792, 20.094616538230973, 37.56902431429131, 39.65079055099089, 59.27435637194668, 57.88594042081045, 41.1604380902535, 35.05815261107065, 40.306797118985166, 25.972450331260962, 25.038607451695036, 27.87092347823228, 109.89658854719397, 89.75133409632018, 112.86796348539205, 45.48736314050982, 30.277114905657623, 116.1097896558877, 40.75969164385904, 48.36693367678769, 92.4646653668294, 33.866047694888266, 31.602887915035367, 36.51522322685146, 30.4443381470759, 47.59019803229559, 47.32141482289071, 40.21092526691968, 39.02394281220742, 30.183263623910097, 31.15927012315773], \"Total\": [1990.0, 1424.0, 2108.0, 1695.0, 2221.0, 3971.0, 1364.0, 1803.0, 4070.0, 5576.0, 1905.0, 2945.0, 601.0, 2192.0, 1225.0, 1808.0, 1422.0, 523.0, 1578.0, 1164.0, 1299.0, 392.0, 827.0, 520.0, 2865.0, 407.0, 520.0, 702.0, 613.0, 604.0, 72.07801724465632, 44.72007543713593, 129.3448148832465, 35.548613147113755, 28.63697748723208, 26.274913745983046, 25.16378100622768, 24.79103278321632, 23.101226436556956, 26.745281674632633, 123.47222879252077, 168.76092172338596, 15.994448280903844, 54.23322187476318, 16.221861177510437, 14.830081910099416, 14.74870284522523, 14.722367283953044, 11.12343969999728, 10.90111521614497, 10.901090820694398, 10.353043288644015, 31.289106228749734, 10.014631870238798, 27.305395159136413, 9.651402644485263, 9.484698821754877, 9.314986200578062, 9.23565648260891, 171.56802872292394, 136.5850054634006, 212.64180302811147, 222.7606354627224, 39.75316472492649, 41.49222097027672, 143.68725865718602, 76.57661399690177, 42.5801035151005, 251.6958237949526, 1578.9813091099086, 256.3000435756031, 593.4405583952866, 63.59131067507933, 257.41145527222847, 515.7650110148489, 247.66861067966863, 118.4372579755299, 2753.3624746813925, 480.6938538912776, 141.59202320418584, 5576.791096239592, 301.48185528558093, 126.27191682259665, 207.33587417207738, 222.60064915721858, 244.75007665679902, 194.6045166375434, 267.1993447751085, 518.9505753681024, 4070.682329859957, 1905.2376769715843, 1808.4434312730325, 730.4455789575197, 1490.544381056252, 559.0034986004218, 682.6974722891558, 2337.4788196076615, 1211.1635224626525, 924.2295573959552, 1164.1481024608781, 2945.244771534579, 1516.2414905878964, 2865.041923234039, 237.51919617573793, 601.144333059765, 54.64683062733116, 523.7247503728838, 46.30339830616696, 91.67617594072274, 28.578286438658502, 22.972142731162354, 20.10720310788477, 18.42439399044475, 31.563603492271255, 16.611979333076114, 15.531463371067153, 14.597847281309505, 13.942128539063711, 13.039585462211415, 12.20530458960273, 106.17418372542552, 42.659008447076204, 9.656312973027571, 9.521290159167526, 9.411064406928451, 9.360406313662923, 9.150359911902159, 8.970600511989746, 8.71693158915866, 8.339016542412095, 22.018843740333157, 1364.5642969614428, 8.076644443501568, 24.548352159409767, 613.3813566263317, 16.574421859998626, 187.37776220204768, 128.28291736026873, 57.73110213350084, 492.97555446775664, 218.70448722969684, 31.169721647190233, 73.88000494280944, 1225.4133233802024, 141.65402063852744, 218.01876661236082, 88.62801010094546, 1299.5553312388217, 130.4495468762934, 52.13338199543678, 1803.5770457771482, 206.4378634313192, 201.27015558259586, 1422.242813370178, 199.43084240855953, 340.5876836451171, 403.63773054658395, 1990.0087139058955, 4070.682329859957, 5576.791096239592, 372.4615379220054, 3971.439443769799, 2865.041923234039, 603.2536997875892, 437.0330243105974, 387.92710841136045, 2337.4788196076615, 1905.2376769715843, 2945.244771534579, 1141.3483597796253, 684.9630995496648, 1516.2414905878964, 303.32123823412917, 298.1181073293558, 247.73251046236751, 139.3170880971543, 1424.7953477303593, 23.040153796610443, 14.36040154476071, 379.2868302993637, 12.566645478252418, 12.2480661209403, 10.880577425350797, 10.005988475349378, 9.890390004875211, 9.455404619091906, 85.6231681837443, 8.902707669219827, 14.171275628752923, 8.599351756334098, 8.330636021897735, 16.634898917003696, 7.756988996524048, 7.616905900750724, 19.588461560685527, 7.541157359983463, 7.276804911085123, 7.058241573060631, 61.71643164644516, 6.89020743922256, 6.197346550277294, 1695.329671486353, 380.5091591233834, 75.96486384400298, 233.48744472507144, 291.6396932727885, 235.97962120199958, 176.07656355836068, 3971.439443769799, 77.05455169500041, 23.39270447507754, 142.19154168320782, 2945.244771534579, 716.6547456359796, 578.0626721747498, 684.9630995496648, 300.31341182788634, 648.6241480290789, 1348.6769230118962, 5576.791096239592, 574.9010583371173, 582.8328270291364, 101.9541268347407, 121.8500958321257, 1141.3483597796253, 2192.135450534329, 2865.041923234039, 1034.4576343292094, 2337.4788196076615, 827.1374890271073, 1364.5642969614428, 1803.5770457771482, 4070.682329859957, 143.35498365303542, 114.96320532150757, 95.05174870292262, 48.13651766095613, 31.364472892879423, 20.233038277589152, 14.029637850700679, 169.11232068449831, 11.807042101758045, 20.78631560581121, 9.943489208293375, 83.11106546348056, 180.875222416622, 8.998826572327712, 8.045564769459464, 29.690015772433934, 7.153018580204175, 6.309619305029484, 6.045464211863117, 5.978252874222301, 5.436416231077473, 148.36295928253983, 5.28410387264276, 5.104372246404075, 1990.0087139058955, 4.5203812538877965, 4.480252260956279, 4.393392470171023, 14.046993325763427, 4.037121247810615, 44.95856881377023, 103.98897454148245, 79.64243253938862, 648.6241480290789, 62.51930549723773, 716.6547456359796, 353.530114316178, 684.9630995496648, 204.15327327403153, 67.52250432704619, 582.8328270291364, 194.2205892742633, 2192.135450534329, 80.54108013412032, 3971.439443769799, 2865.041923234039, 603.2536997875892, 5576.791096239592, 4070.682329859957, 529.6973529005517, 2337.4788196076615, 213.36149525241333, 1034.4576343292094, 1141.3483597796253, 207.1934880367841, 2945.244771534579, 827.1374890271073, 1516.2414905878964, 708.3507426953832, 2753.3624746813925, 1803.5770457771482, 1225.4133233802024, 629.5291471660436, 1578.9813091099086, 56.017775681093745, 35.63777410380958, 23.969067593256778, 22.730307206029178, 18.607951220061796, 17.331870342380384, 14.921575392588272, 14.740797140861206, 13.811405573898632, 13.317927991579195, 135.3929420237157, 12.278397172331111, 12.121434801390665, 11.552019467718699, 64.04912776397927, 10.092389981802448, 132.2839784086191, 9.471422227697923, 9.396790551874245, 8.933181528703631, 8.711444337070427, 129.48358395644456, 8.712521988821333, 12.09518154747493, 8.014528466601474, 244.36091184018167, 91.49715364833911, 25.249118320390327, 196.31598252862673, 6.948590502782968, 302.2964061626865, 73.84188023675708, 35.185823045896534, 2221.4957286851068, 78.32796493650767, 653.6464493651258, 121.71167068289519, 34.069000106520846, 1808.4434312730325, 261.5618490631566, 202.47646657084755, 495.0286986369493, 1211.1635224626525, 384.69982988833516, 518.9505753681024, 343.3373583759704, 176.37386139474438, 641.279921621385, 682.6974722891558, 291.9272733400794, 224.08085350476352, 730.4455789575197, 539.1099265269999, 2192.135450534329, 3971.439443769799, 1422.242813370178, 1695.329671486353, 1516.2414905878964, 281.060869491098, 1299.5553312388217, 4070.682329859957, 2753.3624746813925, 515.7650110148489, 2865.041923234039, 69.72288661281281, 26.046319237064758, 22.859696663582127, 22.81792328723363, 22.34774473952309, 21.809183664558866, 115.85910074486954, 18.751264067413224, 18.641189950556576, 19.825030215172017, 17.459993879146598, 16.544817202455253, 18.646613852172916, 85.94141656873421, 15.256159577902851, 14.327149434107625, 14.286278459543503, 14.210370102112204, 13.480740424204473, 232.79437323277324, 13.326408813974625, 12.787533168213177, 12.723570342891396, 122.70192741455014, 13.376910280521603, 11.34695054699004, 11.260157234909883, 11.084242170304371, 20.31137730754923, 10.572606624541912, 520.1503680876557, 148.37154806692135, 40.1891851649124, 42.30863595954597, 2108.3425736552645, 33.74025249723078, 62.1747002324837, 248.70965228442194, 47.927817107009325, 141.24570427283663, 69.13400139031796, 30.312639197150368, 21.143839269696308, 286.56591366029545, 235.24593607312997, 115.41751623494456, 357.04735993681487, 127.37190573249244, 238.90588916795147, 374.6010109643217, 108.6301843378393, 561.0790907741203, 1141.3483597796253, 95.24004460880818, 307.34018250991835, 1516.2414905878964, 563.4977882749682, 189.545718670786, 352.96390203972476, 505.08314067751667, 2945.244771534579, 1490.544381056252, 2337.4788196076615, 423.81587634502694, 328.88900396876454, 274.87027127637856, 653.6464493651258, 892.7352307624832, 2753.3624746813925, 520.8603270130343, 2221.4957286851068, 1034.4576343292094, 130.1571088408664, 118.90704255473115, 22.097062284006842, 20.203012145478734, 15.729644467733541, 12.810254115589764, 12.788990041587034, 11.820622577376458, 11.551386516908472, 154.79115848043372, 10.527063953677319, 10.238993775115413, 10.118481200542814, 9.584867438665542, 186.9623639184687, 176.74800630003938, 8.169136054680056, 7.486960764556321, 45.18881104190954, 6.284966974496173, 12.051413249593082, 21.039730345648458, 5.529244250569399, 5.146201114026036, 49.09918547132539, 5.090151325604043, 4.312249709973604, 4.264094223643012, 4.254356978640854, 27.994280561317773, 52.383250921932174, 702.0619913333323, 28.60061263531782, 11.451889620612667, 50.90397422982046, 1164.1481024608781, 827.1374890271073, 74.38879658479132, 150.80818461231647, 181.53291506192897, 4070.682329859957, 708.3507426953832, 88.06617866175708, 2192.135450534329, 1422.242813370178, 298.60895942699227, 1490.544381056252, 2865.041923234039, 196.34328568276953, 3971.439443769799, 178.4818161229005, 2945.244771534579, 1299.5553312388217, 641.279921621385, 345.51180192649934, 1348.6769230118962, 222.60064915721858, 1578.9813091099086, 5576.791096239592, 2221.4957286851068, 2753.3624746813925, 892.7352307624832, 578.0626721747498, 1034.4576343292094, 1808.4434312730325, 210.21450156971682, 61.08046887522921, 51.16652010186583, 50.33148367488233, 45.95482335810057, 29.633249221954692, 28.204368842957212, 24.203962014692433, 22.09839445661713, 33.69265150700643, 16.8585889799321, 16.213942362734038, 16.142673307897457, 14.027752436880395, 13.81373023950844, 13.4705112974872, 13.409509437380077, 12.78113713807462, 12.678805854927472, 16.087675580062108, 12.145520904168743, 11.900536329455566, 11.55468746318923, 11.564284665190652, 11.179376994467717, 11.004034416115184, 10.832548809985484, 10.530373826132664, 10.696574118925751, 10.212944844283546, 50.85620151630009, 26.103265928406106, 42.342956874540775, 209.50819744589958, 33.098174973767854, 19.835713364797307, 52.895985576013395, 149.78568084090654, 115.18915615302257, 79.78340917597998, 20.160520382947453, 64.66085066889768, 495.0286986369493, 46.00995794578206, 41.7455158723867, 221.33309410722626, 1422.242813370178, 1299.5553312388217, 201.2267488661696, 80.37170044692625, 2221.4957286851068, 2865.041923234039, 372.4615379220054, 384.69982988833516, 2192.135450534329, 128.65871001274058, 1516.2414905878964, 629.5291471660436, 419.4108891826287, 1211.1635224626525, 559.0034986004218, 1808.4434312730325, 5576.791096239592, 2337.4788196076615, 1141.3483597796253, 2108.3425736552645, 307.34018250991835, 4070.682329859957, 924.2295573959552, 593.4405583952866, 837.6360353460716, 126.66149541370136, 40.528637743496034, 37.88059158458798, 37.093520290563916, 34.885871466044215, 30.237583604478143, 32.587416591939956, 24.54200627420242, 22.402510938777993, 21.128533160138794, 18.054662313164275, 17.137005549624142, 15.012740973851313, 14.59567739138405, 14.009128965467061, 33.873660035453184, 13.394366117240063, 13.139712956726976, 13.40711542518382, 11.744492067811533, 10.820290588157485, 33.32524569821634, 9.01032912528471, 9.037414965834719, 24.624927053661587, 8.74431834408038, 8.70569347877299, 48.36551786240759, 8.38221428695415, 8.3065694943282, 117.99012500208235, 23.270737973096306, 36.50735541347283, 92.10401055010581, 146.14066460705683, 42.791292286400754, 140.41342798535865, 178.58242368680254, 480.31846426690913, 40.860347977389345, 229.30913892655846, 111.21502454971602, 298.60895942699227, 353.8693934884819, 519.578317895863, 62.387112549698124, 561.0790907741203, 1348.6769230118962, 2945.244771534579, 578.0626721747498, 120.11685821187329, 238.90588916795147, 91.83831323339083, 827.1374890271073, 1034.4576343292094, 1808.4434312730325, 291.9272733400794, 2753.3624746813925, 352.96390203972476, 2108.3425736552645, 5576.791096239592, 206.03822870416758, 3971.439443769799, 2337.4788196076615, 200.65281760067074, 1905.2376769715843, 1164.1481024608781, 2221.4957286851068, 92.57241660736814, 41.996832512753144, 28.132637525567052, 23.87265933338515, 23.014641227152747, 20.943558769778605, 21.17016988790291, 19.19294691285935, 17.478968642024743, 407.2680714688793, 16.112088550393636, 16.024802402961743, 15.953462443908906, 15.935766444277983, 15.318393531613593, 15.112008615954396, 13.598341067146603, 14.28552595272085, 13.191119414366026, 12.511842722487863, 12.074584619603776, 69.28877053957322, 105.50546505714385, 10.543611326631227, 10.405517871149515, 10.282004587375841, 10.135734100769591, 9.965202082496225, 9.691719644956127, 9.244632349075133, 108.08756106150814, 98.35503908225489, 19.99998382582285, 520.8603270130343, 18.112606566092683, 261.5137631760179, 71.44981864165973, 177.67416622906305, 1803.5770457771482, 31.78421524958107, 83.96315409796703, 71.82855414243457, 71.34235731197377, 229.42472136919287, 109.26563263110721, 1225.4133233802024, 2337.4788196076615, 147.7734711079393, 130.33802908944816, 390.77533731107997, 1905.2376769715843, 102.4146670504177, 235.24593607312997, 1211.1635224626525, 519.578317895863, 5576.791096239592, 172.27716848312488, 629.5291471660436, 2108.3425736552645, 924.2295573959552, 2753.3624746813925, 708.3507426953832, 641.279921621385, 613.3813566263317, 837.6360353460716, 1578.9813091099086, 574.9010583371173, 240.65674861166738, 220.81226414523917, 83.98942312237651, 60.05837134743334, 42.50202124643477, 56.89129801208825, 41.4738028251126, 39.516683325983294, 44.328316227081984, 29.468092980484318, 25.700749410875098, 24.867949341933564, 52.89889564382056, 23.05290227633906, 21.30929231111999, 19.526519885200006, 392.9037494787947, 310.09687791282335, 16.08213844557618, 317.8125149505992, 15.798208997683757, 14.711454813335024, 13.65210282384563, 126.89216226363277, 13.274522177933832, 12.618156488693785, 11.762060431711692, 11.194175334965236, 10.913320895536675, 41.88895414816247, 72.96227181479115, 48.131368436326184, 177.8342607783096, 119.89011723174363, 17.952627625503006, 403.63773054658395, 86.6276631279773, 167.9694119249867, 36.12793534762778, 85.15392598210296, 152.2201828688264, 164.8863565633712, 480.6938538912776, 203.97203525181146, 207.1934880367841, 4070.682329859957, 1905.2376769715843, 2753.3624746813925, 539.1099265269999, 298.07102397405606, 2337.4788196076615, 1516.2414905878964, 837.6360353460716, 1490.544381056252, 2865.041923234039, 3971.439443769799, 1141.3483597796253, 2192.135450534329, 57.743539555020625, 37.00400674835959, 33.08465779753915, 56.578205861065335, 25.120268017940358, 232.24823334255913, 24.784901433001153, 26.512514435003762, 23.468523938664447, 21.3757971562162, 20.1384494217708, 18.484256957173695, 16.948166930300793, 16.079488874381116, 13.9475432076438, 51.7658196148806, 11.983918688246963, 11.839942886649247, 11.71155270479163, 12.290745932665313, 10.701745738979765, 13.877686449457675, 16.92609005783994, 48.69374140882047, 17.234098286741414, 19.042586664433273, 16.190663800298417, 27.351012202237197, 9.178752818397987, 48.6406762187201, 15.81765459330955, 23.949661950843204, 28.73152333494691, 153.7428037732295, 324.27654375866655, 103.1834992285232, 144.04048642265812, 67.22804164877373, 290.16741661421514, 113.3544180839543, 147.17216490724866, 1905.2376769715843, 56.29951329773153, 837.6360353460716, 122.16234043838871, 423.81587634502694, 211.77048895661812, 39.838980148852514, 41.327295482325226, 924.2295573959552, 437.0330243105974, 892.7352307624832, 177.90727274478616, 87.08562545975299, 261.4177450562319, 197.49635986649733, 5576.791096239592, 340.5876836451171, 1490.544381056252, 2865.041923234039, 1803.5770457771482, 2337.4788196076615, 1299.5553312388217, 213.2368757448416, 563.4977882749682, 1211.1635224626525, 116.30768690819122, 64.45814928977538, 48.595103534886825, 36.723921367592396, 35.68655238746781, 34.65338921295164, 32.01986364709738, 29.766443923330204, 42.95772917643818, 20.207045223300543, 17.070683351209684, 17.051459754937827, 16.43817596287153, 14.833324076385912, 14.265468026167587, 40.729811661245755, 15.314103327955038, 13.002489348959164, 13.00248943737249, 12.063425091408734, 23.252442965943814, 11.007424226638724, 10.93962109153846, 10.650157179233373, 157.0492323376839, 10.18975665304518, 9.790653397854262, 29.733381374713527, 18.737052398319367, 28.711310164082143, 62.4872943709906, 30.33428158060702, 58.84819018149875, 203.40205286983405, 53.984649223471905, 85.00633914677904, 268.8779201070511, 36.60912843251513, 40.971429079732296, 28.825161485896615, 54.03896417056304, 190.10816238087975, 64.20019248822317, 481.47853440577603, 604.7941947512536, 67.03205309224487, 116.6171640128071, 52.263310904666604, 368.38192071541243, 574.9010583371173, 108.02422053089347, 97.24547874679367, 119.15983027539323, 924.2295573959552, 220.42323771037633, 64.4941878131247, 1490.544381056252, 1211.1635224626525, 682.6974722891558, 108.44123195357517, 2865.041923234039, 1141.3483597796253, 837.6360353460716, 96.41744727992824, 29.438767367961184, 22.474097759335677, 21.64776403405157, 19.621371116850323, 17.800299273115264, 17.132405373657697, 17.08464887493553, 16.542094991780704, 16.01994251988459, 15.770390729712716, 15.565118504883237, 14.686881747877102, 14.125071590445529, 13.880847028608898, 13.229633554078665, 13.610193804257255, 13.046339201620434, 12.138891392008626, 11.86431832260409, 14.44272821201919, 10.83398252537958, 10.820358115879259, 10.766681883717794, 31.976481338090718, 10.346978458599748, 10.061811478512826, 10.079175992689859, 9.612366864589827, 9.746798213145103, 15.451124304845505, 31.242648848956907, 22.509518435131195, 46.089868036755014, 61.12008494136224, 25.38234475075208, 72.8382513058843, 20.31388113432536, 27.54181259204478, 65.98158330737594, 76.77762642364624, 152.0851677870758, 148.3890637934347, 87.81877555952292, 71.77648104160882, 91.83831323339083, 44.77805302308501, 42.36786909202253, 55.614899459403965, 837.6360353460716, 561.0790907741203, 1490.544381056252, 203.97203525181146, 80.87655655364897, 2337.4788196076615, 206.1849342451016, 384.69982988833516, 2865.041923234039, 180.9465698064921, 164.01261007865668, 328.88900396876454, 147.2288402646607, 2753.3624746813925, 4070.682329859957, 1164.1481024608781, 1905.2376769715843, 290.16741661421514, 2945.244771534579], \"Category\": [\"Default\", \"Default\", \"Default\", \"Default\", \"Default\", \"Default\", \"Default\", \"Default\", \"Default\", \"Default\", \"Default\", \"Default\", \"Default\", \"Default\", \"Default\", \"Default\", \"Default\", \"Default\", \"Default\", \"Default\", \"Default\", \"Default\", \"Default\", \"Default\", \"Default\", \"Default\", \"Default\", \"Default\", \"Default\", \"Default\", \"Topic1\", \"Topic1\", \"Topic1\", \"Topic1\", \"Topic1\", \"Topic1\", \"Topic1\", \"Topic1\", \"Topic1\", \"Topic1\", \"Topic1\", \"Topic1\", \"Topic1\", \"Topic1\", \"Topic1\", \"Topic1\", \"Topic1\", \"Topic1\", \"Topic1\", \"Topic1\", \"Topic1\", \"Topic1\", \"Topic1\", \"Topic1\", \"Topic1\", \"Topic1\", \"Topic1\", \"Topic1\", \"Topic1\", \"Topic1\", \"Topic1\", \"Topic1\", \"Topic1\", \"Topic1\", \"Topic1\", \"Topic1\", \"Topic1\", \"Topic1\", \"Topic1\", \"Topic1\", \"Topic1\", \"Topic1\", \"Topic1\", \"Topic1\", \"Topic1\", \"Topic1\", \"Topic1\", \"Topic1\", \"Topic1\", \"Topic1\", \"Topic1\", \"Topic1\", \"Topic1\", \"Topic1\", \"Topic1\", \"Topic1\", \"Topic1\", \"Topic1\", \"Topic1\", \"Topic1\", \"Topic1\", \"Topic1\", \"Topic1\", \"Topic1\", \"Topic1\", \"Topic1\", \"Topic1\", \"Topic1\", \"Topic1\", \"Topic1\", \"Topic1\", \"Topic1\", \"Topic1\", \"Topic2\", \"Topic2\", \"Topic2\", \"Topic2\", \"Topic2\", \"Topic2\", \"Topic2\", \"Topic2\", \"Topic2\", \"Topic2\", \"Topic2\", \"Topic2\", \"Topic2\", \"Topic2\", \"Topic2\", \"Topic2\", \"Topic2\", \"Topic2\", \"Topic2\", \"Topic2\", \"Topic2\", \"Topic2\", \"Topic2\", \"Topic2\", \"Topic2\", \"Topic2\", \"Topic2\", \"Topic2\", \"Topic2\", \"Topic2\", \"Topic2\", \"Topic2\", \"Topic2\", \"Topic2\", \"Topic2\", \"Topic2\", \"Topic2\", \"Topic2\", \"Topic2\", \"Topic2\", \"Topic2\", \"Topic2\", \"Topic2\", \"Topic2\", \"Topic2\", \"Topic2\", \"Topic2\", \"Topic2\", \"Topic2\", \"Topic2\", \"Topic2\", \"Topic2\", \"Topic2\", \"Topic2\", \"Topic2\", \"Topic2\", \"Topic2\", \"Topic2\", \"Topic2\", \"Topic2\", \"Topic2\", \"Topic2\", \"Topic2\", \"Topic2\", \"Topic2\", \"Topic2\", \"Topic2\", \"Topic2\", \"Topic2\", \"Topic3\", \"Topic3\", \"Topic3\", \"Topic3\", \"Topic3\", \"Topic3\", \"Topic3\", \"Topic3\", \"Topic3\", \"Topic3\", \"Topic3\", \"Topic3\", \"Topic3\", \"Topic3\", \"Topic3\", \"Topic3\", \"Topic3\", \"Topic3\", \"Topic3\", \"Topic3\", \"Topic3\", \"Topic3\", \"Topic3\", \"Topic3\", \"Topic3\", \"Topic3\", \"Topic3\", \"Topic3\", \"Topic3\", \"Topic3\", \"Topic3\", \"Topic3\", \"Topic3\", \"Topic3\", \"Topic3\", \"Topic3\", \"Topic3\", \"Topic3\", \"Topic3\", \"Topic3\", \"Topic3\", \"Topic3\", \"Topic3\", \"Topic3\", \"Topic3\", \"Topic3\", \"Topic3\", \"Topic3\", \"Topic3\", \"Topic3\", \"Topic3\", \"Topic3\", \"Topic3\", \"Topic3\", \"Topic3\", \"Topic3\", \"Topic3\", \"Topic3\", \"Topic3\", \"Topic3\", \"Topic3\", \"Topic4\", \"Topic4\", \"Topic4\", \"Topic4\", \"Topic4\", \"Topic4\", \"Topic4\", \"Topic4\", \"Topic4\", \"Topic4\", \"Topic4\", \"Topic4\", \"Topic4\", \"Topic4\", \"Topic4\", \"Topic4\", \"Topic4\", \"Topic4\", \"Topic4\", \"Topic4\", \"Topic4\", \"Topic4\", \"Topic4\", \"Topic4\", \"Topic4\", \"Topic4\", \"Topic4\", \"Topic4\", \"Topic4\", \"Topic4\", \"Topic4\", \"Topic4\", \"Topic4\", \"Topic4\", \"Topic4\", \"Topic4\", \"Topic4\", \"Topic4\", \"Topic4\", \"Topic4\", \"Topic4\", \"Topic4\", \"Topic4\", \"Topic4\", \"Topic4\", \"Topic4\", \"Topic4\", \"Topic4\", \"Topic4\", \"Topic4\", \"Topic4\", \"Topic4\", \"Topic4\", \"Topic4\", \"Topic4\", \"Topic4\", \"Topic4\", \"Topic4\", \"Topic4\", \"Topic4\", \"Topic4\", \"Topic4\", \"Topic4\", \"Topic4\", \"Topic5\", \"Topic5\", \"Topic5\", \"Topic5\", \"Topic5\", \"Topic5\", \"Topic5\", \"Topic5\", \"Topic5\", \"Topic5\", \"Topic5\", \"Topic5\", \"Topic5\", \"Topic5\", \"Topic5\", \"Topic5\", \"Topic5\", \"Topic5\", \"Topic5\", \"Topic5\", \"Topic5\", \"Topic5\", \"Topic5\", \"Topic5\", \"Topic5\", \"Topic5\", \"Topic5\", \"Topic5\", \"Topic5\", \"Topic5\", \"Topic5\", \"Topic5\", \"Topic5\", \"Topic5\", \"Topic5\", \"Topic5\", \"Topic5\", \"Topic5\", \"Topic5\", \"Topic5\", \"Topic5\", \"Topic5\", \"Topic5\", \"Topic5\", \"Topic5\", \"Topic5\", \"Topic5\", \"Topic5\", \"Topic5\", \"Topic5\", \"Topic5\", \"Topic5\", \"Topic5\", \"Topic5\", \"Topic5\", \"Topic5\", \"Topic5\", \"Topic5\", \"Topic5\", \"Topic5\", \"Topic5\", \"Topic5\", \"Topic5\", \"Topic5\", \"Topic6\", \"Topic6\", \"Topic6\", \"Topic6\", \"Topic6\", \"Topic6\", \"Topic6\", \"Topic6\", \"Topic6\", \"Topic6\", \"Topic6\", \"Topic6\", \"Topic6\", \"Topic6\", \"Topic6\", \"Topic6\", \"Topic6\", \"Topic6\", \"Topic6\", \"Topic6\", \"Topic6\", \"Topic6\", \"Topic6\", \"Topic6\", \"Topic6\", \"Topic6\", \"Topic6\", \"Topic6\", \"Topic6\", \"Topic6\", \"Topic6\", \"Topic6\", \"Topic6\", \"Topic6\", \"Topic6\", \"Topic6\", \"Topic6\", \"Topic6\", \"Topic6\", \"Topic6\", \"Topic6\", \"Topic6\", \"Topic6\", \"Topic6\", \"Topic6\", \"Topic6\", \"Topic6\", \"Topic6\", \"Topic6\", \"Topic6\", \"Topic6\", \"Topic6\", \"Topic6\", \"Topic6\", \"Topic6\", \"Topic6\", \"Topic6\", \"Topic6\", \"Topic6\", \"Topic6\", \"Topic6\", \"Topic6\", \"Topic6\", \"Topic6\", \"Topic6\", \"Topic6\", \"Topic6\", \"Topic6\", \"Topic6\", \"Topic6\", \"Topic6\", \"Topic6\", \"Topic7\", \"Topic7\", \"Topic7\", \"Topic7\", \"Topic7\", \"Topic7\", \"Topic7\", \"Topic7\", \"Topic7\", \"Topic7\", \"Topic7\", \"Topic7\", \"Topic7\", \"Topic7\", \"Topic7\", \"Topic7\", \"Topic7\", \"Topic7\", \"Topic7\", \"Topic7\", \"Topic7\", \"Topic7\", \"Topic7\", \"Topic7\", \"Topic7\", \"Topic7\", \"Topic7\", \"Topic7\", \"Topic7\", \"Topic7\", \"Topic7\", \"Topic7\", \"Topic7\", \"Topic7\", \"Topic7\", \"Topic7\", \"Topic7\", \"Topic7\", \"Topic7\", \"Topic7\", \"Topic7\", \"Topic7\", \"Topic7\", \"Topic7\", \"Topic7\", \"Topic7\", \"Topic7\", \"Topic7\", \"Topic7\", \"Topic7\", \"Topic7\", \"Topic7\", \"Topic7\", \"Topic7\", \"Topic7\", \"Topic7\", \"Topic7\", \"Topic7\", \"Topic7\", \"Topic7\", \"Topic7\", \"Topic7\", \"Topic7\", \"Topic7\", \"Topic7\", \"Topic8\", \"Topic8\", \"Topic8\", \"Topic8\", \"Topic8\", \"Topic8\", \"Topic8\", \"Topic8\", \"Topic8\", \"Topic8\", \"Topic8\", \"Topic8\", \"Topic8\", \"Topic8\", \"Topic8\", \"Topic8\", \"Topic8\", \"Topic8\", \"Topic8\", \"Topic8\", \"Topic8\", \"Topic8\", \"Topic8\", \"Topic8\", \"Topic8\", \"Topic8\", \"Topic8\", \"Topic8\", \"Topic8\", \"Topic8\", \"Topic8\", \"Topic8\", \"Topic8\", \"Topic8\", \"Topic8\", \"Topic8\", \"Topic8\", \"Topic8\", \"Topic8\", \"Topic8\", \"Topic8\", \"Topic8\", \"Topic8\", \"Topic8\", \"Topic8\", \"Topic8\", \"Topic8\", \"Topic8\", \"Topic8\", \"Topic8\", \"Topic8\", \"Topic8\", \"Topic8\", \"Topic8\", \"Topic8\", \"Topic8\", \"Topic8\", \"Topic8\", \"Topic8\", \"Topic8\", \"Topic8\", \"Topic8\", \"Topic8\", \"Topic8\", \"Topic8\", \"Topic8\", \"Topic8\", \"Topic8\", \"Topic8\", \"Topic8\", \"Topic8\", \"Topic9\", \"Topic9\", \"Topic9\", \"Topic9\", \"Topic9\", \"Topic9\", \"Topic9\", \"Topic9\", \"Topic9\", \"Topic9\", \"Topic9\", \"Topic9\", \"Topic9\", \"Topic9\", \"Topic9\", \"Topic9\", \"Topic9\", \"Topic9\", \"Topic9\", \"Topic9\", \"Topic9\", \"Topic9\", \"Topic9\", \"Topic9\", \"Topic9\", \"Topic9\", \"Topic9\", \"Topic9\", \"Topic9\", \"Topic9\", \"Topic9\", \"Topic9\", \"Topic9\", \"Topic9\", \"Topic9\", \"Topic9\", \"Topic9\", \"Topic9\", \"Topic9\", \"Topic9\", \"Topic9\", \"Topic9\", \"Topic9\", \"Topic9\", \"Topic9\", \"Topic9\", \"Topic9\", \"Topic9\", \"Topic9\", \"Topic9\", \"Topic9\", \"Topic9\", \"Topic9\", \"Topic9\", \"Topic9\", \"Topic9\", \"Topic9\", \"Topic9\", \"Topic9\", \"Topic9\", \"Topic9\", \"Topic9\", \"Topic9\", \"Topic9\", \"Topic9\", \"Topic9\", \"Topic9\", \"Topic9\", \"Topic10\", \"Topic10\", \"Topic10\", \"Topic10\", \"Topic10\", \"Topic10\", \"Topic10\", \"Topic10\", \"Topic10\", \"Topic10\", \"Topic10\", \"Topic10\", \"Topic10\", \"Topic10\", \"Topic10\", \"Topic10\", \"Topic10\", \"Topic10\", \"Topic10\", \"Topic10\", \"Topic10\", \"Topic10\", \"Topic10\", \"Topic10\", \"Topic10\", \"Topic10\", \"Topic10\", \"Topic10\", \"Topic10\", \"Topic10\", \"Topic10\", \"Topic10\", \"Topic10\", \"Topic10\", \"Topic10\", \"Topic10\", \"Topic10\", \"Topic10\", \"Topic10\", \"Topic10\", \"Topic10\", \"Topic10\", \"Topic10\", \"Topic10\", \"Topic10\", \"Topic10\", \"Topic10\", \"Topic10\", \"Topic10\", \"Topic10\", \"Topic10\", \"Topic10\", \"Topic10\", \"Topic10\", \"Topic10\", \"Topic10\", \"Topic10\", \"Topic10\", \"Topic10\", \"Topic10\", \"Topic10\", \"Topic10\", \"Topic10\", \"Topic10\", \"Topic10\", \"Topic10\", \"Topic10\", \"Topic11\", \"Topic11\", \"Topic11\", \"Topic11\", \"Topic11\", \"Topic11\", \"Topic11\", \"Topic11\", \"Topic11\", \"Topic11\", \"Topic11\", \"Topic11\", \"Topic11\", \"Topic11\", \"Topic11\", \"Topic11\", \"Topic11\", \"Topic11\", \"Topic11\", \"Topic11\", \"Topic11\", \"Topic11\", \"Topic11\", \"Topic11\", \"Topic11\", \"Topic11\", \"Topic11\", \"Topic11\", \"Topic11\", \"Topic11\", \"Topic11\", \"Topic11\", \"Topic11\", \"Topic11\", \"Topic11\", \"Topic11\", \"Topic11\", \"Topic11\", \"Topic11\", \"Topic11\", \"Topic11\", \"Topic11\", \"Topic11\", \"Topic11\", \"Topic11\", \"Topic11\", \"Topic11\", \"Topic11\", \"Topic11\", \"Topic11\", \"Topic11\", \"Topic11\", \"Topic11\", \"Topic11\", \"Topic11\", \"Topic11\", \"Topic11\", \"Topic11\", \"Topic12\", \"Topic12\", \"Topic12\", \"Topic12\", \"Topic12\", \"Topic12\", \"Topic12\", \"Topic12\", \"Topic12\", \"Topic12\", \"Topic12\", \"Topic12\", \"Topic12\", \"Topic12\", \"Topic12\", \"Topic12\", \"Topic12\", \"Topic12\", \"Topic12\", \"Topic12\", \"Topic12\", \"Topic12\", \"Topic12\", \"Topic12\", \"Topic12\", \"Topic12\", \"Topic12\", \"Topic12\", \"Topic12\", \"Topic12\", \"Topic12\", \"Topic12\", \"Topic12\", \"Topic12\", \"Topic12\", \"Topic12\", \"Topic12\", \"Topic12\", \"Topic12\", \"Topic12\", \"Topic12\", \"Topic12\", \"Topic12\", \"Topic12\", \"Topic12\", \"Topic12\", \"Topic12\", \"Topic12\", \"Topic12\", \"Topic12\", \"Topic12\", \"Topic12\", \"Topic12\", \"Topic12\", \"Topic12\", \"Topic12\", \"Topic12\", \"Topic12\", \"Topic12\", \"Topic12\", \"Topic12\", \"Topic12\", \"Topic12\", \"Topic12\", \"Topic12\", \"Topic12\", \"Topic13\", \"Topic13\", \"Topic13\", \"Topic13\", \"Topic13\", \"Topic13\", \"Topic13\", \"Topic13\", \"Topic13\", \"Topic13\", \"Topic13\", \"Topic13\", \"Topic13\", \"Topic13\", \"Topic13\", \"Topic13\", \"Topic13\", \"Topic13\", \"Topic13\", \"Topic13\", \"Topic13\", \"Topic13\", \"Topic13\", \"Topic13\", \"Topic13\", \"Topic13\", \"Topic13\", \"Topic13\", \"Topic13\", \"Topic13\", \"Topic13\", \"Topic13\", \"Topic13\", \"Topic13\", \"Topic13\", \"Topic13\", \"Topic13\", \"Topic13\", \"Topic13\", \"Topic13\", \"Topic13\", \"Topic13\", \"Topic13\", \"Topic13\", \"Topic13\", \"Topic13\", \"Topic13\", \"Topic13\", \"Topic13\", \"Topic13\", \"Topic13\", \"Topic13\", \"Topic13\", \"Topic13\", \"Topic13\", \"Topic13\", \"Topic13\", \"Topic13\", \"Topic13\", \"Topic13\", \"Topic13\", \"Topic13\", \"Topic13\", \"Topic14\", \"Topic14\", \"Topic14\", \"Topic14\", \"Topic14\", \"Topic14\", \"Topic14\", \"Topic14\", \"Topic14\", \"Topic14\", \"Topic14\", \"Topic14\", \"Topic14\", \"Topic14\", \"Topic14\", \"Topic14\", \"Topic14\", \"Topic14\", \"Topic14\", \"Topic14\", \"Topic14\", \"Topic14\", \"Topic14\", \"Topic14\", \"Topic14\", \"Topic14\", \"Topic14\", \"Topic14\", \"Topic14\", \"Topic14\", \"Topic14\", \"Topic14\", \"Topic14\", \"Topic14\", \"Topic14\", \"Topic14\", \"Topic14\", \"Topic14\", \"Topic14\", \"Topic14\", \"Topic14\", \"Topic14\", \"Topic14\", \"Topic14\", \"Topic14\", \"Topic14\", \"Topic14\", \"Topic14\", \"Topic14\", \"Topic14\", \"Topic14\", \"Topic14\", \"Topic14\", \"Topic14\", \"Topic14\", \"Topic14\", \"Topic14\", \"Topic14\", \"Topic14\", \"Topic14\", \"Topic14\", \"Topic14\", \"Topic14\", \"Topic14\", \"Topic14\", \"Topic14\", \"Topic14\", \"Topic14\"], \"logprob\": [30.0, 29.0, 28.0, 27.0, 26.0, 25.0, 24.0, 23.0, 22.0, 21.0, 20.0, 19.0, 18.0, 17.0, 16.0, 15.0, 14.0, 13.0, 12.0, 11.0, 10.0, 9.0, 8.0, 7.0, 6.0, 5.0, 4.0, 3.0, 2.0, 1.0, -5.7667, -6.2543, -5.1929, -6.4877, -6.7107, -6.8, -6.845, -6.8605, -6.9342, -6.7881, -5.2628, -4.9636, -7.3216, -6.1022, -7.3116, -7.4023, -7.4082, -7.4101, -7.714, -7.7362, -7.7363, -7.7928, -6.6873, -7.8295, -6.8295, -7.8726, -7.89, -7.9102, -7.9197, -4.9996, -5.2613, -4.831, -4.8151, -6.4927, -6.4543, -5.2705, -5.889, -6.4496, -4.7955, -3.1299, -4.8017, -4.0378, -6.0857, -4.8407, -4.2299, -4.8828, -5.5492, -2.862, -4.3589, -5.4123, -2.4006, -4.8109, -5.5434, -5.166, -5.11, -5.0739, -5.2636, -5.0388, -4.6023, -3.364, -3.9875, -4.1018, -4.6277, -4.4087, -4.8226, -4.745, -4.3612, -4.5927, -4.7294, -4.7731, -4.5998, -4.8337, -4.7658, -4.2146, -3.2871, -5.696, -3.4361, -5.865, -5.1939, -6.3611, -6.5882, -6.7278, -6.82, -6.2861, -6.9298, -7.0013, -7.0676, -7.1171, -7.1892, -7.2609, -5.1007, -6.0325, -7.5186, -7.5342, -7.5472, -7.5533, -7.5787, -7.6009, -7.6332, -7.6833, -6.7128, -2.5871, -7.7206, -6.6158, -3.549, -7.0194, -4.7221, -5.0967, -5.8576, -3.8857, -4.6591, -6.4439, -5.6631, -3.2113, -5.1817, -4.8258, -5.5811, -3.6236, -5.4137, -6.0973, -3.6324, -5.1482, -5.2035, -3.9541, -5.2337, -4.9034, -4.81, -3.8837, -3.6075, -3.4859, -4.9017, -3.779, -4.0907, -4.8223, -4.976, -5.0383, -4.9239, -5.0164, -5.0004, -5.0507, -5.0812, -5.0911, -3.9491, -3.9677, -4.1536, -4.7307, -2.416, -6.5668, -7.067, -3.8, -7.2111, -7.239, -7.3684, -7.4609, -7.476, -7.5239, -5.3216, -7.5914, -7.1306, -7.6305, -7.6664, -6.9847, -7.7477, -7.7686, -6.8247, -7.7801, -7.8213, -7.8566, -5.6914, -7.8847, -8.0095, -2.4018, -3.9215, -5.6034, -4.5558, -4.3571, -4.6712, -5.0756, -2.4592, -5.8211, -6.8133, -5.3529, -3.0881, -4.2136, -4.4515, -4.3622, -4.9577, -4.4272, -3.9317, -3.0213, -4.6005, -4.5977, -5.8054, -5.7002, -4.481, -4.1352, -3.9948, -4.5399, -4.516, -4.861, -4.7331, -4.699, -4.5629, -4.6907, -4.913, -5.1049, -5.7996, -6.2352, -6.6915, -7.0806, -4.5938, -7.2674, -6.7031, -7.4564, -5.337, -4.5643, -7.5694, -7.6946, -6.4018, -7.8296, -7.9767, -8.0276, -8.0409, -8.1558, -4.8548, -8.1906, -8.2333, -2.2947, -8.3862, -8.3977, -8.4228, -7.2715, -8.5333, -6.1527, -5.4177, -5.6913, -3.7269, -5.9296, -3.7916, -4.429, -3.8533, -4.9291, -5.903, -4.2021, -5.1304, -3.1839, -5.8505, -2.8379, -3.1084, -4.3383, -2.7935, -3.0395, -4.4715, -3.544, -5.1384, -4.1475, -4.0889, -5.2277, -3.9075, -4.544, -4.2829, -4.6574, -4.1379, -4.5183, -4.8056, -4.9644, -4.936, -5.622, -6.0846, -6.4948, -6.5501, -6.7602, -6.8367, -6.9947, -7.0077, -7.0776, -7.1168, -4.8006, -7.2047, -7.2211, -7.2711, -5.5639, -7.4196, -4.8464, -7.4901, -7.4989, -7.5561, -7.584, -4.8882, -7.593, -7.2659, -7.6781, -4.2643, -5.2592, -6.5482, -4.5002, -7.8423, -4.0872, -5.4828, -6.2349, -2.3537, -5.5364, -3.575, -5.1696, -6.3374, -2.8725, -4.566, -4.7904, -4.1432, -3.4674, -4.4044, -4.2318, -4.5566, -5.1262, -4.2062, -4.1939, -4.8117, -5.0003, -4.2249, -4.4693, -3.7884, -3.485, -4.066, -4.1271, -4.2061, -4.9844, -4.5457, -4.2424, -4.3571, -4.875, -4.7111, -5.2762, -6.2849, -6.4208, -6.4227, -6.4447, -6.47, -4.8033, -6.6287, -6.6349, -6.5766, -6.7041, -6.7613, -6.6419, -5.1156, -6.8476, -6.9149, -6.9182, -6.9237, -6.9804, -4.132, -6.9928, -7.0374, -7.0428, -4.7776, -6.998, -7.1674, -7.1758, -7.1932, -6.592, -7.245, -3.3712, -4.6273, -5.943, -5.8971, -2.1518, -6.1157, -5.554, -4.2793, -5.8097, -4.8464, -5.4926, -6.2477, -6.5714, -4.3831, -4.6123, -5.1928, -4.3112, -5.1396, -4.6573, -4.4399, -5.3603, -4.2042, -3.8562, -5.5115, -4.7861, -3.8599, -4.471, -5.1293, -4.7814, -4.6236, -3.7432, -4.2294, -4.1335, -4.8179, -4.9446, -5.0265, -4.7998, -4.8928, -4.8058, -5.0085, -4.9761, -5.0032, -4.5985, -4.7102, -6.4091, -6.5031, -6.768, -6.9885, -6.9903, -7.0759, -7.101, -4.5088, -7.2029, -7.2336, -7.2467, -7.3073, -4.3495, -4.407, -7.4866, -7.5862, -5.8091, -7.7905, -7.1411, -6.5929, -7.9441, -8.032, -5.7976, -8.0889, -8.2554, -8.2699, -8.2729, -6.4119, -5.8016, -3.2879, -6.4174, -7.3066, -5.881, -3.0058, -3.5039, -5.6432, -5.0384, -4.9295, -2.3888, -3.959, -5.5962, -3.2022, -3.5736, -4.7484, -3.5953, -3.1866, -5.0671, -3.0917, -5.1871, -3.3408, -3.9074, -4.3943, -4.7978, -4.0291, -5.0616, -4.0079, -3.6116, -4.0702, -3.9785, -4.4917, -4.8414, -4.9853, -5.0212, -3.969, -5.2087, -5.3887, -5.407, -5.4983, -5.9491, -6.0002, -6.1594, -6.2541, -5.8409, -6.5391, -6.5805, -6.5852, -6.7355, -6.7523, -6.7789, -6.7838, -6.8357, -6.8444, -6.6063, -6.8912, -6.914, -6.9453, -6.9461, -6.9819, -6.9987, -7.016, -7.0471, -7.0335, -7.0809, -5.4887, -6.1572, -5.6918, -4.195, -5.9562, -6.4431, -5.5444, -4.7043, -4.9471, -5.3006, -6.4634, -5.5304, -3.9567, -5.8207, -5.9099, -4.721, -3.3792, -3.6286, -4.9636, -5.5811, -3.5857, -3.456, -4.8545, -4.8726, -4.1272, -5.4033, -4.305, -4.7111, -4.9053, -4.5421, -4.8939, -4.5905, -4.303, -4.6016, -4.8983, -4.8631, -5.2333, -4.8891, -5.11, -5.2712, -5.2803, -4.4563, -5.6125, -5.6821, -5.7033, -5.7664, -5.9138, -5.8411, -6.1303, -6.2255, -6.2893, -6.4523, -6.5075, -6.6491, -6.6787, -6.7227, -5.8428, -6.7711, -6.7917, -6.7728, -6.9152, -7.0033, -5.8852, -7.2066, -7.2045, -6.2042, -7.2402, -7.2452, -5.5333, -7.288, -7.2983, -4.6941, -6.2934, -5.8653, -4.9841, -4.5547, -5.7335, -4.6402, -4.4883, -3.7239, -5.8316, -4.399, -5.0203, -4.2968, -4.1706, -3.9433, -5.5546, -4.0324, -3.4226, -2.9025, -4.0682, -5.1596, -4.7336, -5.366, -4.2523, -4.2135, -4.117, -4.9194, -3.9929, -4.8899, -4.31, -3.9954, -5.1291, -4.1967, -4.4633, -5.1861, -4.6743, -5.0881, -5.0961, -4.7273, -5.5345, -5.9415, -6.1124, -6.1503, -6.249, -6.2387, -6.3407, -6.4395, -3.2943, -6.526, -6.5318, -6.5365, -6.5377, -6.5799, -6.5944, -6.7076, -6.659, -6.7439, -6.7976, -6.8363, -5.0947, -4.6748, -6.9847, -6.9992, -7.0124, -7.0282, -7.047, -7.0779, -7.1306, -4.6852, -4.8329, -6.3761, -3.2555, -6.4854, -4.0301, -5.2348, -4.4907, -2.5357, -6.0127, -5.2472, -5.4228, -5.4409, -4.5927, -5.2373, -3.7073, -3.3095, -5.0964, -5.2235, -4.5745, -3.6247, -5.3838, -4.9197, -4.1475, -4.6439, -3.5165, -5.2041, -4.6563, -4.2247, -4.7162, -4.473, -4.8365, -4.8838, -4.9, -4.9136, -5.0332, -5.1225, -3.627, -3.7148, -4.6856, -5.0255, -5.3789, -5.0874, -5.4038, -5.4525, -5.3386, -5.7544, -5.8961, -5.9303, -5.1756, -6.0093, -6.0914, -6.1831, -3.1844, -3.4257, -6.3902, -3.4077, -6.4109, -6.4832, -6.5636, -4.3356, -6.5942, -6.6503, -6.7249, -6.7785, -6.8062, -5.4613, -4.9353, -5.3601, -4.1391, -4.5795, -6.3297, -3.7242, -5.044, -4.5234, -5.7707, -5.1295, -4.8569, -4.8193, -4.2194, -4.7664, -4.8355, -3.4129, -4.1091, -4.1572, -4.7639, -4.9211, -4.4948, -4.5946, -4.7828, -4.6855, -4.7361, -4.8216, -4.9226, -4.9232, -5.0642, -5.5185, -5.6336, -5.1016, -5.9187, -3.6959, -5.9345, -5.8676, -5.9895, -6.0875, -6.1497, -6.2404, -6.332, -6.3877, -6.5482, -5.2382, -6.7039, -6.7171, -6.729, -6.685, -6.8277, -6.568, -6.374, -5.3196, -6.365, -6.2655, -6.4303, -5.9062, -6.9997, -5.3347, -6.4617, -6.0567, -5.9069, -4.4638, -3.8276, -4.863, -4.5947, -5.2472, -4.0437, -4.8383, -4.657, -2.7339, -5.4489, -3.4675, -4.8898, -4.0981, -4.5908, -5.7201, -5.7033, -3.9074, -4.463, -4.1772, -4.9956, -5.3624, -4.8744, -5.043, -3.7114, -4.8477, -4.3987, -4.2401, -4.5065, -4.4694, -4.6486, -5.0921, -5.0587, -5.0438, -3.9986, -4.5956, -4.8834, -5.1698, -5.1997, -5.2296, -5.311, -5.3895, -5.0228, -5.7897, -5.9675, -5.9687, -6.01, -6.1171, -6.159, -5.1138, -6.0967, -6.2652, -6.2652, -6.3409, -5.6891, -6.44, -6.4468, -6.4763, -3.7882, -6.525, -6.5693, -5.4588, -5.9211, -5.5107, -4.7413, -5.4718, -4.8702, -3.7226, -4.9808, -4.5716, -3.6089, -5.3568, -5.3077, -5.5923, -5.1155, -4.1824, -5.0047, -3.5596, -3.402, -5.0046, -4.6832, -5.2017, -4.0897, -3.8867, -4.8167, -4.8707, -4.8987, -4.2752, -4.7553, -5.1542, -4.6389, -4.7618, -4.8929, -5.0908, -4.8632, -4.9559, -5.0069, -4.0811, -5.2911, -5.5713, -5.6173, -5.716, -5.8161, -5.8564, -5.8593, -5.894, -5.9277, -5.9444, -5.9603, -6.0204, -6.0625, -6.0809, -6.1327, -6.1056, -6.1506, -6.2258, -6.2507, -6.0571, -6.35, -6.3514, -6.3568, -5.2715, -6.4006, -6.4316, -6.433, -6.4821, -6.4702, -6.0311, -5.3741, -5.6903, -5.0358, -4.879, -5.636, -4.7552, -5.8385, -5.6389, -5.0132, -4.9593, -4.5572, -4.5809, -4.9219, -5.0824, -4.9429, -5.3824, -5.419, -5.3118, -3.9399, -4.1424, -3.9132, -4.822, -5.229, -3.8849, -4.9317, -4.7606, -4.1126, -5.117, -5.1861, -5.0417, -5.2235, -4.7768, -4.7824, -4.9453, -4.9752, -5.2321, -5.2003], \"loglift\": [30.0, 29.0, 28.0, 27.0, 26.0, 25.0, 24.0, 23.0, 22.0, 21.0, 20.0, 19.0, 18.0, 17.0, 16.0, 15.0, 14.0, 13.0, 12.0, 11.0, 10.0, 9.0, 8.0, 7.0, 6.0, 5.0, 4.0, 3.0, 2.0, 1.0, 2.0191, 2.0089, 2.0081, 2.005, 1.9981, 1.9949, 1.9931, 1.9926, 1.9895, 1.9891, 1.9848, 1.9714, 1.9697, 1.9681, 1.9656, 1.9646, 1.9642, 1.9641, 1.9405, 1.9385, 1.9384, 1.9335, 1.933, 1.93, 1.927, 1.9239, 1.9239, 1.9218, 1.9208, 1.919, 1.8853, 1.873, 1.8423, 1.8881, 1.8837, 1.8254, 1.8362, 1.8626, 1.7398, 1.5691, 1.7155, 1.6398, 1.8253, 1.6722, 1.588, 1.6687, 1.74, 1.281, 1.5294, 1.6983, 1.0366, 1.5439, 1.6817, 1.5632, 1.5481, 1.4894, 1.5289, 1.4368, 1.2094, 0.388, 0.5237, 0.4615, 0.8422, 0.348, 0.9147, 0.7925, -0.0545, 0.3715, 0.5052, 0.2307, -0.5242, -0.0942, -0.6626, 2.3787, 2.3776, 2.3666, 2.3665, 2.3633, 2.3514, 2.3498, 2.3411, 2.3347, 2.3299, 2.3255, 2.3236, 2.3194, 2.3151, 2.3115, 2.3064, 2.3008, 2.2978, 2.2778, 2.2774, 2.2758, 2.2744, 2.2738, 2.2711, 2.2687, 2.2651, 2.2593, 2.2588, 2.2578, 2.254, 2.2471, 2.0956, 2.2363, 2.1083, 2.1126, 2.1502, 1.9774, 2.0167, 2.1802, 2.098, 1.7412, 1.9284, 1.8531, 1.998, 1.2701, 1.7789, 2.0125, 0.9337, 1.5853, 1.5554, 0.8495, 1.5344, 1.3295, 1.253, 0.5839, 0.1445, -0.0488, 1.2417, -0.0024, 0.0125, 0.8389, 1.0075, 1.0644, -0.6171, -0.5052, -0.9248, -0.0271, 0.453, -0.3516, 2.3996, 2.3983, 2.3976, 2.3961, 2.3857, 2.3595, 2.332, 2.3253, 2.3214, 2.3191, 2.3082, 2.2995, 2.296, 2.2931, 2.292, 2.2858, 2.2817, 2.2814, 2.2772, 2.2674, 2.2672, 2.2646, 2.2639, 2.2631, 2.2576, 2.2527, 2.2496, 2.2487, 2.2299, 2.2262, 2.2006, 2.1299, 2.0546, 2.0309, 1.9286, 1.817, 1.3175, 1.898, 2.0979, 1.7535, 0.9875, 1.2754, 1.2524, 1.172, 1.401, 1.1615, 0.925, 0.4159, 1.1089, 1.098, 1.6336, 1.5606, 0.5426, 0.2357, 0.1084, 0.582, -0.2093, 0.4846, 0.1119, -0.133, -0.8109, 2.4075, 2.4059, 2.4042, 2.3899, 2.3827, 2.3647, 2.3418, 2.3392, 2.3275, 2.3262, 2.3103, 2.3064, 2.3015, 2.2971, 2.2839, 2.2709, 2.2664, 2.2448, 2.2367, 2.2345, 2.2146, 2.2091, 2.2082, 2.2001, 2.173, 2.1687, 2.1662, 2.1606, 2.1496, 2.1348, 2.1051, 2.0015, 1.9947, 1.8618, 1.9985, 1.6974, 1.7666, 1.6809, 1.8156, 1.9481, 1.4935, 1.6641, 1.187, 1.8243, 0.9387, 0.9948, 1.3229, 0.6437, 0.7125, 1.3197, 0.7627, 1.5622, 0.9744, 0.9347, 1.5022, 0.1681, 0.8016, 0.4566, 0.8432, 0.0051, 0.0477, 0.147, 0.6542, -0.237, 2.4159, 2.4056, 2.392, 2.3897, 2.3798, 2.3744, 2.3661, 2.3652, 2.3605, 2.3577, 2.3548, 2.351, 2.3474, 2.3456, 2.34, 2.3322, 2.3322, 2.3252, 2.3243, 2.3176, 2.3149, 2.3118, 2.3058, 2.3049, 2.3042, 2.3007, 2.288, 2.2865, 2.2836, 2.2828, 2.265, 2.2788, 2.268, 2.0039, 2.1663, 2.006, 2.0923, 2.1978, 1.6908, 1.9309, 1.9626, 1.7157, 1.4968, 1.7067, 1.5799, 1.6682, 1.7647, 1.3939, 1.3436, 1.5753, 1.6512, 1.245, 1.3043, 0.5825, 0.2917, 0.7375, 0.5008, 0.5335, 1.4406, 0.3481, -0.4904, -0.2141, 0.9429, -0.6079, 2.5428, 2.5188, 2.5134, 2.5133, 2.5121, 2.5112, 2.5079, 2.5036, 2.5033, 2.5, 2.4995, 2.4962, 2.496, 2.4943, 2.491, 2.4865, 2.4861, 2.4859, 2.4819, 2.4814, 2.481, 2.4777, 2.4773, 2.4762, 2.4721, 2.4672, 2.4665, 2.4649, 2.4604, 2.4603, 2.4382, 2.4366, 2.427, 2.4214, 2.258, 2.4291, 2.3796, 2.268, 2.3842, 2.2667, 2.335, 2.4043, 2.4408, 2.0225, 1.9906, 2.1222, 1.8745, 2.0769, 1.9301, 1.6978, 2.0153, 1.5295, 1.1674, 1.9956, 1.5495, 0.8796, 1.2584, 1.6897, 1.4158, 1.2153, 0.3324, 0.5273, 0.1732, 1.1963, 1.3232, 1.4208, 0.7811, 0.3765, -0.6628, 0.7996, -0.6185, 0.1187, 2.5963, 2.575, 2.559, 2.5546, 2.54, 2.5248, 2.5246, 2.5178, 2.5157, 2.5127, 2.5067, 2.5038, 2.5025, 2.4961, 2.4832, 2.4818, 2.4766, 2.4641, 2.4436, 2.4349, 2.4332, 2.4242, 2.4094, 2.3932, 2.3721, 2.3473, 2.3467, 2.3434, 2.3428, 2.3196, 2.3033, 2.2216, 2.2927, 2.3188, 2.2526, 1.998, 1.8416, 2.111, 2.0091, 1.9326, 1.3632, 1.5416, 1.9893, 1.1687, 1.23, 1.616, 1.1614, 0.9166, 1.7166, 0.685, 1.6919, 0.7348, 0.9863, 1.2057, 1.4208, 0.8276, 1.5965, 0.6911, -0.1744, 0.2875, 0.1645, 0.7776, 0.8625, 0.1367, -0.4579, 2.7465, 2.7427, 2.7397, 2.738, 2.7375, 2.7256, 2.7238, 2.7176, 2.714, 2.7054, 2.6996, 2.6972, 2.6969, 2.6871, 2.6856, 2.6841, 2.6837, 2.6799, 2.6792, 2.6792, 2.6754, 2.673, 2.6711, 2.6695, 2.6676, 2.6665, 2.665, 2.6622, 2.6601, 2.659, 2.6459, 2.6443, 2.626, 2.5238, 2.6078, 2.6329, 2.5509, 2.35, 2.3699, 2.3836, 2.5964, 2.364, 1.9023, 2.414, 2.4221, 1.9429, 1.4243, 1.2652, 1.7955, 2.0958, 0.7719, 0.6472, 1.2889, 1.2385, 0.2437, 1.8031, 0.4345, 0.9075, 1.1194, 0.4221, 0.8435, -0.0271, -0.8658, -0.2949, 0.1253, -0.4532, 1.1023, -1.1372, 0.1246, 0.4064, 0.0527, 2.7657, 2.7491, 2.747, 2.7468, 2.7451, 2.7407, 2.7385, 2.7329, 2.7288, 2.7236, 2.7178, 2.7148, 2.7056, 2.7041, 2.7012, 2.6982, 2.6976, 2.6962, 2.695, 2.6849, 2.6788, 2.6721, 2.6586, 2.6577, 2.6556, 2.6549, 2.6543, 2.6515, 2.6495, 2.6482, 2.5989, 2.6229, 2.6007, 2.5565, 2.5243, 2.5738, 2.4788, 2.3902, 2.1652, 2.5218, 2.2295, 2.3318, 2.0676, 2.0241, 1.8672, 2.3756, 1.7012, 1.434, 1.1731, 1.6357, 2.1155, 1.8539, 2.1775, 1.0933, 0.9084, 0.4464, 1.4676, 0.1501, 1.3073, 0.0999, -0.5582, 1.6064, -0.4201, -0.1565, 1.5759, -0.1631, -0.0843, -0.7385, 2.8082, 2.7915, 2.7852, 2.7785, 2.7771, 2.7727, 2.7722, 2.7683, 2.763, 2.7598, 2.758, 2.7576, 2.7573, 2.7573, 2.7546, 2.7537, 2.746, 2.7453, 2.7402, 2.7393, 2.7362, 2.7305, 2.73, 2.7234, 2.722, 2.7208, 2.7192, 2.7174, 2.7143, 2.7089, 2.6954, 2.6421, 2.6918, 2.5526, 2.6816, 2.4669, 2.5597, 2.3929, 2.0303, 2.5919, 2.386, 2.3665, 2.3552, 2.0352, 2.1324, 1.2452, 0.9972, 1.9714, 1.97, 1.5209, 0.8865, 2.0508, 1.6832, 0.8167, 1.1667, -0.0794, 1.7104, 0.9623, 0.1852, 0.5184, -0.33, 0.6641, 0.7163, 0.7446, 0.4194, -0.3342, 0.5869, 2.9532, 2.9514, 2.9473, 2.9427, 2.9351, 2.935, 2.9347, 2.9343, 2.9333, 2.9259, 2.921, 2.9197, 2.9195, 2.9164, 2.913, 2.9087, 2.9056, 2.901, 2.8957, 2.8944, 2.8927, 2.8917, 2.8861, 2.8846, 2.8835, 2.8781, 2.8737, 2.8697, 2.8673, 2.8673, 2.8383, 2.8295, 2.7436, 2.6975, 2.8461, 2.3388, 2.558, 2.4164, 2.7058, 2.4896, 2.1813, 2.139, 1.6689, 1.9792, 1.8944, 0.3391, 0.4021, -0.0142, 1.0098, 1.4451, -0.1881, 0.145, 0.5502, 0.0711, -0.6329, -1.0449, 0.101, -0.5523, 2.9433, 2.934, 2.9308, 2.9264, 2.9212, 2.9199, 2.9188, 2.9184, 2.9184, 2.9138, 2.9112, 2.9063, 2.9013, 2.8983, 2.8801, 2.8786, 2.8761, 2.8749, 2.8739, 2.8697, 2.8654, 2.8653, 2.8607, 2.8584, 2.8516, 2.8514, 2.8489, 2.8485, 2.8469, 2.8444, 2.8407, 2.8309, 2.7987, 2.5645, 2.4543, 2.564, 2.4988, 2.6083, 2.3494, 2.4947, 2.4149, 1.7773, 2.584, 1.8655, 2.3684, 1.9161, 2.1173, 2.6586, 2.6388, 1.3272, 1.5205, 1.092, 1.8867, 2.2343, 1.6231, 1.7349, -0.2742, 1.3852, 0.358, -0.1368, 0.0595, -0.1626, 0.2451, 1.609, 0.6707, -0.0796, 3.3087, 3.3019, 3.2966, 3.2903, 3.2891, 3.2885, 3.2862, 3.2807, 3.2806, 3.2678, 3.2587, 3.2586, 3.2539, 3.2495, 3.2467, 3.2428, 3.238, 3.2332, 3.2332, 3.2324, 3.2281, 3.2249, 3.2243, 3.2217, 3.2188, 3.2172, 3.2129, 3.2125, 3.212, 3.1956, 3.1873, 3.1794, 3.1184, 3.0258, 3.094, 3.0492, 2.8604, 3.1065, 3.0429, 3.11, 2.9583, 2.6335, 2.8968, 2.3271, 2.2566, 2.8537, 2.6214, 2.9055, 2.0647, 1.8227, 2.5645, 2.6156, 2.3844, 0.9594, 1.9127, 2.7428, 0.1177, 0.2024, 0.6446, 2.2865, -0.76, 0.0677, 0.3261, 3.4137, 3.3901, 3.3799, 3.3714, 3.3709, 3.3682, 3.3662, 3.366, 3.3636, 3.362, 3.361, 3.3582, 3.3562, 3.3531, 3.3521, 3.3484, 3.3472, 3.3444, 3.3413, 3.3393, 3.3362, 3.3309, 3.3308, 3.3303, 3.327, 3.3262, 3.3232, 3.3201, 3.3184, 3.3164, 3.2947, 3.2477, 3.2593, 3.1972, 3.0718, 3.1935, 3.0201, 3.2138, 3.1089, 2.861, 2.7634, 2.4819, 2.4828, 2.6664, 2.7076, 2.6006, 2.8795, 2.8982, 2.7333, 1.3931, 1.5913, 0.8435, 1.9236, 2.4416, 0.4219, 1.8031, 1.3505, -0.0094, 1.7484, 1.7775, 1.2262, 1.8481, -0.6338, -1.0304, 0.0585, -0.464, 1.161, -1.1247]}, \"token.table\": {\"Topic\": [1, 2, 3, 4, 5, 6, 7, 9, 11, 12, 14, 3, 4, 9, 13, 14, 3, 1, 2, 3, 4, 6, 7, 8, 10, 11, 12, 13, 6, 2, 1, 2, 12, 11, 1, 7, 1, 5, 6, 8, 12, 1, 2, 4, 5, 8, 10, 11, 12, 13, 2, 4, 12, 2, 1, 7, 11, 14, 12, 7, 2, 3, 4, 5, 11, 12, 14, 1, 2, 3, 4, 5, 8, 9, 10, 11, 12, 13, 8, 1, 2, 3, 4, 5, 6, 7, 8, 9, 10, 11, 12, 13, 14, 4, 1, 10, 12, 9, 6, 11, 12, 6, 1, 2, 3, 4, 5, 6, 8, 10, 11, 12, 1, 2, 6, 10, 12, 13, 14, 1, 2, 7, 2, 3, 4, 6, 8, 13, 13, 13, 3, 4, 6, 9, 11, 12, 14, 2, 9, 10, 14, 1, 10, 13, 6, 8, 11, 14, 1, 2, 3, 5, 6, 8, 10, 11, 12, 14, 11, 7, 6, 14, 9, 14, 5, 14, 13, 10, 6, 1, 2, 13, 12, 14, 11, 1, 2, 5, 6, 8, 9, 11, 13, 14, 7, 1, 2, 3, 5, 8, 14, 5, 6, 4, 10, 13, 14, 1, 2, 3, 4, 5, 7, 8, 9, 10, 11, 12, 13, 13, 4, 1, 2, 3, 8, 9, 11, 12, 13, 14, 5, 9, 10, 1, 3, 3, 8, 11, 14, 2, 11, 13, 14, 2, 5, 6, 7, 8, 10, 12, 14, 11, 3, 6, 4, 9, 10, 11, 12, 14, 2, 9, 7, 1, 2, 4, 5, 10, 10, 4, 6, 10, 12, 14, 1, 8, 6, 7, 10, 14, 13, 5, 6, 8, 10, 11, 12, 14, 1, 2, 3, 4, 5, 6, 7, 8, 9, 10, 11, 12, 13, 14, 14, 8, 1, 12, 1, 2, 12, 6, 14, 5, 7, 8, 10, 11, 14, 1, 2, 3, 4, 6, 7, 9, 10, 11, 13, 14, 5, 2, 7, 14, 5, 6, 8, 11, 14, 1, 2, 3, 6, 8, 9, 11, 13, 14, 4, 6, 9, 11, 13, 1, 2, 4, 5, 6, 8, 9, 10, 12, 14, 1, 8, 10, 12, 1, 2, 3, 4, 7, 10, 12, 13, 3, 4, 7, 9, 1, 7, 7, 8, 9, 8, 12, 1, 5, 7, 8, 11, 13, 14, 5, 2, 6, 14, 2, 12, 1, 4, 5, 8, 12, 13, 1, 2, 3, 4, 6, 7, 8, 9, 10, 11, 12, 13, 14, 10, 11, 11, 14, 7, 13, 7, 3, 4, 1, 3, 4, 6, 7, 8, 9, 12, 13, 14, 3, 13, 2, 6, 9, 11, 12, 14, 14, 5, 6, 7, 12, 4, 2, 3, 11, 14, 8, 6, 9, 13, 1, 2, 6, 9, 12, 14, 4, 6, 8, 12, 8, 3, 1, 9, 10, 6, 12, 12, 14, 3, 1, 9, 1, 9, 10, 14, 1, 8, 14, 4, 3, 4, 7, 12, 14, 2, 3, 4, 6, 7, 9, 1, 3, 4, 6, 8, 9, 11, 12, 13, 14, 7, 1, 2, 4, 5, 6, 8, 9, 10, 11, 12, 1, 2, 8, 10, 11, 14, 6, 6, 1, 2, 3, 4, 5, 7, 8, 10, 14, 12, 10, 13, 1, 5, 8, 10, 12, 13, 14, 1, 6, 4, 1, 2, 3, 4, 5, 6, 8, 9, 10, 11, 12, 13, 14, 6, 8, 9, 12, 9, 5, 8, 14, 6, 10, 11, 12, 12, 13, 8, 4, 14, 1, 9, 10, 12, 2, 13, 4, 10, 2, 6, 8, 9, 10, 12, 14, 1, 2, 6, 8, 9, 10, 12, 11, 14, 8, 2, 4, 6, 8, 10, 12, 9, 6, 12, 13, 14, 1, 3, 4, 6, 7, 9, 11, 14, 5, 3, 4, 6, 10, 12, 1, 5, 6, 7, 8, 12, 14, 1, 2, 3, 5, 6, 8, 9, 10, 14, 1, 2, 3, 4, 5, 6, 7, 8, 10, 11, 12, 13, 14, 8, 11, 14, 6, 4, 6, 9, 13, 6, 8, 10, 12, 2, 1, 8, 12, 3, 1, 2, 3, 4, 5, 7, 8, 9, 10, 11, 12, 13, 14, 13, 4, 3, 8, 2, 8, 1, 2, 4, 5, 6, 8, 10, 11, 12, 13, 14, 14, 3, 4, 9, 13, 13, 1, 2, 3, 4, 5, 7, 9, 10, 11, 13, 5, 5, 6, 11, 9, 1, 1, 2, 9, 10, 11, 13, 2, 13, 8, 12, 1, 2, 3, 5, 6, 7, 9, 11, 12, 7, 14, 1, 3, 7, 9, 12, 12, 1, 2, 3, 4, 5, 6, 7, 8, 10, 12, 13, 1, 2, 4, 5, 7, 8, 9, 10, 12, 3, 5, 9, 12, 1, 3, 4, 5, 6, 8, 11, 12, 14, 11, 10, 7, 12, 1, 2, 3, 4, 5, 6, 8, 11, 12, 13, 14, 2, 3, 6, 8, 9, 10, 12, 14, 12, 10, 1, 2, 3, 4, 5, 6, 7, 8, 9, 10, 12, 13, 10, 12, 2, 1, 2, 3, 4, 6, 8, 11, 12, 10, 11, 9, 5, 9, 10, 7, 11, 14, 2, 3, 5, 12, 2, 3, 4, 11, 12, 1, 4, 3, 9, 12, 1, 9, 1, 2, 3, 4, 7, 8, 10, 8, 1, 3, 13, 13, 5, 4, 5, 11, 13, 10, 1, 2, 3, 4, 5, 6, 7, 8, 9, 10, 11, 12, 14, 3, 4, 7, 9, 2, 4, 2, 3, 6, 7, 8, 9, 2, 14, 1, 2, 3, 4, 5, 6, 8, 9, 10, 11, 12, 5, 7, 1, 2, 3, 4, 5, 6, 7, 8, 9, 10, 11, 12, 13, 14, 2, 10, 12, 11, 10, 4, 2, 3, 9, 3, 2, 6, 2, 3, 3, 3, 7, 1, 2, 3, 4, 5, 6, 7, 8, 9, 10, 11, 12, 13, 14, 8, 1, 2, 2, 9, 12, 14, 9, 7, 1, 3, 10, 2, 10, 11, 14, 8, 1, 2, 4, 5, 7, 8, 9, 10, 3, 4, 9, 4, 2, 6, 8, 9, 1, 2, 5, 7, 8, 9, 12, 2, 3, 4, 5, 6, 7, 8, 9, 11, 12, 14, 1, 2, 5, 6, 7, 10, 1, 2, 3, 4, 5, 6, 8, 9, 11, 13, 14, 3, 5, 6, 9, 11, 12, 13, 14, 4, 8, 6, 1, 2, 3, 6, 8, 9, 13, 14, 1, 4, 7, 8, 12, 8, 14, 11, 13, 11, 5, 5, 11, 1, 1, 5, 10, 1, 3, 5, 6, 8, 9, 10, 11, 13, 14, 9, 2, 2, 8, 9, 10, 12, 3, 13, 2, 1, 2, 6, 10, 10, 3, 14, 2, 3, 8, 12, 14, 4, 1, 1, 2, 3, 6, 7, 8, 12, 1, 2, 5, 8, 9, 10, 12, 13, 9, 10, 5, 1, 2, 6, 7, 8, 9, 10, 11, 12, 14, 2, 6, 12, 1, 2, 3, 6, 7, 8, 10, 11, 13, 14, 12, 13, 6, 13, 1, 2, 3, 4, 6, 9, 10, 12, 10, 1, 2, 3, 4, 5, 6, 7, 8, 9, 10, 12, 13, 14, 1, 3, 4, 5, 6, 8, 9, 10, 11, 12, 13, 1, 8, 10, 14, 13, 1, 6, 12, 13, 1, 3, 5, 7, 8, 9, 12, 1, 6, 8, 12, 13, 8, 4, 14, 14, 3, 9, 11, 8, 7, 13, 2, 3, 4, 5, 7, 8, 9, 12, 7, 8, 12, 4, 6, 9, 10, 12, 5, 8, 9, 12, 1, 2, 5, 8, 9, 11, 13, 14, 1, 5, 8, 10, 11, 13, 14, 1, 2, 3, 4, 5, 6, 7, 8, 9, 10, 11, 12, 13, 14, 8, 1, 2, 3, 4, 10, 11, 1, 2, 4, 10, 2, 6, 11, 12, 2, 6, 11, 12, 14, 13, 1, 2, 3, 4, 5, 6, 7, 8, 9, 10, 11, 12, 14, 1, 2, 6, 10, 11, 1, 2, 5, 6, 8, 10, 8, 6, 6, 10, 3, 1, 2, 3, 5, 6, 8, 9, 11, 13, 14, 1, 2, 5, 6, 7, 8, 9, 10, 11, 12, 14, 4, 8, 1, 2, 3, 4, 5, 7, 8, 10, 11, 12, 13, 11, 13, 1, 2, 3, 4, 5, 6, 7, 8, 9, 11, 12, 13, 14, 9, 1, 4, 5, 6, 8, 9, 10, 12, 14, 1, 2, 4, 6, 7, 8, 9, 10, 11, 12, 13, 14, 5, 1, 6, 8, 1, 8, 10, 14, 6, 12, 11, 13, 10, 3, 8, 13, 1, 7, 11, 12, 2, 12, 1, 2, 5, 6, 8, 10, 6, 8, 2, 8, 1, 4, 8, 3, 6, 7, 4, 1, 5, 13, 1, 2, 3, 4, 1, 2, 4, 6, 7, 9, 12, 14, 2, 3, 4, 6, 8, 9, 11, 3, 5, 7, 9, 2, 1, 2, 2, 5, 6, 11, 12, 14, 9, 12, 14, 2, 3, 4, 5, 6, 7, 3, 1, 2, 3, 4, 5, 6, 7, 8, 9, 10, 11, 12, 13, 14, 2, 9, 2, 1, 2, 1, 2, 3, 4, 5, 6, 8, 9, 12, 13, 14, 1, 1, 2, 3, 4, 5, 6, 7, 8, 9, 10, 11, 13, 14, 3, 2, 3, 6, 8, 10, 11, 4, 2, 9, 8, 8, 10, 2, 5, 9, 12, 13, 2, 2, 4, 6, 7, 8, 10, 12, 14, 1, 2, 3, 4, 5, 6, 8, 9, 1, 2, 8, 9, 10, 12, 13, 9, 4, 5, 8, 13, 1, 10, 1, 2, 3, 5, 6, 8, 9, 10, 11, 12, 14, 4, 3, 1, 2, 4, 5, 9, 12, 13, 5, 6, 8, 10, 12, 13, 14, 8, 12, 13, 5, 8, 14, 11, 1, 2, 6, 9, 2, 3, 14, 9, 12, 13, 5, 1, 2, 5, 6, 9, 12, 14, 2, 14, 9, 14, 1, 2, 3, 4, 5, 7, 8, 10, 11, 5, 7, 8, 9, 12, 13, 1, 2, 3, 4, 6, 7, 8, 9, 11, 12, 13, 14, 1, 6, 8, 10, 12, 2, 8, 1, 2, 5, 6, 7, 8, 10, 11, 5, 2, 3, 4, 6, 10, 11, 12, 2, 10, 6, 5, 7, 8, 9, 12, 6, 9, 11, 13, 14, 2, 3, 4, 5, 6, 9, 11, 12, 13, 14, 14, 8, 9, 14, 11, 6, 11, 12, 13, 14, 1, 6, 12, 14, 1, 4, 7, 6, 10, 11, 10, 4, 9, 14, 8, 1, 3, 4, 6, 8, 9, 11, 12, 13, 14, 5, 6, 8, 9, 1, 2, 4, 5, 6, 7, 8, 9, 10, 11, 12, 13, 14, 14, 9, 1, 2, 11, 12, 14, 1, 2, 8, 10, 12, 14, 1, 2, 3, 4, 6, 7, 8, 9, 10, 13, 14, 1, 1, 2, 3, 4, 5, 6, 7, 8, 9, 10, 11, 13, 14, 4, 5, 4, 11, 14, 2, 3, 6, 2, 3, 13, 2, 9, 13, 14, 12, 13, 1, 2, 3, 4, 5, 6, 7, 8, 9, 10, 11, 12, 13, 14, 5, 2, 10, 14, 5, 7, 9, 2, 1, 2, 5, 6, 7, 8, 10, 11, 14, 3, 6, 11, 12, 14, 10, 11, 13, 5, 1, 8, 1, 2, 3, 5, 6, 7, 8, 9, 10, 11, 12, 13, 1, 5, 7, 8, 12, 14, 1, 2, 5, 7, 8, 1, 7, 10, 13, 14, 1, 2, 3, 4, 5, 6, 7, 8, 9, 10, 11, 14, 3, 6, 6, 7, 14, 10, 2, 7, 8, 11, 11, 8, 1, 3, 4, 5, 6, 8, 9, 12, 1, 3, 4, 5, 6, 9, 12, 14, 6, 14, 8, 5, 13, 2, 8, 4, 2, 9, 3, 6, 8, 11, 12, 13, 14, 10, 2, 13, 11, 13, 4, 1, 2, 6, 9, 10, 1, 2, 3, 4, 5, 6, 7, 8, 9, 10, 11, 12, 13, 14, 2, 11, 1, 5, 6, 8, 9, 11, 12, 14, 2, 1, 2, 8, 9, 12, 1, 3, 7, 8, 1, 6, 9, 7, 2, 4, 6, 12, 1, 2, 3, 5, 6, 7, 8, 9, 10, 11, 12, 13, 14, 1, 2, 13, 3, 6, 7, 8, 9, 12, 6, 4, 8, 10, 10, 1, 3, 5, 6, 8, 9, 10, 11, 13, 14, 1, 2, 3, 4, 5, 6, 7, 8, 11, 12, 13, 3, 8, 12, 14, 3, 8, 12, 6, 8, 12, 13, 14, 14, 2, 3, 5, 6, 7, 8, 12, 1, 11, 2, 3, 4, 6, 2, 9, 1, 2, 4, 5, 7, 8, 9, 10, 11, 13, 8, 12, 6, 10, 13, 14, 1, 6, 13, 1, 7, 8, 9, 12, 10, 12, 14, 14, 1, 6, 2, 3, 4, 7, 14, 10, 13, 1, 10, 11, 1, 6, 11, 14, 1, 12, 9, 1, 2, 4, 5, 13, 5, 11, 7, 1, 2, 5, 6, 8, 1, 5, 6, 8, 9, 10, 12, 9, 5, 12, 11, 1, 8, 5, 9, 8, 12, 13, 14, 11, 13, 2, 12, 2, 12, 8, 12, 14, 8, 12, 1, 2, 3, 4, 6, 8, 9, 10, 11, 12, 14, 1, 10, 13, 1, 7, 10, 1, 2, 3, 4, 5, 6, 7, 8, 9, 10, 12, 14, 1, 2, 3, 5, 6, 7, 8, 9, 10, 11, 12, 14, 1, 11, 14, 11, 11, 1, 4, 9, 6, 7, 9, 4, 5, 12, 12, 5, 6, 10, 8, 14, 1, 2, 3, 4, 5, 6, 8, 9, 10, 11, 12, 13, 14, 1, 2, 4, 5, 6, 7, 8, 9, 10, 11, 14, 1, 10, 8, 11, 12, 6, 11, 12, 1, 2, 3, 4, 5, 6, 7, 8, 9, 10, 11, 12, 13, 14, 9, 1, 2, 8, 2, 11, 2, 5, 7, 4, 3, 5, 9, 13, 2, 7, 8, 9, 10, 13, 11, 2, 7, 8, 1, 2, 5, 6, 9, 10, 11, 13, 13, 3, 5, 6, 8, 9, 10, 11, 12, 4, 1, 9, 6, 12, 13, 14, 2, 14, 5, 11, 12, 13, 14, 2, 6, 11, 9, 5, 8, 14, 4, 13, 14, 1, 2, 3, 4, 5, 6, 7, 8, 9, 10, 11, 12, 13, 14, 6, 1, 2, 3, 5, 12, 1, 5, 7, 1, 2, 3, 5, 6, 8, 9, 10, 11, 13, 14, 8, 14, 8, 1, 2, 4, 5, 8, 9, 10, 12, 13, 14, 5, 1, 2, 3, 10, 12, 8, 9, 10, 7, 11, 14, 10, 5, 8, 14, 5, 9, 11, 14, 11, 13, 1, 2, 3, 4, 5, 6, 7, 8, 9, 10, 11, 12, 13, 14, 6, 9, 10, 1, 2, 10, 8, 10, 2, 5, 8, 11, 12, 1, 2, 7, 8, 10, 12, 11, 7, 12, 5, 8, 12, 13, 1, 2, 3, 4, 5, 6, 7, 8, 9, 10, 11, 12, 14, 3, 13, 5, 8, 14, 4, 5, 7, 8, 9, 6, 9, 12, 9, 2, 4, 5, 6, 8, 10, 11, 13, 14, 14, 1, 2, 3, 4, 5, 6, 7, 8, 9, 10, 11, 12, 13, 14, 10, 2, 6, 7, 14, 1, 2, 4, 5, 8, 9, 10, 11, 14, 3, 2, 6, 9, 9, 13, 2, 3, 8, 9, 14, 9, 2, 3, 4, 5, 6, 9, 10, 2, 13, 2, 4, 1, 2, 10, 3], \"Freq\": [0.048978273464334116, 0.2680916021205657, 0.17013505519189745, 0.04640046959779022, 0.09537874306212434, 0.02320023479889511, 0.015466823199263405, 0.13404580106028285, 0.056711685063965823, 0.11600117399447554, 0.02577803866543901, 0.5565760599792592, 0.13062499366860164, 0.2839673775404384, 0.005679347550808768, 0.017038042652426304, 0.954908771856973, 0.046977623585095794, 0.34939607541414996, 0.011744405896273949, 0.04404152211102731, 0.035233217688821844, 0.049913725059164284, 0.14093287075528738, 0.049913725059164284, 0.06753033390357521, 0.2055271031847941, 0.9141084427261165, 0.888087065871246, 0.8500632504555359, 0.0043057378116845785, 0.03444590249347663, 0.9601795320056611, 0.9700345887202803, 0.13277623070090092, 0.8409161277723726, 0.14960049794541916, 0.0065043694758877895, 0.019513108427663368, 0.14960049794541916, 0.6699500560164423, 0.27542124190732553, 0.026777065185434424, 0.042078245291396955, 0.05737942539735948, 0.09180708063577517, 0.13771062095366277, 0.08415649058279391, 0.26394535682785364, 0.01912647513245316, 0.1213240830935511, 0.8155674474622046, 0.053921814708244926, 0.9324257744128516, 0.0714431648143007, 0.7501532305501574, 0.0714431648143007, 0.03572158240715035, 0.9554038190539892, 0.785831254147503, 0.9936039014942865, 0.004210186023280875, 0.7830857283761236, 0.1423792233411134, 0.9448660108160465, 0.02257359070208985, 0.02902318804554409, 0.004968446499707836, 0.43722329197428955, 0.06458980449620187, 0.004968446499707836, 0.04968446499707836, 0.14905339499123507, 0.03477912549795485, 0.14905339499123507, 0.004968446499707836, 0.004968446499707836, 0.08446359049503321, 0.9823107304982168, 0.22096980607122385, 0.05563610319132952, 0.01889528032913078, 0.006823295674408337, 0.04566359412873272, 0.032541871677947455, 0.0020994755921256423, 0.015221198042910906, 0.053011758701172466, 0.14433894695863791, 0.07768059690864876, 0.30599856755231236, 0.0005248688980314106, 0.02046988702322501, 0.792440836488254, 0.29061567956118023, 0.7035958557796995, 0.0038238905205418457, 0.8958990589748509, 0.13839705900404595, 0.7750235304226574, 0.05535882360161838, 0.9396921364893014, 0.06819780740057056, 0.2345339230117183, 0.07928688177464709, 0.09370267846094656, 0.0011089074374076515, 0.0033267223122229544, 0.008316805780557386, 0.45354314189972944, 0.0033267223122229544, 0.05489091815167875, 0.7133170196625467, 0.04943781324393888, 0.09887562648787776, 0.007062544749134126, 0.05650035799307301, 0.014125089498268252, 0.04943781324393888, 0.2877235166004182, 0.6905364398410038, 0.9389801223221746, 0.9708083816404696, 0.010907959344274938, 0.021815918688549877, 0.8577280200149715, 0.09896861769403517, 0.03298953923134506, 0.9681490321652312, 0.9112915171204828, 0.22336065664366608, 0.01313886215550977, 0.06569431077754885, 0.07883317293305862, 0.45986017544284197, 0.0459860175442842, 0.10511089724407816, 0.9202746540352742, 0.9151653517085097, 0.05904292591667804, 0.9511495470900898, 0.9509340264360607, 0.21966526924129456, 0.7566248162755701, 0.06186123378553118, 0.6804735716408431, 0.17011839291021078, 0.09279185067829678, 0.10896820469390357, 0.12640311744492813, 0.06973965100409828, 0.013076184563268428, 0.061022194628586, 0.04794601006531757, 0.45766645971439496, 0.030511097314293, 0.004358728187756142, 0.07845710737961056, 0.9385576821602494, 0.6956925507030444, 0.88620282748181, 0.04923349041565611, 0.8934036617472426, 0.08121851470429478, 0.8713175533829849, 0.11881603000677067, 0.9383360855874324, 0.9549475435311332, 0.8812940497614717, 0.8917745406231214, 0.09908606006923572, 0.005828591768778571, 0.08885130109574213, 0.8440873604095502, 0.9510105545728752, 0.23644406847988117, 0.013227640194678668, 0.168652412482153, 0.009920730146009001, 0.049603650730045, 0.08597966126541134, 0.06448474594905851, 0.34557210008598016, 0.0248018253650225, 0.930577042621507, 0.9421612442992876, 0.017776627250929957, 0.005925542416976652, 0.005925542416976652, 0.005925542416976652, 0.017776627250929957, 0.9382387336228566, 0.9653227198622143, 0.9024069127468399, 0.09625673735966292, 0.922900198411667, 0.8698191492338301, 0.16893005839605518, 0.03786363377842616, 0.029125872137250892, 0.06407691870195197, 0.46601395419601427, 0.014562936068625446, 0.020388110496075626, 0.005825174427450178, 0.05242656984705161, 0.09611537805292794, 0.002912587213725089, 0.03786363377842616, 0.9118471675041877, 0.9905480533811444, 0.2926604239575256, 0.09755347465250853, 0.0731651059893814, 0.24388368663127133, 0.024388368663127134, 0.006097092165781783, 0.006097092165781783, 0.06097092165781783, 0.19510694930501707, 0.2183865533620381, 0.6831579361581704, 0.09519413864499096, 0.213741852949366, 0.7267223000278444, 0.27372818887324374, 0.5101298065364998, 0.1617484752432804, 0.03732657120998779, 0.016681942149860993, 0.7673693388936057, 0.13345553719888795, 0.07506873967437447, 0.3278044341474162, 0.12388853027637091, 0.042322168727952796, 0.1985294460329422, 0.22469224124658577, 0.014620385560565512, 0.06617648201098074, 0.000769493976871869, 0.9841152605024587, 0.9024120058874314, 0.9163806190739651, 0.12538926218440133, 0.29257494509693643, 0.01393214024271126, 0.01393214024271126, 0.05572856097084504, 0.4876249084948941, 0.3205790295883276, 0.673215962135488, 0.8789926234620211, 0.8227054803252195, 0.06529408574009679, 0.013058817148019358, 0.05223526859207743, 0.039176451444058076, 0.9360489834949642, 0.6529182791382275, 0.06278060376329112, 0.05022448301063289, 0.12556120752658223, 0.08789284526860756, 0.9556804890781057, 0.04049493597788583, 0.9896320039526308, 0.7955491286254243, 0.062545968671593, 0.9069165457380984, 0.977378356253758, 0.13237108688290256, 0.0980526569502982, 0.019610531390059638, 0.13727371973041747, 0.3775027292586481, 0.01470789854254473, 0.22061847813817095, 0.07741292072006761, 0.0366692782358215, 0.24276420313529976, 0.1055939401050045, 0.035311156819679966, 0.1079706525832522, 0.15414678073206445, 0.015278865931592292, 0.20168103029701825, 0.005092955310530764, 0.0023767124782476897, 0.0016976517701769213, 0.0030557731863184584, 0.010525440975096912, 0.9852988507794345, 0.9388835962218388, 0.9173373367515295, 0.9392435211002801, 0.8259987210836954, 0.03142386438905363, 0.13916282800866608, 0.9598285182815463, 0.9070546021511252, 0.13220742911450814, 0.512303787818719, 0.19280250079199102, 0.06059507167748289, 0.0385605001583982, 0.06059507167748289, 0.008697148713662726, 0.024352016398255634, 0.2748298993517422, 0.18437955272964981, 0.09914749533575508, 0.0017394297427325454, 0.06261947073837162, 0.1078446440494178, 0.0017394297427325454, 0.22438643681249834, 0.010436578456395272, 0.8513545083118143, 0.24475000201065497, 0.7342500060319649, 0.9700770928104793, 0.12561639796458204, 0.6202309649501239, 0.06280819898229102, 0.08636127360065016, 0.09421229847343654, 0.005346839775941218, 0.06059751746066714, 0.0035645598506274787, 0.3582382649880616, 0.017822799253137393, 0.342197745660238, 0.008911399626568697, 0.04099243828221601, 0.16040519327823655, 0.025425856612551725, 0.033901142150068966, 0.8390532682142069, 0.008475285537517242, 0.08475285537517241, 0.5801836793666039, 0.0449438061481172, 0.036772205030277706, 0.00817160111783949, 0.08580181173731466, 0.004085800558919745, 0.004085800558919745, 0.20020422738706753, 0.02042900279459873, 0.00817160111783949, 0.006676205591789115, 0.6676205591789115, 0.06008585032610204, 0.2536958124879864, 0.02312587350560301, 0.024667598405976543, 0.28830255636985086, 0.5750633878393281, 0.02312587350560301, 0.02775104820672361, 0.010792074302614738, 0.024667598405976543, 0.31657467054831495, 0.1851010368779765, 0.1747215394829498, 0.32003450301332387, 0.952330390787638, 0.9367495673170367, 0.7445127844035968, 0.15272057115971216, 0.0954503569748201, 0.08214608046683045, 0.9036068851351349, 0.334700617330546, 0.4596555144672832, 0.022313374488703068, 0.004462674897740613, 0.12049222223899657, 0.053552098772887365, 0.004462674897740613, 0.9182186294926383, 0.0746469476225953, 0.8708810555969452, 0.02488231587419843, 0.8394275229456759, 0.9429509246015976, 0.01984806923827929, 0.10254835773110968, 0.8435429426268699, 0.02977210385741894, 0.864695862546535, 0.06176399018189536, 0.05741628984309297, 0.09107411492352678, 0.11681245174974088, 0.18808784603771836, 0.2613431123892508, 0.00197987206355493, 0.013859104444884512, 0.10691309143196623, 0.00791948825421972, 0.027718208889769023, 0.043557185398208464, 0.06929552222442255, 0.01781884857199437, 0.8753156958371838, 0.9644642467118978, 0.8933217231969555, 0.9789047033428188, 0.8555242726161103, 0.09505825251290115, 0.7035491812929411, 0.867857843115121, 0.10210092271942602, 0.040434246612353536, 0.006739041102058923, 0.053912328816471386, 0.020217123306176768, 0.03369520551029461, 0.15499794534735523, 0.12804178093911953, 0.053912328816471386, 0.12130273983706061, 0.3908643839194175, 0.9548547372646676, 0.9438208137235717, 0.03638869901097005, 0.3214335079302354, 0.030323915842475038, 0.44272917130013556, 0.02425913267398003, 0.13949001287538518, 0.9672293629041512, 0.9522144617864194, 0.09678833210149723, 0.14518249815224585, 0.7259124907612292, 0.8700445774262644, 0.007909581246552005, 0.9254210058465846, 0.03163832498620802, 0.03163832498620802, 0.9348787648100074, 0.2024916047157446, 0.14018649557243856, 0.6542036460047133, 0.8639308509719199, 0.021964343668777624, 0.014642895779185082, 0.007321447889592541, 0.06589303100633287, 0.021964343668777624, 0.008149831229802009, 0.920930928967627, 0.008149831229802009, 0.05704881860861406, 0.9243280887075143, 0.8994613597819228, 0.04673848096510065, 0.8179234168892614, 0.11684620241275163, 0.10441493007615857, 0.8353194406092685, 0.7279302806358433, 0.22590939743871, 0.9282394817995617, 0.9173393896522919, 0.9148797750959903, 0.015155744222467182, 0.37889360556167956, 0.015155744222467182, 0.5759182804537529, 0.8588311166261892, 0.8948873227643245, 0.9061783028425158, 0.9763896992100455, 0.23492592674116222, 0.012364522460061169, 0.18546783690091753, 0.18546783690091753, 0.37093567380183506, 0.10325753153888673, 0.3237263150948881, 0.4883802167379777, 0.005581488191291174, 0.05441950986508895, 0.02372132481298749, 0.0028259013590915404, 0.08195113941365467, 0.008477704077274622, 0.15259867339094318, 0.10173244892729545, 0.4719255269682872, 0.025433112231823863, 0.045214421745464646, 0.08195113941365467, 0.022607210872732323, 0.9536134164233482, 0.4634871371957705, 0.049837326580190376, 0.029902395948114228, 0.059804791896228456, 0.029902395948114228, 0.019934930632076152, 0.3040076921391613, 0.019934930632076152, 0.009967465316038076, 0.019934930632076152, 0.814268440315523, 0.006959559318936094, 0.006959559318936094, 0.03479779659468047, 0.13919118637872188, 0.9241838294912481, 0.962897113573589, 0.9021816599055235, 0.1629798538245009, 0.07130368604821914, 0.16807297425651657, 0.005093120432015653, 0.06621056561620349, 0.4125427549932679, 0.07130368604821914, 0.03055872259209392, 0.010186240864031306, 0.9356376210832393, 0.9412788554883731, 0.8832399346171211, 0.04628591602352796, 0.1110861984564671, 0.04628591602352796, 0.13885774807058388, 0.009257183204705591, 0.47211634343998515, 0.17588648088940623, 0.9246781140499222, 0.945840543881323, 0.8890047980923198, 0.0023876718713202144, 0.07163015613960644, 0.0035815078069803214, 0.02148904684188193, 0.06327330458998569, 0.07043632020394633, 0.066854812396966, 0.0035815078069803214, 0.09073153111016814, 0.08953769517450803, 0.33427406198483, 0.0501411092977245, 0.13132195292261178, 0.9278574778266638, 0.01718254588567896, 0.04725200118561714, 0.00429563647141974, 0.9512874367484355, 0.7660099435576522, 0.15320198871153043, 0.07660099435576521, 0.7955564395799981, 0.13018196284036335, 0.014464662537818147, 0.04339398761345444, 0.8774812362533663, 0.07312343635444718, 0.9056836744008598, 0.12803011739939418, 0.8321957630960621, 0.9440271527068153, 0.7831553470300266, 0.073420813784065, 0.12236802297344167, 0.8446750129962699, 0.06033392949973357, 0.7357788348018411, 0.9097029314230287, 0.017003481831696917, 0.5696166413618468, 0.042508704579242294, 0.038257834121318064, 0.3188152843443172, 0.008501740915848459, 0.004250870457924229, 0.013457646921861566, 0.0076900839553494665, 0.8882046968428633, 0.0288378148325605, 0.0076900839553494665, 0.0346053777990726, 0.021147730877211033, 0.9843333155819566, 0.8929301370000331, 0.9786304492898629, 0.7483109733307726, 0.0016303071314395917, 0.08314566370341918, 0.006521228525758367, 0.12553364912084855, 0.032606142628791836, 0.8878698978431839, 0.09252582977383714, 0.1480413276381394, 0.7031963062811623, 0.03701033190953485, 0.012712962181730037, 0.6229351469047718, 0.08475308121153358, 0.1398425839990304, 0.021188270302883394, 0.06356481090865018, 0.02966357842403675, 0.025425924363460074, 0.9183322179947856, 0.7066761135455718, 0.22699293344191093, 0.03854596982975846, 0.004282885536639829, 0.017131542146559316, 0.045180771724789764, 0.2710846303487386, 0.004518077172478976, 0.10843385213949543, 0.4427715629029397, 0.022590385862394882, 0.09939769779453748, 0.06079142595388031, 0.17684778459310638, 0.19895375766724466, 0.11052986537069148, 0.011052986537069149, 0.08289739902801861, 0.044211946148276594, 0.12158285190776062, 0.1879007711301755, 0.025545866696489995, 0.04288056195482249, 0.11450022394319623, 0.29286511462761744, 0.15692460970700997, 0.0004561761910087499, 0.23812397170656746, 0.08074318580854874, 0.0009123523820174998, 0.029651452415568744, 0.011860580966227498, 0.004105585719078749, 0.0013685285730262496, 0.9512045334815054, 0.9917927378161969, 0.004528733962631036, 0.9148248713147663, 0.6635318821465546, 0.05769842453448301, 0.10578044497988552, 0.15386246542528803, 0.009514091487816352, 0.9894655147329007, 0.9634452399626562, 0.8715781063375754, 0.9012474796712991, 0.0334115804791246, 0.7923317656478118, 0.17183098532121222, 0.898603020254069, 0.0018878704877872885, 0.17557195536421782, 0.0830663014626407, 0.33415307633835006, 0.15669325048634494, 0.098169265364939, 0.06041185560919323, 0.02454231634123475, 0.003775740975574577, 0.030205927804596615, 0.03209379829238391, 0.0018878704877872885, 0.9532316144659919, 0.9887566596589317, 0.9390581750169025, 0.9173486100025848, 0.07056527769250652, 0.8546637541067844, 0.9735457098089322, 0.033908508272896674, 0.45049875276848433, 0.014532217831241432, 0.014532217831241432, 0.048440726104138104, 0.03875258088331048, 0.024220363052069052, 0.07750516176662096, 0.19376290441655242, 0.05812887132496573, 0.04359665349372429, 0.9001069471889281, 0.11196541523176835, 0.655797432071786, 0.14395553386941645, 0.0639802372752962, 0.9811450127161752, 0.3530993711929789, 0.00868277142277817, 0.07814494280500353, 0.0028942571409260568, 0.1128760284961162, 0.306791256938162, 0.0028942571409260568, 0.011577028563704227, 0.06077939995944719, 0.06077939995944719, 0.9497451098619538, 0.0945433458035532, 0.874525948682867, 0.0236358364508883, 0.9767534891153532, 0.8986850556879626, 0.4222517372002637, 0.01941387297472477, 0.3106219675955963, 0.16016445204147933, 0.03882774594944954, 0.04368121419313073, 0.16992876024153236, 0.8156580491593554, 0.677147073604578, 0.3125294185867283, 0.024620415597646595, 0.03282722079686213, 0.42675387035920764, 0.10668846758980191, 0.17234290918352616, 0.04924083119529319, 0.09848166239058638, 0.07386124679293979, 0.016413610398431065, 0.9499324829794347, 0.9636932732181934, 0.016973317339191576, 0.005657772446397191, 0.8826125016379619, 0.005657772446397191, 0.08486658669595787, 0.9434688640655684, 0.18597514278184513, 0.03576445053497022, 0.019074373618650782, 0.12636772522356143, 0.09775616479558527, 0.1692850658655257, 0.07868179117693448, 0.19312803288883917, 0.016690076916319435, 0.02384296702331348, 0.05245452745128965, 0.6417651312730682, 0.001938867466081777, 0.01938867466081777, 0.22490862606548614, 0.056227156516371536, 0.007755469864327108, 0.029083011991226655, 0.017449807194735992, 0.001938867466081777, 0.020675887371760293, 0.08270354948704117, 0.8890631569856926, 0.9320637911969679, 0.2615422070009657, 0.04080800392922869, 0.11685928397915488, 0.3227542128948087, 0.016694183425593555, 0.057502187354822244, 0.14282801375230042, 0.01112945561706237, 0.02967854831216632, 0.9650976713037619, 0.9286277698595915, 0.9404538225876403, 0.937425807328042, 0.07078545584162381, 0.011797575973603968, 0.02595466714192873, 0.05662836467329905, 0.09674012298355254, 0.2571871562245665, 0.0731449710363446, 0.028314182336649524, 0.35156776401339823, 0.014157091168324762, 0.011797575973603968, 0.01125656049186992, 0.028141401229674803, 0.061911082705284566, 0.02251312098373984, 0.09568076418089433, 0.6528805085284554, 0.07316764319715449, 0.05628280245934961, 0.9344269845223715, 0.8653670257422784, 0.20791360874103715, 0.043683976304632804, 0.009953311056751778, 0.019353660388128458, 0.4761000455479601, 0.005529617253750988, 0.0470017466568834, 0.06193171324201107, 0.0973212636660174, 0.019353660388128458, 0.007741464155251384, 0.00442369380300079, 0.9031427486862919, 0.9178967486476752, 0.9631603603155464, 0.0022881566023013047, 0.2516972262531435, 0.16017096216109133, 0.11898414331966783, 0.1006788905012574, 0.022881566023013045, 0.10525520370586001, 0.23796828663933567, 0.7697710231545857, 0.20993755176943246, 0.8351015328842891, 0.12316900329144129, 0.7800703541791282, 0.095798113671121, 0.9109047401943375, 0.006460317306342819, 0.07106349036977101, 0.1680155381118416, 0.6892065951118401, 0.13715554131578908, 0.9672156863711062, 0.1882298539859329, 0.004826406512459818, 0.40059174053416485, 0.34267486238464706, 0.057916878149517806, 0.855277818389159, 0.10062091981048929, 0.8402719770255173, 0.08350848559386807, 0.8768390987356147, 0.9403830020973228, 0.036877764788130304, 0.0029313386030303153, 0.8808672502106097, 0.10113118180454587, 0.004397007904545473, 0.003664173253787894, 0.0007328346507575788, 0.0058626772060606305, 0.977201496221681, 0.8511966952051832, 0.11756860431010818, 0.02821646503442596, 0.9877538374939443, 0.9231548404142134, 0.05464650866864165, 0.863414836964538, 0.04371720693491332, 0.02185860346745666, 0.911004423468189, 0.09086887358219747, 0.02706732404576095, 0.16143725413007423, 0.23683908540040832, 0.04930119736906459, 0.08700211300423163, 0.0850687327152487, 0.0464011269355902, 0.15467042311863402, 0.0309340846237268, 0.009666901444914626, 0.012566971878389012, 0.006766831011440238, 0.14628765060851273, 0.19948315992069915, 0.4666696953296356, 0.18618428259265254, 0.2446697101405693, 0.7340091304217079, 0.08991590875862046, 0.17084022664137888, 0.008991590875862045, 0.06294113613103432, 0.01798318175172409, 0.6384029521862052, 0.25415901646291394, 0.7261686184654684, 0.13599124364450668, 0.03399781091112667, 0.10482658364264057, 0.005666301818521112, 0.02266520727408445, 0.3201460527464428, 0.06232932000373223, 0.22948522365010504, 0.05099671636669001, 0.005666301818521112, 0.025498358183345005, 0.9678707727348504, 0.9042827144930525, 0.4714235818697279, 0.026149844294776892, 0.012348537583644644, 0.08970849362235962, 0.07082249496502076, 0.03995115100590914, 0.08716614764925631, 0.00544788422807852, 0.07263845637438025, 0.04285668926088435, 0.05121011174393808, 0.0014527691274876051, 0.011622153019900841, 0.01743322952985126, 0.0024553852119890847, 0.9404125361918195, 0.05401847466375986, 0.9327117815060315, 0.9590913397937848, 0.9916216208584837, 0.11847582611984767, 0.7635108794390183, 0.1053118454398646, 0.9956440958706976, 0.24779514662189234, 0.7504653011977311, 0.9449350015542144, 0.898100964787698, 0.9303026817233487, 0.8173259238134541, 0.1813359766660075, 0.19308802218104812, 0.1063703735424858, 0.04028808605304312, 0.18227902348389022, 0.0537993344244905, 0.0009826362451961735, 0.2891407151489741, 0.020389702087820604, 0.004667522164681825, 0.011300316819755997, 0.07271508214451684, 0.010563339635858867, 0.002947908735588521, 0.01154597588105504, 0.9231437748779828, 0.09083129085186645, 0.8628972630927313, 0.11166184464121934, 0.2009913203541948, 0.08932947571297548, 0.5806415921343405, 0.9746065834443475, 0.8894615527394752, 0.26201969466667135, 0.08336990284848635, 0.6431392505454661, 0.13729050081124258, 0.02745810016224852, 0.15101955089236685, 0.6727234539750887, 0.979222564938175, 0.07703222497696735, 0.004163904052809047, 0.09785174524101259, 0.07495027295056284, 0.1332449296898895, 0.05204880066011308, 0.5433894788915805, 0.012491712158427138, 0.10956696136154039, 0.027391740340385096, 0.849143950551938, 0.93164739358066, 0.00863117349928406, 0.9494290849212466, 0.00863117349928406, 0.02589352049785218, 0.4393481977320767, 0.025050555133846478, 0.4258594372753901, 0.001926965779526652, 0.001926965779526652, 0.10598311787396586, 0.9440548978423376, 0.018747525158032262, 0.056242575474096786, 0.426506197345234, 0.037495050316064524, 0.11248515094819357, 0.08905074450065324, 0.07030321934262099, 0.018747525158032262, 0.009373762579016131, 0.11248515094819357, 0.05155569418458872, 0.016046010208280486, 0.016046010208280486, 0.04278936055541463, 0.021394680277707315, 0.8878792315248536, 0.016046010208280486, 0.0782748592496502, 0.07115896295422745, 0.16366561479472314, 0.007115896295422745, 0.3700266073619828, 0.03202153332940236, 0.06404306665880471, 0.05336922221567059, 0.07471691110193883, 0.02490563703397961, 0.05336922221567059, 0.03777674613406038, 0.004722093266757548, 0.07083139900136322, 0.014166279800272642, 0.25499303640490756, 0.4297104872749368, 0.051943025934333024, 0.12749651820245378, 0.9564962275138634, 0.9519945939726759, 0.9431315013481533, 0.0052601634115872955, 0.19988620964031723, 0.021040653646349182, 0.010520326823174591, 0.06312196093904755, 0.18936588281714264, 0.5049756875123804, 0.927149769662082, 0.977756818521924, 0.008409930804054055, 0.9671420424662165, 0.01681986160810811, 0.97380165411595, 0.14768226613922403, 0.7876387527425281, 0.173459565957553, 0.7979140034047437, 0.9522342578092347, 0.8955376059799992, 0.9055548767772408, 0.06245206046739592, 0.9378254089519836, 0.014771818752927874, 0.9232386720579921, 0.059087275011711494, 0.020301343519288976, 0.14210940463502283, 0.0812053740771559, 0.006767114506429659, 0.12180806111573386, 0.10150671759644488, 0.4263282139050685, 0.03383557253214829, 0.05413691605143727, 0.013534229012859318, 0.8950471163587728, 0.9590455174801722, 0.03876588824673503, 0.06784030443178629, 0.06784030443178629, 0.14537208092525633, 0.6687115722561792, 0.9190688700675822, 0.9742514112433335, 0.8918020582131062, 0.09251758390874798, 0.009251758390874798, 0.009251758390874798, 0.8789170471331058, 0.9830141994236004, 0.9017187345014431, 0.06011458230009621, 0.08990396545892787, 0.017980793091785574, 0.3596158618357115, 0.017980793091785574, 0.5034622065699961, 0.836364754920214, 0.9537517431923421, 0.2013630734019716, 0.3194960764644616, 0.016109045872157727, 0.08054522936078864, 0.14498141284941954, 0.2308963241675941, 0.0053696819573859095, 0.6757205828404076, 0.0926798804394574, 0.005055266205788585, 0.09436496917472026, 0.08593952549840594, 0.005055266205788585, 0.01011053241157717, 0.03033159723473151, 0.10000008087095116, 0.9000007278385604, 0.9412510501152713, 0.06689186848609083, 0.04864863162624787, 0.2918917897574872, 0.10033780272913623, 0.12770265801890066, 0.13986481592546263, 0.042567552672966885, 0.012162157906561968, 0.05777025005616935, 0.1124999606356982, 0.8666965655065042, 0.8970681381838562, 0.9683314684497372, 0.9492360207482506, 0.07066403962227666, 0.17108135908551192, 0.022314959880718948, 0.0037191599801198244, 0.014876639920479297, 0.014876639920479297, 0.011157479940359474, 0.6322571966203702, 0.055787399701797365, 0.18523784342109081, 0.7965227267106905, 0.0891440205826508, 0.9041750659097438, 0.032663173555869035, 0.16532590922893714, 0.01457280050954157, 0.7854236964280509, 0.0005025103623979852, 0.0005025103623979852, 0.0010050207247959703, 0.8949822948308713, 0.9100119969698417, 0.002700882978312712, 0.01350441489156356, 0.0018005886522084748, 0.0004501471630521187, 0.6509127977733636, 0.04186368616384704, 0.098582228708414, 0.1372948847308962, 0.029709712761439834, 0.004051324467469068, 0.0004501471630521187, 0.01665544503292839, 0.0022507358152605936, 0.027916788489657774, 0.1744799280603611, 0.0034895985612072218, 0.0069791971224144435, 0.5862525582828133, 0.07677116834655888, 0.024427189928450554, 0.031406387050865, 0.02093759136724333, 0.04187518273448666, 0.0034895985612072218, 0.29236283885594333, 0.013922039945521112, 0.6404138374939712, 0.05568815978208445, 0.9402661195656299, 0.02458185612905156, 0.10816016696782688, 0.11307653819363718, 0.7472884263231675, 0.1333488303963096, 0.004938845570233689, 0.6222945418494448, 0.04938845570233689, 0.014816536710701067, 0.014816536710701067, 0.14816536710701067, 0.12862600567402474, 0.2572520113480495, 0.06002546931454488, 0.04287533522467492, 0.49735388860622903, 0.908757608514492, 0.9140629037061376, 0.0481085738792704, 0.9230216106195573, 0.8587664352278341, 0.11342198201122337, 0.016203140287317626, 0.8812345642929362, 0.7858965025126139, 0.1746436672250253, 0.0990014671528036, 0.26023242794451235, 0.5232934692362476, 0.02545752012500664, 0.01697168008333776, 0.0056572266944459205, 0.045257813555567364, 0.022628906777783682, 0.9911099067029744, 0.05251387417171358, 0.8927358609191309, 0.11967207898285498, 0.5799493058399895, 0.055233267222856146, 0.0920554453714269, 0.15649425713142573, 0.13915908895486306, 0.29468983543382765, 0.008185828762050769, 0.5566363558194523, 0.2741719783746552, 0.005429148086626835, 0.23616794176826733, 0.02443116638982076, 0.10043923960259646, 0.062435202996208604, 0.28503027454790886, 0.005429148086626835, 0.012120509409900617, 0.48886054619932484, 0.4242178293465216, 0.012120509409900617, 0.010100424508250513, 0.014140594311550719, 0.03838161313135195, 0.11937412419034939, 0.06463350370527204, 0.02572149637250622, 0.14113846727477772, 0.14971229939894645, 0.18664573008767335, 0.03561437959270092, 0.09760978110592104, 0.04089058397680476, 0.0395715328807788, 0.06001682486918118, 0.02110481753641536, 0.00923335767218172, 0.00857383212416874, 0.9267343473942178, 0.03089270824694731, 0.1390171871112629, 0.19050503418950843, 0.47368819311985877, 0.14416597181908744, 0.020595138831298206, 0.14016918387306562, 0.09811842871114594, 0.1121353470984525, 0.6307613274287953, 0.2486700005018356, 0.017762142892988258, 0.035524285785976516, 0.6927235728265421, 0.27981285081232343, 0.005953464910900498, 0.5834395612682488, 0.08930197366350746, 0.03572078946540299, 0.937279408844883, 0.2414502977094224, 0.028592798412957914, 0.05877408562663571, 0.1715567904777475, 0.025415820811518147, 0.03653524241655733, 0.031769776014397684, 0.15726039127126853, 0.0031769776014397683, 0.15567190247054866, 0.05877408562663571, 0.0031769776014397683, 0.028592798412957914, 0.11549763594905621, 0.13649720612161187, 0.5669883946590032, 0.08399828069022269, 0.08399828069022269, 0.059627894433115974, 0.5871054221106803, 0.06880141665359535, 0.05045437221263659, 0.04128084999215721, 0.1880572055198273, 0.8945042290772242, 0.9583844157503163, 0.9623924728208789, 0.9559989660362185, 0.8500700830218608, 0.07684662421277846, 0.13500082631974597, 0.09969291789765855, 0.024923229474414638, 0.07476968842324391, 0.10592372526626222, 0.08307743158138213, 0.006230807368603659, 0.37177150632668504, 0.020769357895345533, 0.3273682552223331, 0.08228928819796351, 0.11627834201886147, 0.06082251736371216, 0.03041125868185608, 0.14668960070071754, 0.07155590278083783, 0.07692259548940067, 0.007155590278083782, 0.035777951390418915, 0.042933541668502696, 0.8757152639891833, 0.10104406892182885, 0.1823445095135462, 0.21384037933861327, 0.048072643417207635, 0.3348508265612394, 0.0646494170093482, 0.0033153547184281125, 0.05470335285406386, 0.05138799813563575, 0.0033153547184281125, 0.0265228377474249, 0.01823445095135462, 0.9641033027115306, 0.01890398632767707, 0.0005035957436383684, 0.09190622321400223, 0.337660946109526, 0.22863246761181927, 0.11733780826773983, 0.002517978718191842, 0.1467981592705844, 0.014100680821874316, 0.041043053106527026, 0.018129446770981262, 0.0005035957436383684, 0.0002517978718191842, 0.0005035957436383684, 0.9779151603113981, 0.6270019624877224, 0.019292368076545306, 0.04340782817222694, 0.014469276057408978, 0.12057730047840816, 0.004823092019136326, 0.06752328826790857, 0.06752328826790857, 0.028938552114817957, 0.02502028963149601, 0.030794202623379705, 0.02502028963149601, 0.11740289750163513, 0.0019246376639612316, 0.05966376758279818, 0.4041739094318586, 0.19053912873216192, 0.01154782598376739, 0.08853333254221665, 0.015397101311689853, 0.02502028963149601, 0.8958824059534473, 0.07562010531502167, 0.09452513164377709, 0.812916132136483, 0.021734425429781868, 0.7172360391828017, 0.1521409780084731, 0.10867212714890934, 0.0632204979632678, 0.8850869714857492, 0.9727342810253393, 0.9084777504803814, 0.9139339560057171, 0.058819142786123074, 0.16469359980114462, 0.7646488562196, 0.01388498504601962, 0.3401821336274807, 0.01388498504601962, 0.6317668195938927, 0.8554545683405627, 0.08147186365148215, 0.6953847481678563, 0.09712077488377882, 0.10100560587912996, 0.011654492986053458, 0.031078647962809222, 0.05827246493026729, 0.8345883959348964, 0.14605296928860687, 0.9576816693793385, 0.9251297225822049, 0.8177217838093432, 0.0629016756776418, 0.11007793243587313, 0.14475341202043904, 0.8363530472292033, 0.8568837577371154, 0.6696051528490654, 0.01018765754188333, 0.8608570622891413, 0.12225189050259995, 0.8990024911091525, 0.055286732291979335, 0.04422938583358347, 0.8956450631300652, 0.6136356027952573, 0.08955762851606458, 0.016584746021493443, 0.06965593329027246, 0.16253051101063573, 0.029852542838688195, 0.0066338984085973765, 0.009950847612896066, 0.0052757720248847095, 0.32182209351796726, 0.08968812442304006, 0.4220617619907767, 0.010551544049769419, 0.14244584467188715, 0.015827316074654128, 0.5204247673526636, 0.03516383563193673, 0.35867112344575464, 0.07736043839026081, 0.9657815005341228, 0.015275199414013039, 0.9814315623503378, 0.32207098138214474, 0.014864814525329758, 0.0049549381751099195, 0.5376107919994262, 0.10157623258975335, 0.014864814525329758, 0.9465872452391588, 0.9728676206555902, 0.9362938521577164, 0.14205013485663678, 0.244914025614891, 0.5486074173773559, 0.05388108563527602, 0.00489828051229782, 0.9349588197574615, 0.8245377020977844, 0.217478437463441, 0.03462343283000056, 0.06600091883218856, 0.03462343283000056, 0.005409911379687587, 0.035705415105938075, 0.07573875931562622, 0.07141083021187615, 0.02921352145031297, 0.0995423693862516, 0.03245946827812552, 0.19475680966875314, 0.09413245800656402, 0.007573875931562622, 0.24926390945778748, 0.7477917283733624, 0.9226897779550596, 0.3017770729627635, 0.6904293638996559, 0.0030597580724909643, 0.004589637108736447, 0.009179274217472893, 0.06731467759480121, 0.6517284694405754, 0.1698165730232485, 0.004589637108736447, 0.030597580724909642, 0.05048600819610091, 0.004589637108736447, 0.0015298790362454821, 0.9680919794615473, 0.28856119730374635, 0.0014647776512880526, 0.02197166476932079, 0.08495710377470704, 0.33689885979625206, 0.02343644242060884, 0.00585911060515221, 0.07909799316955483, 0.019042109466744683, 0.02197166476932079, 0.048337662492505734, 0.06884454961053847, 0.0014647776512880526, 0.9905461123603457, 0.10027147351342468, 0.10027147351342468, 0.03760180256753425, 0.6893663804047946, 0.012533934189178085, 0.06266967094589042, 0.8848811140785442, 0.8742825503064803, 0.9590713457574415, 0.9490711244604079, 0.8738171051593874, 0.09446671407128512, 0.16761587524473837, 0.03528755268310282, 0.11468454622008416, 0.626354060125075, 0.05293132902465422, 0.9320327567197944, 0.030689431380421496, 0.05370650491573762, 0.1150853676765806, 0.09974065198636986, 0.13810244121189674, 0.42965203932590096, 0.1150853676765806, 0.007672357845105374, 0.000589855776619108, 0.000589855776619108, 0.8375952027991334, 0.0064884135428101885, 0.14451466527168147, 0.000589855776619108, 0.005308701989571972, 0.004128990436333756, 0.12928083065493481, 0.13490173633558417, 0.18548988746142822, 0.1405226420162335, 0.00562090568064934, 0.34287524651960977, 0.0562090568064934, 0.9189388553027193, 0.0164322779301153, 0.7148040899600155, 0.2136196130914989, 0.04108069482528825, 0.985043744460989, 0.8649257164752489, 0.6944763792552725, 0.028263573574342487, 0.0323012269421057, 0.004037653367763213, 0.004037653367763213, 0.05248949378092176, 0.004037653367763213, 0.0646024538842114, 0.10497898756184353, 0.004037653367763213, 0.008075306735526425, 0.7431037652453318, 0.846076960455693, 0.16290864963659146, 0.014809877239690135, 0.6220148440669856, 0.014809877239690135, 0.014809877239690135, 0.014809877239690135, 0.14809877239690133, 0.5102796938746493, 0.03968842063469495, 0.20411187754985974, 0.11906526190408485, 0.005669774376384993, 0.10772571315131486, 0.005669774376384993, 0.03200650660478092, 0.08001626651195229, 0.8801789316314752, 0.21559201777533207, 0.7186400592511069, 0.04790933728340713, 0.9039873404970867, 0.042356722195064214, 0.6353508329259633, 0.0917728980893058, 0.23296197207285319, 0.0033543752473083333, 0.996249448450575, 0.920349317648305, 0.9336520288604867, 0.16389354942061338, 0.8194677471030668, 0.9595700754947428, 0.5299271038617887, 0.009379240776314844, 0.009379240776314844, 0.07503392621051876, 0.08910278737499101, 0.2579291213486582, 0.02344810194078711, 0.06472020936925592, 0.9060829311695829, 0.1575898538641305, 0.7879492693206525, 0.05364574032266017, 0.09035072054342766, 0.13976127084061465, 0.2075243112481854, 0.018352490110383743, 0.345873852080309, 0.02541114015283903, 0.11576186069626668, 0.0028234600169821144, 0.020566508857523036, 0.07198278100133063, 0.14396556200266125, 0.1131157987163767, 0.14396556200266125, 0.49359621258055286, 0.08271087181338696, 0.0723720128367136, 0.00344628632555779, 0.06203315386004023, 0.00689257265111558, 0.01033885897667337, 0.02067771795334674, 0.01378514530223116, 0.06203315386004023, 0.541066953112573, 0.02067771795334674, 0.10338858976673371, 0.13728012769249823, 0.13728012769249823, 0.10982410215399858, 0.5033604682058269, 0.10982410215399858, 0.12085258486820566, 0.8459680940774396, 0.3220708900854307, 0.13084129909720624, 0.05703338678596169, 0.053678481680905124, 0.2012943063033942, 0.0067098102101131405, 0.0033549051050565703, 0.22142373693373363, 0.9818312014584819, 0.5255369659467866, 0.09221378439749515, 0.10363850104851226, 0.0016321023787167284, 0.20727700209702452, 0.04243466184663494, 0.026113638059467655, 0.9881634374783365, 0.9447255315333312, 0.9643387225718469, 0.17240443591863638, 0.5503680069710315, 0.09946409764536715, 0.07957127811629372, 0.09283315780234266, 0.3688633859962456, 0.03688633859962456, 0.15676693904840439, 0.35964180134633944, 0.07377267719924913, 0.42621291157095276, 0.12034246914944549, 0.05515696502682918, 0.10028539095787124, 0.015042808643680686, 0.09527112140997768, 0.06518550412261631, 0.07521404321840343, 0.03509988683525493, 0.015042808643680686, 0.933902721249005, 0.9572985004676696, 0.5553237881274291, 0.43554806911955224, 0.988188297127707, 0.0674785609222924, 0.8041195176573178, 0.005623213410191034, 0.11246426820382067, 0.005623213410191034, 0.10419702161482987, 0.195369415527806, 0.16932016012409853, 0.5209851080741493, 0.8948801475918297, 0.03196000527113677, 0.03196000527113677, 0.028864706133842143, 0.9092382432160275, 0.04329705920076322, 0.9597393765679557, 0.4662126601848176, 0.5161640166331909, 0.008325226074728886, 0.932390756225213, 0.5501510496731356, 0.026197669032054074, 0.026197669032054074, 0.0037425241474362964, 0.0037425241474362964, 0.12724582101283408, 0.056137862211544445, 0.1047906761282163, 0.011227572442308889, 0.08607805539103482, 0.9071393334522003, 0.07559494445435003, 0.007559494445435003, 0.986956439374011, 0.6288864816010814, 0.0031665985981927567, 0.07029848887987919, 0.05319885644963831, 0.0006333197196385512, 0.14756349467578245, 0.01013311551421682, 0.03673254373903598, 0.04243242121578294, 0.001899959158915654, 0.0012666394392771025, 0.0006333197196385512, 0.0031665985981927567, 0.9551664132757326, 0.9366092578961346, 0.14185423178259285, 0.18502725884686025, 0.06784332824384876, 0.6013385912522958, 0.9365132474846004, 0.20669312420933098, 0.04593180537985132, 0.08038065941473982, 0.13779541613955398, 0.4822839564884389, 0.02296590268992566, 0.0924247136453827, 0.09522546254372763, 0.00560149779668986, 0.06441722466193339, 0.5041348017020875, 0.02240599118675944, 0.00280074889834493, 0.0560149779668986, 0.00280074889834493, 0.07281947135696819, 0.07842096915365804, 0.9838981613940219, 0.16492746893125848, 0.0051539834041018275, 0.006012980638118799, 0.042949861700848566, 0.02061593361640731, 0.04724484787093342, 0.5454632436007768, 0.0051539834041018275, 0.057552814679137074, 0.0008589972340169713, 0.035218886594695825, 0.035218886594695825, 0.03435988936067885, 0.9889349883902737, 0.9673284171442611, 0.9051148758218134, 0.9823776215756712, 0.9683319217016029, 0.03503724591879275, 0.8992893119156805, 0.04671632789172366, 0.1550527317124378, 0.26358964391114426, 0.5581898341647761, 0.09109669258116289, 0.045548346290581444, 0.3871609434699423, 0.4668705494784598, 0.9367555642178402, 0.9389532785017382, 0.07414674210979877, 0.05190271947685914, 0.22837196569818022, 0.054127121740153106, 0.04300511042368329, 0.031141631686115483, 0.16905457201034121, 0.03188309910721347, 0.26173799964758965, 0.0007414674210979877, 0.007414674210979877, 0.037073371054899384, 0.0014829348421959755, 0.008156141632077864, 0.8734138295435264, 0.050836236217835985, 0.8337142739725102, 0.10167247243567197, 0.25538281041295136, 0.707213936528173, 0.039289663140454054, 0.9797648316003915, 0.6053749130435476, 0.006240978484985027, 0.006240978484985027, 0.02912456626326346, 0.04576717555655687, 0.0020803261616616758, 0.018722935454955084, 0.2746030533393412, 0.010401630808308379, 0.20778581979532487, 0.02308731331059165, 0.669532086007158, 0.0461746266211833, 0.05771828327647913, 0.9264155649844984, 0.973035651601232, 0.9141899920737627, 0.9502268807825597, 0.9514779093736148, 0.9502576473239548, 0.0014062296403950572, 0.21515313498044375, 0.0028124592807901145, 0.18351296807155498, 0.0295308224482962, 0.2531213352711103, 0.2629649427538757, 0.010546722302962929, 0.0295308224482962, 0.0021093444605925857, 0.005624918561580229, 0.0028124592807901145, 0.0025994292752618705, 0.48349384519870797, 0.16376404434149786, 0.21835205912199715, 0.0025994292752618705, 0.12477260521256979, 0.18884169333408432, 0.09939036491267596, 0.15405506561464774, 0.17393313859718293, 0.38265290491380244, 0.8676325141955858, 0.12050451586049804, 0.09889800726046953, 0.8571160629240693, 0.9511267795292603, 0.10397942190455414, 0.05412627441606928, 0.052701898773541145, 0.001424375642528139, 0.034185015420675334, 0.01566813206780953, 0.6822759327709785, 0.01566813206780953, 0.001424375642528139, 0.009970629497696972, 0.024214385922978362, 0.002848751285056278, 0.9099742270591639, 0.9004676479244957, 0.9641543502036731, 0.82977820052247, 0.08297782005224699, 0.9725974311279925, 0.02036693664875589, 0.7943105293014798, 0.14256855654129125, 0.04073387329751178, 0.951639397845947, 0.9292141217193296, 0.05823368199036314, 0.05138266057973218, 0.0479571498744167, 0.4247633274591194, 0.08563776763288697, 0.041106128463785745, 0.27061534571992285, 0.020553064231892872, 0.046026842077067164, 0.21698368407760235, 0.006575263153866738, 0.19725789461600216, 0.05260210523093391, 0.046026842077067164, 0.046026842077067164, 0.38794052607813756, 0.8891456874088967, 0.08891456874088965, 0.9410926501821281, 0.05337018751624432, 0.9072931877761534, 0.8020604188569519, 0.16041208377139038, 0.7836419067629556, 0.9718509147525493, 0.8852088822128241, 0.08220407831191728, 0.011743439758845326, 0.011743439758845326, 0.6224023072188023, 0.058717198794226634, 0.1291778373472986, 0.08220407831191728, 0.9559132285774817, 0.04910408171376328, 0.9329775525615023, 0.06726446530904423, 0.9080702816720971, 0.8388067125401955, 0.6063579717411104, 0.11818841822072491, 0.08735665694575319, 0.05652489567078148, 0.12846567197904882, 0.12406529529481494, 0.04962611811792598, 0.07315574308763226, 0.1916594906623348, 0.02438524769587742, 0.09240725442648286, 0.033797097683759936, 0.047059249939412566, 0.0534764203856961, 0.161712695246345, 0.04278113630855688, 0.044064570397813585, 0.011978718166395926, 0.04962611811792598, 0.744450410399614, 0.2436383161307828, 0.30090383803716975, 0.008721850377888979, 0.06105295264522284, 0.013082775566833467, 0.5800030501296171, 0.017443700755777957, 0.008721850377888979, 0.008721850377888979, 0.9177541337997518, 0.7048281378751767, 0.023758251838489102, 0.039597086397481836, 0.11087184191294915, 0.11879125919244551, 0.30658761865552375, 0.03406529096172486, 0.5450446553875977, 0.1135509698724162, 0.9488967619463959, 0.9384139882295046, 0.9705199107014361, 0.7051594436154754, 0.2717905252342312, 0.08833192070112514, 0.05435810504684624, 0.5775548661227413, 0.18990003887529752, 0.014036089829913296, 0.0024769570288082285, 0.3921848628946362, 0.009907828115232914, 0.009082175772296839, 0.09660132412352092, 0.04623653120442027, 0.13458133189858043, 0.004953914057616457, 0.04788783589029242, 0.04458522651854811, 0.0074308710864246855, 0.9741403249425521, 0.01546254484035797, 0.007731272420178985, 0.02801405828679521, 0.22411246629436168, 0.40340243932985104, 0.1848927846928484, 0.11205623314718084, 0.04482249325887234, 0.9073682144371179, 0.9266098054947829, 0.9464613732007213, 0.9378445155777473, 0.9762641024784324, 0.13584295009080904, 0.04075288502724271, 0.013584295009080904, 0.04754503253178316, 0.013584295009080904, 0.17659583511805174, 0.14263509759534948, 0.14263509759534948, 0.06792147504540452, 0.20376442513621357, 0.0034315157061323488, 0.01887333638372792, 0.2710897407844555, 0.3980558219113524, 0.03774667276745584, 0.030883641355191137, 0.08407213480024255, 0.0051472735591985225, 0.09265092406557342, 0.04804121988585288, 0.0068630314122646975, 0.4609916386825925, 0.12750832559305753, 0.23539998571026002, 0.16674165654476752, 0.9052671653699653, 0.01767465024351641, 0.9721057633934026, 0.11480328927006916, 0.15307105236009222, 0.019133881545011527, 0.6696858540754035, 0.038267763090023055, 0.923380150402834, 0.7578273874723871, 0.06404175105400454, 0.058704938466170836, 0.04803131329050341, 0.016010437763501136, 0.0426945007026697, 0.005336812587833712, 0.915569976347146, 0.07324559810777168, 0.0519112747009796, 0.5969796590612655, 0.3244454668811225, 0.0129778186752449, 0.8907848865531818, 0.07032512262261961, 0.0888847414026056, 0.0031187628562317758, 0.05769711284028785, 0.3539795841823065, 0.24638226564231028, 0.062375257124635514, 0.004678144284347664, 0.12163175139303925, 0.04210329855912897, 0.018712577137390655, 0.8432322021994658, 0.09920378849405481, 0.8986069066099602, 0.047295100347892645, 0.9031309110512471, 0.043006233859583194, 0.8454653001778883, 0.11742573613581783, 0.023485147227163564, 0.7296136098581619, 0.05072180175484548, 0.1365586970322763, 0.05072180175484548, 0.02731173940645526, 0.9484416382783226, 0.9272527771626728, 0.05795329857266705, 0.955040122593669, 0.9845672419105808, 0.9670702192844777, 0.144533333350495, 0.29198653202120206, 0.48031784517487736, 0.08175622896593657, 0.9287912569538039, 0.7865539483574165, 0.18877294760577998, 0.045812746821270726, 0.002545152601181707, 0.9493419202407767, 0.012586036772723566, 0.0031465091931808914, 0.9376597395679057, 0.04405112870453248, 0.972134087660796, 0.9871234156972288, 0.9241895971763207, 0.7430094338909933, 0.06754631217190848, 0.01688657804297712, 0.16886578042977118, 0.9807615938907869, 0.9821039860134978, 0.9352102944772244, 0.950352573120054, 0.7469333307379654, 0.10727234005279292, 0.12713758821071752, 0.01589219852633969, 0.003973049631584923, 0.00959950247828124, 0.001919900495656248, 0.17279104460906233, 0.001919900495656248, 0.015359203965249984, 0.7641203972711867, 0.03263830842615622, 0.9279663305295714, 0.8917610215447349, 0.932865473348408, 0.9882196699823158, 0.9325069455207664, 0.9496339033267306, 0.060014561276199245, 0.9002184191429887, 0.8570400109819148, 0.05041411829305382, 0.05041411829305382, 0.9197982525634109, 0.023278697900737465, 0.9544266139302361, 0.9135930844625031, 0.07534788325463943, 0.08223569882156653, 0.8840337623318403, 0.0944111678430663, 0.30683629548996544, 0.5900697990191643, 0.28262016167693277, 0.6991130315166232, 0.045533397275929116, 0.010434736875733756, 0.0009486124432485232, 0.0009486124432485232, 0.7418149306203452, 0.04031602883806224, 0.06877440213551793, 0.07162023946526351, 0.0014229186648727849, 0.015652105313600635, 0.0018972248864970464, 0.4491544163040111, 0.4589186427454026, 0.07811381153113237, 0.20164326738237257, 0.6049298021471177, 0.17475749839805624, 0.3692087375100666, 0.08768483372628585, 0.13699634553554682, 0.17016954438904963, 0.011476133657428006, 0.005200123063522064, 0.06204284758547015, 0.026717873671199575, 0.035683603091065205, 0.05504957863797496, 0.03944920944740877, 0.0001793145883973126, 0.03470359027204592, 0.0747461944320989, 0.04271211110405651, 0.03737309721604945, 0.4244516040965616, 0.09343274304012363, 0.12279731942416247, 0.03737309721604945, 0.02402556249603179, 0.018686548608024725, 0.01601704166402119, 0.0747461944320989, 0.08310588561992932, 0.8726117990092578, 0.02077647140498233, 0.9931157192922074, 0.9869249318896265, 0.012416024199511093, 0.5587210889779991, 0.4221448227833771, 0.9656035933190289, 0.9383070876573202, 0.9415850435266637, 0.7569873901815378, 0.9094530707806062, 0.08267755188914602, 0.9290585356119945, 0.8531743747315876, 0.0812547023553893, 0.05416980157025953, 0.8811157984247071, 0.07661876508040931, 0.06743593460469317, 0.13487186920938635, 0.0816329734688391, 0.14729427821551405, 0.024844818012255382, 0.2732929981348092, 0.01064777914810945, 0.07098519432072967, 0.012422409006127691, 0.047915006166492524, 0.10115390190703977, 0.017746298580182417, 0.012422409006127691, 0.08956552949537334, 0.051180302568784766, 0.046062272311906294, 0.0665343933394202, 0.20216219514669984, 0.046062272311906294, 0.04862128744034553, 0.06909340846785944, 0.2738146187429985, 0.035826211798149335, 0.06909340846785944, 0.8693096077239305, 0.9402347642550196, 0.9502952823666234, 0.8912344384211949, 0.05570215240132468, 0.917662136955995, 0.0580245037113037, 0.8703675556695556, 0.06834022174882737, 0.0893679822869281, 0.15595589065758042, 0.22780073916275792, 0.0017523133781750608, 0.24882849970085866, 0.030665484118063566, 0.0718448485051775, 0.0035046267563501217, 0.0008761566890875304, 0.057826341479777006, 0.0026284700672625913, 0.03855089431985134, 0.0017523133781750608, 0.994777454572593, 0.1128311465936131, 0.6769868795616786, 0.2030960638685036, 0.06304565906426197, 0.929923471197864, 0.11368214961981658, 0.8526161221486244, 0.7772723823594747, 0.6828436158090875, 0.8067969024220987, 0.8634844717927974, 0.9132619593380469, 0.9192440620942067, 0.24044651802837141, 0.3357177798886695, 0.15878543643383017, 0.009073453510504582, 0.004536726755252291, 0.2449832447836237, 0.9543266932849607, 0.7639364774093621, 0.11692905266469829, 0.10913378248705173, 0.08443580619856525, 0.024124516056732926, 0.012062258028366463, 0.7478599977587207, 0.03618677408509939, 0.06031129014183232, 0.020103763380610772, 0.012062258028366463, 0.980287470928112, 0.07276159734237048, 0.24375135109694113, 0.3201510283064301, 0.16371359402033359, 0.014552319468474097, 0.007276159734237049, 0.16007551415321505, 0.01819039933559262, 0.8270663467312261, 0.866208050836917, 0.8427064872905311, 0.9599352841113894, 0.35803766844158663, 0.6265659197727766, 0.9365422710304752, 0.17357394023389885, 0.8027794735817823, 0.2517626949506915, 0.058744628821828015, 0.27693896444576066, 0.3944282220894167, 0.008392089831689717, 0.7967975372032021, 0.10393011354824376, 0.08660842795686981, 0.9325412344344532, 0.8757538118042444, 0.04910769038154641, 0.07366153557231962, 0.06544493522608066, 0.21269603948476218, 0.7035330536803672, 0.06736376121929237, 0.09319235360389153, 0.1008711243128264, 0.2418812773314488, 0.047817799414730855, 0.0027922802577945026, 0.18498856707888578, 0.12111515618183655, 0.0006980700644486257, 0.017451751611215642, 0.02757376754572071, 0.04502551915693635, 0.017102716578991328, 0.03211122296463678, 0.9099640635462873, 0.1565031668546869, 0.14651360301289837, 0.36628400753224594, 0.14984345762682788, 0.17648229453826395, 0.6154519338496606, 0.013477049646342934, 0.36388034045125917, 0.21149203292967508, 0.003253723583533463, 0.0878505367554035, 0.019522341501200777, 0.3644170413557478, 0.1919696914284743, 0.06182074808713579, 0.013014894334133852, 0.006507447167066926, 0.003253723583533463, 0.032537235835334626, 0.9497619976078628, 0.029680062425245714, 0.8908347823618611, 0.03823187531292228, 0.026762312719045594, 0.01529275012516891, 0.604063629944172, 0.01911593765646114, 0.0038231875312922277, 0.2217448768149492, 0.0420550628442145, 0.011469562593876683, 0.011469562593876683, 0.90104106341373, 0.22110629829846706, 0.6653473930449284, 0.006085494448581663, 0.05679794818676218, 0.0486839555886533, 0.009478182001836399, 0.0663472740128548, 0.9099054721762944, 0.9522666377666981, 0.8908713830210395, 0.09593999509457347, 0.8879475241281876, 0.38085256719228505, 0.38085256719228505, 0.2254025397668626, 0.9074833285196563, 0.8594484636938604, 0.08594484636938604, 0.04297242318469302, 0.949474715912368, 0.9125100031706742, 0.15458110674330003, 0.08849208284580219, 0.01792244715864348, 0.07168978863457393, 0.08513162400355653, 0.11313544768893698, 0.16130202442779135, 0.013441835368982611, 0.002240305894830435, 0.057127800318176096, 0.045926270844023925, 0.15458110674330003, 0.026883670737965222, 0.007841070631906524, 0.5357758255595603, 0.3976461205324861, 0.06278622955776096, 0.003326988029347625, 0.9931059267602661, 0.003326988029347625, 0.055210165160437405, 0.8833626425669985, 0.14676098460086576, 0.7925093168446751, 0.029352196920173153, 0.907160390435934, 0.07161792556073163, 0.2329156852870345, 0.30886645222845877, 0.025316922313808096, 0.07595076694142429, 0.05063384462761619, 0.29367629884017393, 0.9163113680721874, 0.05908038989410985, 0.8862058484116477, 0.8881434733740725, 0.06950688052492741, 0.01544597344998387, 0.023168960174975804, 0.30392407921317677, 0.002738054767686277, 0.03970179413145102, 0.023273465525333357, 0.3052931065970199, 0.0355947119799216, 0.002738054767686277, 0.06982039657600007, 0.0602372048890981, 0.026011520293019633, 0.08624872518211774, 0.0355947119799216, 0.012321246454588248, 0.9190083337264385, 0.9229001921362013, 0.03932657061221872, 0.8848478387749211, 0.03932657061221872, 0.02009316803994609, 0.09711697885973944, 0.3717236087390027, 0.010046584019973045, 0.4922826169786792, 0.8896584400431197, 0.0673983666699333, 0.04043902000195999, 0.9591880955291815, 0.1857471903082416, 0.15672419182257885, 0.13350579303404866, 0.02902299848566275, 0.0116091993942651, 0.3308621827365554, 0.1044827945483859, 0.05224139727419295, 0.9363329475983702, 0.8944711416249108, 0.1851672472874754, 0.06440599905651319, 0.02079777052866572, 0.05300077005692231, 0.006038062411548112, 0.13149558140704776, 0.2361553298738817, 0.00939254152907484, 0.028848520410729866, 0.01878508305814968, 0.0556843533509437, 0.07379854058558803, 0.04092464523382609, 0.07581122805610407, 0.930978001584626, 0.2599258845505896, 0.649814711376474, 0.0433209807584316, 0.03465678460674528, 0.46075141400520125, 0.029100089305591655, 0.06790020837971386, 0.08730026791677496, 0.04365013395838748, 0.10185031256957079, 0.004850014884265276, 0.004850014884265276, 0.19885061025487633, 0.8708010684620252, 0.01163583333770418, 0.9425025003540387, 0.03490750001311254, 0.06965895978171002, 0.8707369972713752, 0.07600103359442645, 0.04342916205395797, 0.021714581026978985, 0.8034394979982225, 0.04342916205395797, 0.9373949222651513, 0.9452500501031781, 0.9825972566727865, 0.009825972566727865, 0.004912986283363932, 0.0007018551833377046, 0.0007018551833377046, 0.0007018551833377046, 0.9504618193339641, 0.03168206064446547, 0.0650455268751351, 0.9283770653996555, 0.09965538640259157, 0.5442717257372308, 0.3449609529320477, 0.9930065276489793], \"Term\": [\"able\", \"able\", \"able\", \"able\", \"able\", \"able\", \"able\", \"able\", \"able\", \"able\", \"able\", \"absolutely\", \"absolutely\", \"absolutely\", \"absolutely\", \"absolutely\", \"abuse\", \"access\", \"access\", \"access\", \"access\", \"access\", \"access\", \"access\", \"access\", \"access\", \"access\", \"accessible\", \"accident\", \"accidently\", \"account\", \"account\", \"account\", \"activate\", \"activity\", \"activity\", \"ad\", \"ad\", \"ad\", \"ad\", \"ad\", \"add\", \"add\", \"add\", \"add\", \"add\", \"add\", \"add\", \"add\", \"add\", \"adult\", \"adult\", \"adult\", \"advanced\", \"advertise\", \"advertise\", \"advertise\", \"advertise\", \"advertising\", \"advice\", \"age\", \"age\", \"ahead\", \"ahead\", \"alexa\", \"alexa\", \"alexa\", \"allow\", \"allow\", \"allow\", \"allow\", \"allow\", \"allow\", \"allow\", \"allow\", \"allow\", \"allow\", \"allow\", \"alot\", \"amazon\", \"amazon\", \"amazon\", \"amazon\", \"amazon\", \"amazon\", \"amazon\", \"amazon\", \"amazon\", \"amazon\", \"amazon\", \"amazon\", \"amazon\", \"amazon\", \"amount\", \"android\", \"android\", \"android\", \"angle\", \"answer\", \"answer\", \"answer\", \"anymore\", \"app\", \"app\", \"app\", \"app\", \"app\", \"app\", \"app\", \"app\", \"app\", \"app\", \"apple\", \"apple\", \"apple\", \"apple\", \"apple\", \"apple\", \"apple\", \"application\", \"application\", \"appointment\", \"appropriate\", \"appropriate\", \"appropriate\", \"aren\", \"aren\", \"aren\", \"arrive\", \"article\", \"ask\", \"ask\", \"ask\", \"ask\", \"ask\", \"ask\", \"ask\", \"assistance\", \"associate\", \"associate\", \"assume\", \"attention\", \"audible\", \"audible\", \"audio\", \"audio\", \"audio\", \"audio\", \"available\", \"available\", \"available\", \"available\", \"available\", \"available\", \"available\", \"available\", \"available\", \"available\", \"average\", \"awake\", \"awhile\", \"awhile\", \"b\", \"b\", \"backlight\", \"backlight\", \"backup\", \"bang\", \"barely\", \"basic\", \"basic\", \"basic\", \"basis\", \"basis\", \"bass\", \"battery\", \"battery\", \"battery\", \"battery\", \"battery\", \"battery\", \"battery\", \"battery\", \"battery\", \"bb\", \"beat\", \"beat\", \"beat\", \"beat\", \"beat\", \"beat\", \"bedtime\", \"begin\", \"beginner\", \"beginner\", \"bell\", \"bezel\", \"big\", \"big\", \"big\", \"big\", \"big\", \"big\", \"big\", \"big\", \"big\", \"big\", \"big\", \"big\", \"binder\", \"birthday\", \"bit\", \"bit\", \"bit\", \"bit\", \"bit\", \"bit\", \"bit\", \"bit\", \"bit\", \"black\", \"black\", \"black\", \"block\", \"block\", \"blue\", \"blue\", \"blue\", \"blue\", \"bluetooth\", \"bluetooth\", \"bluetooth\", \"bluetooth\", \"book\", \"book\", \"book\", \"book\", \"book\", \"book\", \"book\", \"book\", \"boot\", \"bored\", \"borrow\", \"box\", \"box\", \"box\", \"box\", \"box\", \"box\", \"boy\", \"boy\", \"boyfriend\", \"brand\", \"brand\", \"brand\", \"brand\", \"brand\", \"breeze\", \"bring\", \"bring\", \"bring\", \"bring\", \"bring\", \"browse\", \"browse\", \"bumper\", \"burn\", \"business\", \"business\", \"busy\", \"button\", \"button\", \"button\", \"button\", \"button\", \"button\", \"button\", \"buy\", \"buy\", \"buy\", \"buy\", \"buy\", \"buy\", \"buy\", \"buy\", \"buy\", \"buy\", \"buy\", \"buy\", \"buy\", \"buy\", \"cable\", \"cancel\", \"candy\", \"capable\", \"card\", \"card\", \"card\", \"care\", \"carousel\", \"carry\", \"carry\", \"carry\", \"carry\", \"carry\", \"carry\", \"case\", \"case\", \"case\", \"case\", \"case\", \"case\", \"case\", \"case\", \"case\", \"case\", \"case\", \"certificate\", \"challenge\", \"challenge\", \"chance\", \"change\", \"change\", \"change\", \"change\", \"change\", \"charge\", \"charge\", \"charge\", \"charge\", \"charge\", \"charge\", \"charge\", \"charge\", \"charge\", \"charger\", \"charger\", \"charger\", \"charger\", \"charger\", \"cheap\", \"cheap\", \"cheap\", \"cheap\", \"cheap\", \"cheap\", \"cheap\", \"cheap\", \"cheap\", \"cheap\", \"check\", \"check\", \"check\", \"check\", \"child\", \"child\", \"child\", \"child\", \"child\", \"child\", \"child\", \"child\", \"christmas\", \"christmas\", \"christmas\", \"christmas\", \"chrome\", \"claim\", \"clarity\", \"clarity\", \"clarity\", \"class\", \"class\", \"clear\", \"clear\", \"clear\", \"clear\", \"clear\", \"clear\", \"clear\", \"clearly\", \"click\", \"click\", \"click\", \"code\", \"college\", \"color\", \"color\", \"color\", \"color\", \"combine\", \"combine\", \"come\", \"come\", \"come\", \"come\", \"come\", \"come\", \"come\", \"come\", \"come\", \"come\", \"come\", \"come\", \"come\", \"comfortably\", \"command\", \"companion\", \"company\", \"compatible\", \"compatible\", \"competitive\", \"complete\", \"complete\", \"computer\", \"computer\", \"computer\", \"computer\", \"computer\", \"computer\", \"computer\", \"computer\", \"computer\", \"computer\", \"concern\", \"confusing\", \"connect\", \"connect\", \"connect\", \"connect\", \"connect\", \"connect\", \"connector\", \"consistently\", \"constantly\", \"constantly\", \"constantly\", \"consumption\", \"control\", \"control\", \"control\", \"control\", \"copy\", \"cord\", \"cord\", \"cord\", \"cost\", \"cost\", \"cost\", \"cost\", \"cost\", \"cost\", \"couldn\", \"couldn\", \"couldn\", \"couldn\", \"count\", \"cousin\", \"crack\", \"crack\", \"crack\", \"crazy\", \"crazy\", \"create\", \"create\", \"crossword\", \"crush\", \"curfew\", \"customer\", \"customer\", \"customer\", \"customer\", \"customizable\", \"customize\", \"cute\", \"dad\", \"daily\", \"daily\", \"daily\", \"daily\", \"daily\", \"daughter\", \"daughter\", \"daughter\", \"daughter\", \"daughter\", \"daughter\", \"day\", \"day\", \"day\", \"day\", \"day\", \"day\", \"day\", \"day\", \"day\", \"day\", \"dead\", \"deal\", \"deal\", \"deal\", \"deal\", \"deal\", \"deal\", \"deal\", \"deal\", \"deal\", \"deal\", \"decent\", \"decent\", \"decent\", \"decent\", \"decent\", \"def\", \"defective\", \"definite\", \"definitely\", \"definitely\", \"definitely\", \"definitely\", \"definitely\", \"definitely\", \"definitely\", \"definitely\", \"definitely\", \"delete\", \"delighted\", \"department\", \"design\", \"design\", \"design\", \"design\", \"design\", \"design\", \"design\", \"desire\", \"destroy\", \"development\", \"device\", \"device\", \"device\", \"device\", \"device\", \"device\", \"device\", \"device\", \"device\", \"device\", \"device\", \"device\", \"device\", \"didn\", \"didn\", \"didn\", \"didn\", \"die\", \"difference\", \"difference\", \"difference\", \"difficult\", \"difficult\", \"difficult\", \"difficult\", \"digital\", \"digital\", \"dim\", \"direction\", \"direction\", \"disable\", \"disappointed\", \"disappointed\", \"disappointed\", \"disappointing\", \"disappointing\", \"dish\", \"distract\", \"doesn\", \"doesn\", \"doesn\", \"doesn\", \"doesn\", \"doesn\", \"doesn\", \"don\", \"don\", \"don\", \"don\", \"don\", \"don\", \"don\", \"dot\", \"doubt\", \"downfall\", \"download\", \"download\", \"download\", \"download\", \"download\", \"download\", \"draw\", \"drive\", \"drive\", \"drive\", \"drive\", \"drop\", \"drop\", \"drop\", \"drop\", \"drop\", \"drop\", \"drop\", \"drop\", \"dual\", \"durable\", \"durable\", \"durable\", \"durable\", \"durable\", \"e\", \"e\", \"e\", \"e\", \"e\", \"e\", \"e\", \"easily\", \"easily\", \"easily\", \"easily\", \"easily\", \"easily\", \"easily\", \"easily\", \"easily\", \"easy\", \"easy\", \"easy\", \"easy\", \"easy\", \"easy\", \"easy\", \"easy\", \"easy\", \"easy\", \"easy\", \"easy\", \"easy\", \"eat\", \"echo\", \"echo\", \"edit\", \"edition\", \"edition\", \"edition\", \"edition\", \"educational\", \"educational\", \"efficient\", \"effort\", \"elderly\", \"email\", \"email\", \"email\", \"encourage\", \"enjoy\", \"enjoy\", \"enjoy\", \"enjoy\", \"enjoy\", \"enjoy\", \"enjoy\", \"enjoy\", \"enjoy\", \"enjoy\", \"enjoy\", \"enjoy\", \"ensure\", \"entertain\", \"entertaining\", \"entire\", \"entire\", \"episode\", \"ereader\", \"etc\", \"etc\", \"etc\", \"etc\", \"etc\", \"etc\", \"etc\", \"etc\", \"etc\", \"etc\", \"etc\", \"event\", \"everyday\", \"everyday\", \"everyday\", \"everyday\", \"exceed\", \"excellent\", \"excellent\", \"excellent\", \"excellent\", \"excellent\", \"excellent\", \"excellent\", \"excellent\", \"excellent\", \"excellent\", \"exceptional\", \"exchange\", \"exchange\", \"exchange\", \"excited\", \"exit\", \"expect\", \"expect\", \"expect\", \"expect\", \"expect\", \"expect\", \"expectation\", \"expectation\", \"facebook\", \"facebook\", \"fact\", \"fact\", \"fact\", \"fact\", \"fact\", \"fact\", \"fact\", \"fact\", \"fact\", \"fair\", \"familiar\", \"family\", \"family\", \"family\", \"family\", \"family\", \"fancy\", \"far\", \"far\", \"far\", \"far\", \"far\", \"far\", \"far\", \"far\", \"far\", \"far\", \"far\", \"fast\", \"fast\", \"fast\", \"fast\", \"fast\", \"fast\", \"fast\", \"fast\", \"fast\", \"father\", \"father\", \"father\", \"fault\", \"feature\", \"feature\", \"feature\", \"feature\", \"feature\", \"feature\", \"feature\", \"feature\", \"feature\", \"fee\", \"feeling\", \"fight\", \"filter\", \"find\", \"find\", \"find\", \"find\", \"find\", \"find\", \"find\", \"find\", \"find\", \"find\", \"find\", \"fine\", \"fine\", \"fine\", \"fine\", \"fine\", \"fine\", \"fine\", \"fine\", \"fingertip\", \"fir\", \"fire\", \"fire\", \"fire\", \"fire\", \"fire\", \"fire\", \"fire\", \"fire\", \"fire\", \"fire\", \"fire\", \"fire\", \"fluid\", \"forth\", \"fraction\", \"free\", \"free\", \"free\", \"free\", \"free\", \"free\", \"free\", \"free\", \"freetime\", \"freetime\", \"frequent\", \"friday\", \"friday\", \"friday\", \"friend\", \"friend\", \"friend\", \"friendly\", \"friendly\", \"friendly\", \"frustrating\", \"fun\", \"fun\", \"fun\", \"fun\", \"fun\", \"functional\", \"functional\", \"fuss\", \"gadget\", \"gadget\", \"galaxy\", \"galaxy\", \"game\", \"game\", \"game\", \"game\", \"game\", \"game\", \"game\", \"gaming\", \"gb\", \"gb\", \"gb\", \"geek\", \"gen\", \"generation\", \"generation\", \"generation\", \"generation\", \"generic\", \"get\", \"get\", \"get\", \"get\", \"get\", \"get\", \"get\", \"get\", \"get\", \"get\", \"get\", \"get\", \"get\", \"gift\", \"gift\", \"gift\", \"gift\", \"girl\", \"girl\", \"glad\", \"glad\", \"glad\", \"glad\", \"glad\", \"glad\", \"glitch\", \"glitch\", \"go\", \"go\", \"go\", \"go\", \"go\", \"go\", \"go\", \"go\", \"go\", \"go\", \"go\", \"goal\", \"goo\", \"good\", \"good\", \"good\", \"good\", \"good\", \"good\", \"good\", \"good\", \"good\", \"good\", \"good\", \"good\", \"good\", \"good\", \"google\", \"google\", \"google\", \"grab\", \"grader\", \"grand\", \"grandchild\", \"grandchild\", \"grandchild\", \"granddaughter\", \"grandkid\", \"grandkid\", \"grandma\", \"grandmother\", \"grandparent\", \"grandson\", \"grandson\", \"great\", \"great\", \"great\", \"great\", \"great\", \"great\", \"great\", \"great\", \"great\", \"great\", \"great\", \"great\", \"great\", \"great\", \"greatly\", \"group\", \"group\", \"grow\", \"grow\", \"grow\", \"grow\", \"guarantee\", \"guard\", \"handle\", \"handle\", \"handle\", \"handy\", \"handy\", \"handy\", \"handy\", \"happen\", \"happy\", \"happy\", \"happy\", \"happy\", \"happy\", \"happy\", \"happy\", \"happy\", \"hasn\", \"hasn\", \"hasn\", \"hassle\", \"haven\", \"haven\", \"haven\", \"haven\", \"hd\", \"hd\", \"hd\", \"hd\", \"hd\", \"hd\", \"headphone\", \"help\", \"help\", \"help\", \"help\", \"help\", \"help\", \"help\", \"help\", \"help\", \"help\", \"help\", \"highly\", \"highly\", \"highly\", \"highly\", \"highly\", \"highly\", \"hold\", \"hold\", \"hold\", \"hold\", \"hold\", \"hold\", \"hold\", \"hold\", \"hold\", \"hold\", \"hold\", \"home\", \"home\", \"home\", \"home\", \"home\", \"home\", \"home\", \"home\", \"homework\", \"honest\", \"horrible\", \"hour\", \"hour\", \"hour\", \"hour\", \"hour\", \"hour\", \"hour\", \"hrs\", \"hulu\", \"husband\", \"husband\", \"husband\", \"icon\", \"ideal\", \"ideal\", \"impossible\", \"impossible\", \"impress\", \"impressive\", \"improvement\", \"improvement\", \"inappropriate\", \"inch\", \"inch\", \"inch\", \"include\", \"include\", \"include\", \"include\", \"include\", \"include\", \"include\", \"include\", \"include\", \"include\", \"incredible\", \"individual\", \"inexpensive\", \"inexpensive\", \"inexpensive\", \"inexpensive\", \"inexpensive\", \"input\", \"inside\", \"instagram\", \"instal\", \"instal\", \"instal\", \"instal\", \"install\", \"interest\", \"interest\", \"interface\", \"interface\", \"interface\", \"interface\", \"interface\", \"intermediate\", \"internal\", \"internet\", \"internet\", \"internet\", \"internet\", \"internet\", \"internet\", \"internet\", \"ipad\", \"ipad\", \"ipad\", \"ipad\", \"ipad\", \"ipad\", \"ipad\", \"ipad\", \"ipod\", \"ipod\", \"ish\", \"issue\", \"issue\", \"issue\", \"issue\", \"issue\", \"issue\", \"issue\", \"issue\", \"issue\", \"issue\", \"itune\", \"jump\", \"junk\", \"k\", \"keep\", \"keep\", \"keep\", \"keep\", \"keep\", \"keep\", \"keep\", \"keep\", \"keep\", \"key\", \"key\", \"keyboard\", \"keyboard\", \"kid\", \"kid\", \"kid\", \"kid\", \"kid\", \"kid\", \"kid\", \"killer\", \"kinda\", \"kindle\", \"kindle\", \"kindle\", \"kindle\", \"kindle\", \"kindle\", \"kindle\", \"kindle\", \"kindle\", \"kindle\", \"kindle\", \"kindle\", \"kindle\", \"know\", \"know\", \"know\", \"know\", \"know\", \"know\", \"know\", \"know\", \"know\", \"know\", \"know\", \"lack\", \"lack\", \"lack\", \"lack\", \"lap\", \"laptop\", \"laptop\", \"laptop\", \"laptop\", \"large\", \"large\", \"large\", \"large\", \"large\", \"large\", \"large\", \"last\", \"last\", \"last\", \"last\", \"last\", \"lately\", \"later\", \"later\", \"launcher\", \"law\", \"law\", \"law\", \"layout\", \"lead\", \"lead\", \"learn\", \"learn\", \"learn\", \"learn\", \"learn\", \"learn\", \"learn\", \"learn\", \"learning\", \"left\", \"left\", \"let\", \"let\", \"let\", \"let\", \"let\", \"library\", \"library\", \"library\", \"library\", \"life\", \"life\", \"life\", \"life\", \"life\", \"life\", \"life\", \"life\", \"light\", \"light\", \"light\", \"light\", \"light\", \"light\", \"light\", \"like\", \"like\", \"like\", \"like\", \"like\", \"like\", \"like\", \"like\", \"like\", \"like\", \"like\", \"like\", \"like\", \"like\", \"lil\", \"limit\", \"limit\", \"limit\", \"limit\", \"limit\", \"limit\", \"limited\", \"limited\", \"limited\", \"limited\", \"link\", \"link\", \"link\", \"link\", \"listen\", \"listen\", \"listen\", \"listen\", \"listen\", \"literally\", \"little\", \"little\", \"little\", \"little\", \"little\", \"little\", \"little\", \"little\", \"little\", \"little\", \"little\", \"little\", \"little\", \"ll\", \"ll\", \"ll\", \"ll\", \"ll\", \"load\", \"load\", \"load\", \"load\", \"load\", \"load\", \"loading\", \"locate\", \"log\", \"logic\", \"login\", \"long\", \"long\", \"long\", \"long\", \"long\", \"long\", \"long\", \"long\", \"long\", \"long\", \"look\", \"look\", \"look\", \"look\", \"look\", \"look\", \"look\", \"look\", \"look\", \"look\", \"look\", \"loose\", \"loose\", \"lot\", \"lot\", \"lot\", \"lot\", \"lot\", \"lot\", \"lot\", \"lot\", \"lot\", \"lot\", \"lot\", \"loud\", \"loud\", \"love\", \"love\", \"love\", \"love\", \"love\", \"love\", \"love\", \"love\", \"love\", \"love\", \"love\", \"love\", \"love\", \"loves\", \"low\", \"low\", \"low\", \"low\", \"low\", \"low\", \"low\", \"low\", \"low\", \"m\", \"m\", \"m\", \"m\", \"m\", \"m\", \"m\", \"m\", \"m\", \"m\", \"m\", \"m\", \"magenta\", \"mail\", \"mail\", \"mail\", \"main\", \"main\", \"main\", \"main\", \"manage\", \"manage\", \"maneuver\", \"manual\", \"match\", \"meet\", \"meet\", \"meet\", \"member\", \"member\", \"member\", \"member\", \"membership\", \"membership\", \"memory\", \"memory\", \"memory\", \"memory\", \"memory\", \"memory\", \"menu\", \"menu\", \"mess\", \"message\", \"micro\", \"micro\", \"micro\", \"minute\", \"minute\", \"mirror\", \"mm\", \"model\", \"model\", \"model\", \"modify\", \"mom\", \"mom\", \"mom\", \"money\", \"money\", \"money\", \"money\", \"money\", \"money\", \"money\", \"money\", \"month\", \"month\", \"month\", \"month\", \"month\", \"month\", \"month\", \"mother\", \"mother\", \"mother\", \"mother\", \"mouse\", \"movie\", \"movie\", \"music\", \"music\", \"music\", \"music\", \"music\", \"music\", \"n\", \"nabi\", \"native\", \"navigate\", \"navigate\", \"navigate\", \"navigate\", \"navigate\", \"nbc\", \"neat\", \"need\", \"need\", \"need\", \"need\", \"need\", \"need\", \"need\", \"need\", \"need\", \"need\", \"need\", \"need\", \"need\", \"need\", \"nephew\", \"nephew\", \"net\", \"netflix\", \"netflix\", \"new\", \"new\", \"new\", \"new\", \"new\", \"new\", \"new\", \"new\", \"new\", \"new\", \"new\", \"nexus\", \"nice\", \"nice\", \"nice\", \"nice\", \"nice\", \"nice\", \"nice\", \"nice\", \"nice\", \"nice\", \"nice\", \"nice\", \"nice\", \"niece\", \"night\", \"night\", \"night\", \"night\", \"night\", \"night\", \"november\", \"novice\", \"numerous\", \"o\", \"oasis\", \"oasis\", \"offer\", \"offer\", \"offer\", \"offer\", \"offer\", \"offline\", \"ok\", \"ok\", \"ok\", \"ok\", \"ok\", \"ok\", \"ok\", \"ok\", \"old\", \"old\", \"old\", \"old\", \"old\", \"old\", \"old\", \"old\", \"online\", \"online\", \"online\", \"online\", \"online\", \"online\", \"online\", \"opening\", \"original\", \"original\", \"original\", \"original\", \"os\", \"outer\", \"overall\", \"overall\", \"overall\", \"overall\", \"overall\", \"overall\", \"overall\", \"overall\", \"overall\", \"overall\", \"overall\", \"overnight\", \"overseas\", \"pad\", \"pad\", \"pad\", \"pad\", \"pad\", \"pad\", \"pad\", \"page\", \"page\", \"page\", \"page\", \"page\", \"page\", \"page\", \"pair\", \"pair\", \"pair\", \"paper\", \"paper\", \"paper\", \"par\", \"parent\", \"parent\", \"parent\", \"parent\", \"parental\", \"parental\", \"particular\", \"party\", \"pass\", \"pass\", \"password\", \"pay\", \"pay\", \"pay\", \"pay\", \"pay\", \"pay\", \"pay\", \"pc\", \"pc\", \"penny\", \"penny\", \"perfect\", \"perfect\", \"perfect\", \"perfect\", \"perfect\", \"perfect\", \"perfect\", \"perfect\", \"perfect\", \"perfectly\", \"perfectly\", \"perfectly\", \"perfectly\", \"perfectly\", \"perfectly\", \"phone\", \"phone\", \"phone\", \"phone\", \"phone\", \"phone\", \"phone\", \"phone\", \"phone\", \"phone\", \"phone\", \"phone\", \"photo\", \"photo\", \"photo\", \"photo\", \"photo\", \"pic\", \"pic\", \"picture\", \"picture\", \"picture\", \"picture\", \"picture\", \"picture\", \"picture\", \"picture\", \"pink\", \"play\", \"play\", \"play\", \"play\", \"play\", \"play\", \"play\", \"playing\", \"playstore\", \"pleasantly\", \"pleased\", \"pleased\", \"pleased\", \"pleased\", \"pleased\", \"plug\", \"plug\", \"plug\", \"plug\", \"plug\", \"plus\", \"plus\", \"plus\", \"plus\", \"plus\", \"plus\", \"plus\", \"plus\", \"plus\", \"plus\", \"policy\", \"pop\", \"port\", \"port\", \"portability\", \"portable\", \"portable\", \"portable\", \"portable\", \"portable\", \"power\", \"power\", \"power\", \"power\", \"powerful\", \"powerful\", \"powerful\", \"pre\", \"pre\", \"pre\", \"preloade\", \"present\", \"present\", \"present\", \"pressure\", \"pretty\", \"pretty\", \"pretty\", \"pretty\", \"pretty\", \"pretty\", \"pretty\", \"pretty\", \"pretty\", \"pretty\", \"previous\", \"previous\", \"previous\", \"previously\", \"price\", \"price\", \"price\", \"price\", \"price\", \"price\", \"price\", \"price\", \"price\", \"price\", \"price\", \"price\", \"price\", \"pricey\", \"primary\", \"prime\", \"prime\", \"prime\", \"prime\", \"prize\", \"probably\", \"probably\", \"probably\", \"probably\", \"probably\", \"probably\", \"problem\", \"problem\", \"problem\", \"problem\", \"problem\", \"problem\", \"problem\", \"problem\", \"problem\", \"problem\", \"problem\", \"processor\", \"product\", \"product\", \"product\", \"product\", \"product\", \"product\", \"product\", \"product\", \"product\", \"product\", \"product\", \"product\", \"product\", \"profile\", \"programming\", \"promise\", \"proof\", \"properly\", \"protect\", \"protect\", \"protect\", \"protection\", \"protection\", \"protection\", \"provide\", \"provide\", \"provide\", \"provide\", \"public\", \"punch\", \"purchase\", \"purchase\", \"purchase\", \"purchase\", \"purchase\", \"purchase\", \"purchase\", \"purchase\", \"purchase\", \"purchase\", \"purchase\", \"purchase\", \"purchase\", \"purchase\", \"purple\", \"purpose\", \"purpose\", \"purpose\", \"purse\", \"purse\", \"purse\", \"puzzle\", \"quality\", \"quality\", \"quality\", \"quality\", \"quality\", \"quality\", \"quality\", \"quality\", \"quality\", \"question\", \"question\", \"question\", \"question\", \"question\", \"quiet\", \"quirk\", \"quit\", \"raffle\", \"ram\", \"rate\", \"read\", \"read\", \"read\", \"read\", \"read\", \"read\", \"read\", \"read\", \"read\", \"read\", \"read\", \"read\", \"reader\", \"reader\", \"reader\", \"reader\", \"reader\", \"reader\", \"reading\", \"reading\", \"reading\", \"reading\", \"reading\", \"reasonable\", \"reasonable\", \"reasonably\", \"reasonably\", \"recipient\", \"recommend\", \"recommend\", \"recommend\", \"recommend\", \"recommend\", \"recommend\", \"recommend\", \"recommend\", \"recommend\", \"recommend\", \"recommend\", \"recommend\", \"red\", \"refund\", \"refurbish\", \"refuse\", \"refuse\", \"relate\", \"reliable\", \"reliable\", \"reliable\", \"reliable\", \"remote\", \"repair\", \"replace\", \"replace\", \"replace\", \"replace\", \"replace\", \"replace\", \"replace\", \"replace\", \"replacement\", \"replacement\", \"replacement\", \"replacement\", \"replacement\", \"replacement\", \"replacement\", \"replacement\", \"reset\", \"reset\", \"resolve\", \"rest\", \"rest\", \"restart\", \"restart\", \"rich\", \"road\", \"rock\", \"room\", \"room\", \"room\", \"room\", \"room\", \"room\", \"room\", \"root\", \"rubber\", \"rubber\", \"rugged\", \"rugged\", \"ruin\", \"run\", \"run\", \"run\", \"run\", \"run\", \"s\", \"s\", \"s\", \"s\", \"s\", \"s\", \"s\", \"s\", \"s\", \"s\", \"s\", \"s\", \"s\", \"s\", \"safe\", \"safe\", \"sale\", \"sale\", \"sale\", \"sale\", \"sale\", \"sale\", \"sale\", \"sale\", \"salesman\", \"samsung\", \"samsung\", \"samsung\", \"samsung\", \"samsung\", \"satisfied\", \"satisfied\", \"satisfied\", \"satisfied\", \"satisfy\", \"saver\", \"savvy\", \"scale\", \"school\", \"school\", \"school\", \"school\", \"screen\", \"screen\", \"screen\", \"screen\", \"screen\", \"screen\", \"screen\", \"screen\", \"screen\", \"screen\", \"screen\", \"screen\", \"screen\", \"sd\", \"sd\", \"sd\", \"second\", \"second\", \"second\", \"second\", \"second\", \"second\", \"section\", \"select\", \"senior\", \"sense\", \"serve\", \"service\", \"service\", \"service\", \"service\", \"service\", \"service\", \"service\", \"service\", \"service\", \"service\", \"set\", \"set\", \"set\", \"set\", \"set\", \"set\", \"set\", \"set\", \"set\", \"set\", \"set\", \"setting\", \"setting\", \"setting\", \"setting\", \"seven\", \"shopping\", \"shopping\", \"short\", \"short\", \"short\", \"short\", \"short\", \"shoulder\", \"show\", \"show\", \"show\", \"show\", \"show\", \"show\", \"show\", \"silk\", \"silk\", \"sister\", \"sister\", \"sister\", \"sister\", \"site\", \"site\", \"size\", \"size\", \"size\", \"size\", \"size\", \"size\", \"size\", \"size\", \"size\", \"size\", \"skype\", \"skype\", \"sleeve\", \"sleeve\", \"slim\", \"slim\", \"slot\", \"slot\", \"slot\", \"slow\", \"slow\", \"slow\", \"slow\", \"slow\", \"sluggish\", \"smart\", \"smart\", \"snap\", \"social\", \"solve\", \"son\", \"son\", \"son\", \"son\", \"sorry\", \"sort\", \"sort\", \"sound\", \"sound\", \"sound\", \"speaker\", \"speaker\", \"speaker\", \"speaker\", \"spec\", \"special\", \"spectacular\", \"speed\", \"speed\", \"speed\", \"speed\", \"squad\", \"st\", \"station\", \"steal\", \"storage\", \"storage\", \"storage\", \"storage\", \"storage\", \"store\", \"store\", \"store\", \"store\", \"store\", \"store\", \"store\", \"struggle\", \"study\", \"subscribe\", \"subscription\", \"substitute\", \"suck\", \"suggest\", \"suggest\", \"sunlight\", \"sunlight\", \"sunlight\", \"superb\", \"suppose\", \"suppose\", \"surf\", \"surf\", \"surfing\", \"surfing\", \"surprise\", \"surprise\", \"surprise\", \"switch\", \"switch\", \"t\", \"t\", \"t\", \"t\", \"t\", \"t\", \"t\", \"t\", \"t\", \"t\", \"t\", \"tab\", \"tab\", \"tab\", \"table\", \"table\", \"table\", \"tablet\", \"tablet\", \"tablet\", \"tablet\", \"tablet\", \"tablet\", \"tablet\", \"tablet\", \"tablet\", \"tablet\", \"tablet\", \"tablet\", \"take\", \"take\", \"take\", \"take\", \"take\", \"take\", \"take\", \"take\", \"take\", \"take\", \"take\", \"take\", \"talk\", \"talk\", \"talk\", \"tap\", \"teach\", \"tech\", \"tech\", \"tech\", \"teenage\", \"teenager\", \"television\", \"tendency\", \"terrific\", \"terrific\", \"textbook\", \"th\", \"th\", \"th\", \"thin\", \"thin\", \"thing\", \"thing\", \"thing\", \"thing\", \"thing\", \"thing\", \"thing\", \"thing\", \"thing\", \"thing\", \"thing\", \"thing\", \"thing\", \"think\", \"think\", \"think\", \"think\", \"think\", \"think\", \"think\", \"think\", \"think\", \"think\", \"think\", \"thinking\", \"tho\", \"thoroughly\", \"thought\", \"thought\", \"thrilled\", \"tie\", \"tie\", \"time\", \"time\", \"time\", \"time\", \"time\", \"time\", \"time\", \"time\", \"time\", \"time\", \"time\", \"time\", \"time\", \"time\", \"toddler\", \"ton\", \"ton\", \"ton\", \"tool\", \"tool\", \"totally\", \"totally\", \"tote\", \"town\", \"track\", \"trade\", \"train\", \"transition\", \"travel\", \"travel\", \"travel\", \"travel\", \"travel\", \"travel\", \"trick\", \"trip\", \"trip\", \"trip\", \"try\", \"try\", \"try\", \"try\", \"try\", \"try\", \"try\", \"try\", \"tube\", \"turn\", \"turn\", \"turn\", \"turn\", \"turn\", \"turn\", \"turn\", \"turn\", \"tutorial\", \"tvs\", \"tween\", \"twice\", \"type\", \"type\", \"typical\", \"u\", \"u\", \"unit\", \"unit\", \"unit\", \"unit\", \"unit\", \"unlimited\", \"unlimited\", \"unlimited\", \"up\", \"upgrade\", \"upgrade\", \"upgrade\", \"usb\", \"usb\", \"usb\", \"use\", \"use\", \"use\", \"use\", \"use\", \"use\", \"use\", \"use\", \"use\", \"use\", \"use\", \"use\", \"use\", \"use\", \"useless\", \"user\", \"user\", \"user\", \"user\", \"user\", \"value\", \"value\", \"value\", \"ve\", \"ve\", \"ve\", \"ve\", \"ve\", \"ve\", \"ve\", \"ve\", \"ve\", \"ve\", \"ve\", \"versatile\", \"versatile\", \"versatility\", \"version\", \"version\", \"version\", \"version\", \"version\", \"version\", \"version\", \"version\", \"version\", \"version\", \"vibrant\", \"video\", \"video\", \"video\", \"video\", \"video\", \"view\", \"view\", \"view\", \"vision\", \"voice\", \"voice\", \"void\", \"voyage\", \"voyage\", \"voyage\", \"voyager\", \"vs\", \"vs\", \"vs\", \"wake\", \"wall\", \"want\", \"want\", \"want\", \"want\", \"want\", \"want\", \"want\", \"want\", \"want\", \"want\", \"want\", \"want\", \"want\", \"want\", \"warranty\", \"warranty\", \"warranty\", \"watch\", \"watch\", \"watch\", \"weak\", \"weak\", \"wear\", \"wear\", \"wear\", \"weather\", \"weather\", \"web\", \"web\", \"web\", \"web\", \"web\", \"web\", \"weekend\", \"weigh\", \"weigh\", \"weight\", \"weight\", \"weight\", \"weight\", \"well\", \"well\", \"well\", \"well\", \"well\", \"well\", \"well\", \"well\", \"well\", \"well\", \"well\", \"well\", \"well\", \"weren\", \"whistle\", \"white\", \"white\", \"white\", \"wife\", \"wife\", \"wife\", \"wife\", \"wife\", \"win\", \"win\", \"win\", \"wise\", \"wish\", \"wish\", \"wish\", \"wish\", \"wish\", \"wish\", \"wish\", \"wish\", \"wonder\", \"wonderfully\", \"work\", \"work\", \"work\", \"work\", \"work\", \"work\", \"work\", \"work\", \"work\", \"work\", \"work\", \"work\", \"work\", \"work\", \"worried\", \"worry\", \"worry\", \"worry\", \"worry\", \"worth\", \"worth\", \"worth\", \"worth\", \"worth\", \"worth\", \"worth\", \"worth\", \"worth\", \"worthless\", \"wouldn\", \"wouldn\", \"wouldn\", \"write\", \"write\", \"wrong\", \"wrong\", \"wrong\", \"wrong\", \"wrong\", \"xma\", \"xmas\", \"year\", \"year\", \"year\", \"year\", \"year\", \"year\", \"yo\", \"yo\", \"young\", \"young\", \"youtube\", \"youtube\", \"youtube\", \"yr\"]}, \"R\": 30, \"lambda.step\": 0.01, \"plot.opts\": {\"xlab\": \"PC1\", \"ylab\": \"PC2\"}, \"topic.order\": [12, 7, 13, 11, 4, 10, 6, 5, 1, 2, 9, 14, 8, 3]};\n",
       "\n",
       "function LDAvis_load_lib(url, callback){\n",
       "  var s = document.createElement('script');\n",
       "  s.src = url;\n",
       "  s.async = true;\n",
       "  s.onreadystatechange = s.onload = callback;\n",
       "  s.onerror = function(){console.warn(\"failed to load library \" + url);};\n",
       "  document.getElementsByTagName(\"head\")[0].appendChild(s);\n",
       "}\n",
       "\n",
       "if(typeof(LDAvis) !== \"undefined\"){\n",
       "   // already loaded: just create the visualization\n",
       "   !function(LDAvis){\n",
       "       new LDAvis(\"#\" + \"ldavis_el231621402240437648168621254401\", ldavis_el231621402240437648168621254401_data);\n",
       "   }(LDAvis);\n",
       "}else if(typeof define === \"function\" && define.amd){\n",
       "   // require.js is available: use it to load d3/LDAvis\n",
       "   require.config({paths: {d3: \"https://d3js.org/d3.v5\"}});\n",
       "   require([\"d3\"], function(d3){\n",
       "      window.d3 = d3;\n",
       "      LDAvis_load_lib(\"https://cdn.jsdelivr.net/gh/bmabey/pyLDAvis@3.3.1/pyLDAvis/js/ldavis.v3.0.0.js\", function(){\n",
       "        new LDAvis(\"#\" + \"ldavis_el231621402240437648168621254401\", ldavis_el231621402240437648168621254401_data);\n",
       "      });\n",
       "    });\n",
       "}else{\n",
       "    // require.js not available: dynamically load d3 & LDAvis\n",
       "    LDAvis_load_lib(\"https://d3js.org/d3.v5.js\", function(){\n",
       "         LDAvis_load_lib(\"https://cdn.jsdelivr.net/gh/bmabey/pyLDAvis@3.3.1/pyLDAvis/js/ldavis.v3.0.0.js\", function(){\n",
       "                 new LDAvis(\"#\" + \"ldavis_el231621402240437648168621254401\", ldavis_el231621402240437648168621254401_data);\n",
       "            })\n",
       "         });\n",
       "}\n",
       "</script>"
      ],
      "text/plain": [
       "PreparedData(topic_coordinates=              x         y  topics  cluster       Freq\n",
       "topic                                                \n",
       "11    -0.023490  0.043069       1        1  13.094665\n",
       "6     -0.107764  0.164582       2        1   9.210616\n",
       "12    -0.226164 -0.021392       3        1   9.042624\n",
       "10    -0.212278  0.016150       4        1   8.939860\n",
       "3     -0.054194 -0.124613       5        1   8.773961\n",
       "9      0.126899 -0.029864       6        1   7.754387\n",
       "5     -0.180863 -0.087722       7        1   7.395531\n",
       "4      0.030942 -0.031623       8        1   6.336153\n",
       "0     -0.002844 -0.138528       9        1   6.244000\n",
       "1      0.065694  0.177534      10        1   5.957922\n",
       "8      0.086277  0.047714      11        1   5.188304\n",
       "13     0.111345  0.172078      12        1   5.178466\n",
       "7      0.190299 -0.155374      13        1   3.625831\n",
       "2      0.196142 -0.032011      14        1   3.257680, topic_info=         Term         Freq        Total Category  logprob  loglift\n",
       "1297      kid  1990.000000  1990.000000  Default  30.0000  30.0000\n",
       "135      year  1424.000000  1424.000000  Default  29.0000  29.0000\n",
       "126         t  2108.000000  2108.000000  Default  28.0000  28.0000\n",
       "99        old  1695.000000  1695.000000  Default  27.0000  27.0000\n",
       "959    kindle  2221.000000  2221.000000  Default  26.0000  26.0000\n",
       "...       ...          ...          ...      ...      ...      ...\n",
       "2       great    47.321415  4070.682330  Topic14  -4.7824  -1.0304\n",
       "111   product    40.210925  1164.148102  Topic14  -4.9453   0.0585\n",
       "53     amazon    39.023943  1905.237677  Topic14  -4.9752  -0.4640\n",
       "979     phone    30.183264   290.167417  Topic14  -5.2321   1.1610\n",
       "226       buy    31.159270  2945.244772  Topic14  -5.2003  -1.1247\n",
       "\n",
       "[959 rows x 6 columns], token_table=      Topic      Freq     Term\n",
       "term                          \n",
       "896       1  0.048978     able\n",
       "896       2  0.268092     able\n",
       "896       3  0.170135     able\n",
       "896       4  0.046400     able\n",
       "896       5  0.095379     able\n",
       "...     ...       ...      ...\n",
       "1307      4  0.928377    young\n",
       "1457      1  0.099655  youtube\n",
       "1457      2  0.544272  youtube\n",
       "1457     10  0.344961  youtube\n",
       "1435      3  0.993007       yr\n",
       "\n",
       "[2502 rows x 3 columns], R=30, lambda_step=0.01, plot_opts={'xlab': 'PC1', 'ylab': 'PC2'}, topic_order=[12, 7, 13, 11, 4, 10, 6, 5, 1, 2, 9, 14, 8, 3])"
      ]
     },
     "execution_count": 30,
     "metadata": {},
     "output_type": "execute_result"
    }
   ],
   "source": [
    "# plot your topics here\n",
    "pyLDAvis.enable_notebook()\n",
    "vis = pyLDAvis.gensim_models.prepare(lda_trained_model, corpus, id2word)\n",
    "vis"
   ]
  },
  {
   "cell_type": "markdown",
   "metadata": {},
   "source": [
    "## Create a Topic id/name dictionary \n",
    "\n",
    "When populating your topic id/name dictionary, use the index ordering as shown in the viz tool. \n",
    "\n",
    "We'll use a function to map the the viz tool index ordering with the train LDA model ordering. "
   ]
  },
  {
   "cell_type": "code",
   "execution_count": 32,
   "metadata": {
    "deletable": false,
    "nbgrader": {
     "cell_type": "code",
     "checksum": "fc10e9728e5dcf06baf0800c3cdb88ce",
     "grade": false,
     "grade_id": "cell-4905c0c1050f0d03",
     "locked": false,
     "schema_version": 3,
     "solution": true,
     "task": false
    }
   },
   "outputs": [
    {
     "name": "stderr",
     "output_type": "stream",
     "text": [
      "/opt/conda/lib/python3.7/site-packages/ipykernel/ipkernel.py:283: DeprecationWarning: `should_run_async` will not call `transform_cell` automatically in the future. Please pass the result to `transformed_cell` argument and any exception that happen during thetransform in `preprocessing_exc_tuple` in IPython 7.17 and above.\n",
      "  and should_run_async(code)\n"
     ]
    }
   ],
   "source": [
    "# create a dictionary \n",
    "# keys - use topic ids from pyLDAvis visualization \n",
    "# values - topic names that you create \n",
    "# save dictionary to `vis_topic_name_dict`\n",
    "\n",
    "vis_topic_name_dict = {\n",
    "    1: \"Great\",\n",
    "    2: \"Amazon Video\",\n",
    "    3: \"Birthday\",\n",
    "    4: \"Family\",\n",
    "    5: \"Kindle\",\n",
    "    6: \"Problems\",\n",
    "    7: \"Quality\",\n",
    "    8: \"School\",\n",
    "    9: \"Gifts\",\n",
    "    10: \"Store\",\n",
    "    11: \"Audio\",\n",
    "    12: \"Membership\",\n",
    "    13: \"Work\",\n",
    "    14: \"Office\"\n",
    "}"
   ]
  },
  {
   "cell_type": "code",
   "execution_count": 33,
   "metadata": {},
   "outputs": [
    {
     "name": "stderr",
     "output_type": "stream",
     "text": [
      "/opt/conda/lib/python3.7/site-packages/ipykernel/ipkernel.py:283: DeprecationWarning: `should_run_async` will not call `transform_cell` automatically in the future. Please pass the result to `transformed_cell` argument and any exception that happen during thetransform in `preprocessing_exc_tuple` in IPython 7.17 and above.\n",
      "  and should_run_async(code)\n"
     ]
    }
   ],
   "source": [
    "def get_topic_id_lookup_dict(vis, vis_topic_name_dict):\n",
    "    \"\"\"\n",
    "    Both the starting index and the ordering of topic ids bewteen the trained LDA model \n",
    "    and the viz tool are different. So we need to create a look up dictionary that maps \n",
    "    the correct association between topic ids from both sources. \n",
    "    \"\"\"\n",
    "    # value is order of topic ids accoridng to pyLDAvis tool \n",
    "    # key is order of topic ids according to lda model\n",
    "    model_vis_tool_topic_id_lookup = vis.topic_coordinates.topics.to_dict()\n",
    "\n",
    "    # invert dictionary so that \n",
    "    # key is order of topic ids accoridng to pyLDAvis tool \n",
    "    # value is order of topic ids according to lda model\n",
    "    topic_id_lookup =  {v:k for k, v in model_vis_tool_topic_id_lookup.items()}\n",
    "    \n",
    "    return {v:vis_topic_name_dict[k]  for k, v in topic_id_lookup.items()}"
   ]
  },
  {
   "cell_type": "code",
   "execution_count": null,
   "metadata": {
    "deletable": false,
    "nbgrader": {
     "cell_type": "code",
     "checksum": "55f23aa9324a225091037f0c5daf2192",
     "grade": false,
     "grade_id": "cell-d38acb7b250b4079",
     "locked": false,
     "schema_version": 3,
     "solution": true,
     "task": false
    }
   },
   "outputs": [],
   "source": [
    "# YOUR CODE HERE\n",
    "raise NotImplementedError()"
   ]
  },
  {
   "cell_type": "markdown",
   "metadata": {},
   "source": [
    "## Assign Each Document a Topic Name\n",
    "\n",
    "Now that we have a topic id/name look up dict that is aligned with the index ordering of the trained LDA model, we can move forward to giving each topic a topic name. \n",
    "\n",
    "The function below has been given to you. However, you highly encouraged to read through it and make sure that you understand what it is doing each step of the way. In fact, a good way to do this is to copy and paste the code inside of the function into a new cell, comment out all the lines of code and line by line, uncomment the code and see the output. "
   ]
  },
  {
   "cell_type": "code",
   "execution_count": 34,
   "metadata": {},
   "outputs": [
    {
     "name": "stderr",
     "output_type": "stream",
     "text": [
      "/opt/conda/lib/python3.7/site-packages/ipykernel/ipkernel.py:283: DeprecationWarning: `should_run_async` will not call `transform_cell` automatically in the future. Please pass the result to `transformed_cell` argument and any exception that happen during thetransform in `preprocessing_exc_tuple` in IPython 7.17 and above.\n",
      "  and should_run_async(code)\n"
     ]
    }
   ],
   "source": [
    "def get_topic_ids_for_docs(lda_model, corpus):\n",
    "    \n",
    "    \"\"\"\n",
    "    Passes a Bag-of-Words vector into a trained LDA model in order to get the topic id of that document. \n",
    "    \n",
    "    Parameters\n",
    "    ----------\n",
    "    lda_model: Gensim object\n",
    "        Must be a trained model \n",
    "        \n",
    "    corpus: nested lists of tuples, \n",
    "        i.e. [[(),(), ..., ()], [(),(), ..., ()], ..., [(),(), ..., ()]]\n",
    "        \n",
    "    Returns\n",
    "    -------\n",
    "    topic_id_list: list\n",
    "        Contains topic ids for all document vectors in corpus \n",
    "    \"\"\"\n",
    "    \n",
    "    # store topic ids for each document\n",
    "    doc_topic_ids = []\n",
    "\n",
    "    # iterature through the bow vectors for each doc\n",
    "    for doc_bow in corpus:\n",
    "        \n",
    "        # store the topic ids for the doc\n",
    "        topic_ids = []\n",
    "        # store the topic probabilities for the doc\n",
    "        topic_probs = []\n",
    "\n",
    "        # list of tuples\n",
    "        # each tuple has a topic id and the prob that the doc belongs to that topic \n",
    "        topic_id_prob_tuples = lda_trained_model.get_document_topics(doc_bow)\n",
    "        \n",
    "        # iterate through the topic id/prob pairs \n",
    "        for topic_id_prob in topic_id_prob_tuples:\n",
    "            \n",
    "            # index for topic id\n",
    "            topic_id = topic_id_prob[0]\n",
    "            # index for prob that doc belongs that the corresponding topic\n",
    "            topic_prob = topic_id_prob[1]\n",
    "\n",
    "            # store all topic ids for doc\n",
    "            topic_ids.append(topic_id)\n",
    "            # store all topic probs for doc\n",
    "            topic_probs.append(topic_prob)\n",
    "\n",
    "        # get index for largest prob score\n",
    "        max_topic_prob_ind = np.argmax(topic_probs)\n",
    "        # get corresponding topic id\n",
    "        max_prob_topic_id = topic_ids[max_topic_prob_ind]\n",
    "        # store topic id that had the highest prob for doc being a memebr of that topic\n",
    "        doc_topic_ids.append(max_prob_topic_id)\n",
    "        \n",
    "    return doc_topic_ids"
   ]
  },
  {
   "cell_type": "code",
   "execution_count": 46,
   "metadata": {
    "deletable": false,
    "nbgrader": {
     "cell_type": "code",
     "checksum": "09f2b8ebaf696dc05187cecce8c9e251",
     "grade": false,
     "grade_id": "cell-e28e8774a79ac647",
     "locked": false,
     "schema_version": 3,
     "solution": true,
     "task": false
    }
   },
   "outputs": [
    {
     "name": "stderr",
     "output_type": "stream",
     "text": [
      "/opt/conda/lib/python3.7/site-packages/ipykernel/ipkernel.py:283: DeprecationWarning: `should_run_async` will not call `transform_cell` automatically in the future. Please pass the result to `transformed_cell` argument and any exception that happen during thetransform in `preprocessing_exc_tuple` in IPython 7.17 and above.\n",
      "  and should_run_async(code)\n",
      "/opt/conda/lib/python3.7/site-packages/ipykernel_launcher.py:11: SettingWithCopyWarning: \n",
      "A value is trying to be set on a copy of a slice from a DataFrame.\n",
      "Try using .loc[row_indexer,col_indexer] = value instead\n",
      "\n",
      "See the caveats in the documentation: https://pandas.pydata.org/pandas-docs/stable/user_guide/indexing.html#returning-a-view-versus-a-copy\n",
      "  # This is added back by InteractiveShellApp.init_path()\n"
     ]
    }
   ],
   "source": [
    "\n",
    "# use get_topic_ids_for_docs get the topic id for each doc in the corpus - save result to `doc_topic_ids`\n",
    "\n",
    "# create a new feature in df_electronics called topic_id using `doc_topic_ids`\n",
    "\n",
    "# iterate through topic_id and use the lookup dict `topic_name_dict` to assign each document a topic name\n",
    "# save results to a new feature in df_electronics called `new_topic_name`\n",
    "\n",
    "# YOUR CODE HERE\n",
    "doc_topic_ids = get_topic_ids_for_docs(lda_trained_model, corpus)\n",
    "\n",
    "df_electronics['topic_id'] = doc_topic_ids\n",
    "\n",
    "# df_electronics['new_topic_name'] = [vis_topic_name_dict[topic] for topic in df_electronics['topic_id'] if (df_electronics['topic_id'].isin(vis_topic_name_dict))]"
   ]
  },
  {
   "cell_type": "code",
   "execution_count": 43,
   "metadata": {},
   "outputs": [
    {
     "name": "stderr",
     "output_type": "stream",
     "text": [
      "/opt/conda/lib/python3.7/site-packages/ipykernel/ipkernel.py:283: DeprecationWarning: `should_run_async` will not call `transform_cell` automatically in the future. Please pass the result to `transformed_cell` argument and any exception that happen during thetransform in `preprocessing_exc_tuple` in IPython 7.17 and above.\n",
      "  and should_run_async(code)\n"
     ]
    },
    {
     "data": {
      "text/plain": [
       "dtype('int64')"
      ]
     },
     "execution_count": 43,
     "metadata": {},
     "output_type": "execute_result"
    }
   ],
   "source": [
    "df_electronics['topic_id'].iloc[0].dtype"
   ]
  },
  {
   "cell_type": "markdown",
   "metadata": {},
   "source": [
    "## Congratulations! You have created new topic names for your documents. "
   ]
  },
  {
   "cell_type": "code",
   "execution_count": null,
   "metadata": {},
   "outputs": [],
   "source": [
    "cols = [\"reviews.text\", \"new_topic_name\"]\n",
    "df_electronics[cols].head()"
   ]
  },
  {
   "cell_type": "markdown",
   "metadata": {},
   "source": [
    "-----\n",
    "# Stretch Goals\n",
    "\n",
    "- Treat `new_topic_name` as a Y vector and train a supervised learning model to predict the topic of each document"
   ]
  }
 ],
 "metadata": {
  "environment": {
   "name": "common-cpu.m71",
   "type": "gcloud",
   "uri": "gcr.io/deeplearning-platform-release/base-cpu:m71"
  },
  "kernelspec": {
   "display_name": "Python 3",
   "language": "python",
   "name": "python3"
  },
  "language_info": {
   "codemirror_mode": {
    "name": "ipython",
    "version": 3
   },
   "file_extension": ".py",
   "mimetype": "text/x-python",
   "name": "python",
   "nbconvert_exporter": "python",
   "pygments_lexer": "ipython3",
   "version": "3.7.10"
  }
 },
 "nbformat": 4,
 "nbformat_minor": 4
}
